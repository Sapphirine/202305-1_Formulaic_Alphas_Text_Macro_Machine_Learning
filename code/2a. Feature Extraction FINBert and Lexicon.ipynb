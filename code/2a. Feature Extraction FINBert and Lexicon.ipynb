{
 "cells": [
  {
   "cell_type": "markdown",
   "id": "be72e1cb",
   "metadata": {},
   "source": [
    "# FinBERT and Lexicon for New York Times, US News, Analyst News"
   ]
  },
  {
   "cell_type": "code",
   "execution_count": 1,
   "id": "4fde15d6",
   "metadata": {},
   "outputs": [],
   "source": [
    "from transformers import BertForSequenceClassification, BertTokenizer\n",
    "import torch\n",
    "tokenizer = BertTokenizer.from_pretrained('ProsusAI/finbert')\n",
    "\n",
    "model = BertForSequenceClassification.from_pretrained('ProsusAI/finbert')"
   ]
  },
  {
   "cell_type": "code",
   "execution_count": 2,
   "id": "7f8b75bc",
   "metadata": {},
   "outputs": [],
   "source": [
    "import matplotlib.pyplot as plt\n",
    "import pandas as pd"
   ]
  },
  {
   "cell_type": "markdown",
   "id": "42717be0",
   "metadata": {},
   "source": [
    "# Sentiment Analysis Example Using FinBERT"
   ]
  },
  {
   "cell_type": "code",
   "execution_count": 3,
   "id": "10ae8bd9",
   "metadata": {},
   "outputs": [],
   "source": [
    "def predict_sentiment(text):\n",
    "    tokens = tokenizer.encode_plus(text, add_special_tokens=False)\n",
    "    \n",
    "    if len(tokens['input_ids']) == 0:\n",
    "        # Edge case, if no tokens, return probabilities with neutral probability=1\n",
    "        return [0, 0, 1]\n",
    "    \n",
    "    # Maximum length of 510\n",
    "    maximum_length = 510\n",
    "    input_ids = tokens['input_ids'][:maximum_length]\n",
    "    attention_mask = tokens['attention_mask'][:maximum_length]\n",
    "\n",
    "    # 2 => Append [CLS] and [SEP], these are unique identifiers\n",
    "    input_ids_chunk = [101] + input_ids + [102]\n",
    "    attention_mask_chunk = [1] + attention_mask + [1]\n",
    "\n",
    "    input_dict = {\n",
    "        'input_ids' : torch.Tensor([input_ids_chunk]).long(),\n",
    "        'attention_mask' : torch.Tensor([attention_mask_chunk]).int()\n",
    "    }\n",
    "    \n",
    "    outputs = model(**input_dict)\n",
    "    probabilities = torch.nn.functional.softmax(outputs[0], dim = -1)\n",
    "    return probabilities.detach().numpy()[0]"
   ]
  },
  {
   "cell_type": "code",
   "execution_count": 4,
   "id": "c19fff97",
   "metadata": {},
   "outputs": [
    {
     "data": {
      "image/png": "[encoded data removed]",
      "text/plain": [
       "<Figure size 576x144 with 1 Axes>"
      ]
     },
     "metadata": {
      "needs_background": "light"
     },
     "output_type": "display_data"
    },
    {
     "data": {
      "image/png": "[encoded data removed]",
      "text/plain": [
       "<Figure size 576x144 with 1 Axes>"
      ]
     },
     "metadata": {
      "needs_background": "light"
     },
     "output_type": "display_data"
    },
    {
     "data": {
      "image/png": "[encoded data removed]",
      "text/plain": [
       "<Figure size 576x144 with 1 Axes>"
      ]
     },
     "metadata": {
      "needs_background": "light"
     },
     "output_type": "display_data"
    }
   ],
   "source": [
    "test_list = [\"Meta share price soars on earnings beat\", \n",
    "             \"Meta share price sinks due to uncertain outlook\", \n",
    "             \"Goldman reiterates neutral on Meta\"]\n",
    "\n",
    "for txt in test_list:\n",
    "    probabilities = predict_sentiment(txt)\n",
    "    \n",
    "    plt.figure(figsize=(8,2))\n",
    "    pd.Series(probabilities, index=[\"finbert_positive\", \"finbert_negative\", \"finbert_neutral\"]).plot(kind=\"bar\")\n",
    "    plt.xticks(rotation=0)\n",
    "    plt.title(f\"FinBERT Sentiment of '{txt}'\")\n",
    "    plt.ylabel(\"Score (0-1)\")"
   ]
  },
  {
   "cell_type": "code",
   "execution_count": null,
   "id": "d80638e9",
   "metadata": {},
   "outputs": [],
   "source": []
  },
  {
   "cell_type": "markdown",
   "id": "7dc8bfaa",
   "metadata": {},
   "source": [
    "# Lexicon Method of Feature Extraction"
   ]
  },
  {
   "cell_type": "code",
   "execution_count": 5,
   "id": "508e5719",
   "metadata": {},
   "outputs": [],
   "source": [
    "# If a word is considered a certain type (positive, negative etc)\n",
    "# The row will contain the year that it was added into the dictionary\n",
    "# So we use > 0 to get all the words\n",
    "loughran_macdonald = pd.read_csv(\"../data/Loughran-McDonald_MasterDictionary_1993-2021.csv\")\n",
    "negative_words = set(loughran_macdonald.loc[loughran_macdonald.Negative > 0, \"Word\"].str.lower().values)\n",
    "positive_words = set(loughran_macdonald.loc[loughran_macdonald.Positive > 0, \"Word\"].str.lower().values)\n",
    "uncertain_words = set(loughran_macdonald.loc[loughran_macdonald.Uncertainty > 0, \"Word\"].str.lower().values)\n",
    "litigious_words = set(loughran_macdonald.loc[loughran_macdonald.Litigious > 0, \"Word\"].str.lower().values)\n",
    "strong_modal_words = set(loughran_macdonald.loc[loughran_macdonald.Strong_Modal > 0, \"Word\"].str.lower().values)\n",
    "weak_modal_words = set(loughran_macdonald.loc[loughran_macdonald.Weak_Modal > 0, \"Word\"].str.lower().values)"
   ]
  },
  {
   "cell_type": "code",
   "execution_count": 6,
   "id": "704aad2f",
   "metadata": {},
   "outputs": [],
   "source": [
    "# Helper function to find word counts\n",
    "def find_word_count(text, dictionary):\n",
    "    text = text.split(\" \")\n",
    "    count = 0\n",
    "    for word in text:\n",
    "        if word in dictionary:\n",
    "            count += 1\n",
    "    return count\n",
    "\n",
    "def get_all_word_counts(df, text_col_name):\n",
    "    \n",
    "    negative_words_count = df[text_col_name].str.lower().apply(lambda text: find_word_count(text, negative_words))\n",
    "    df[\"lmd_negative_words_count\"] = negative_words_count\n",
    "    \n",
    "    positive_words_count = df[text_col_name].str.lower().apply(lambda text: find_word_count(text, positive_words))\n",
    "    df[\"lmd_positive_words_count\"] = positive_words_count\n",
    "    \n",
    "    uncertain_words_count = df[text_col_name].str.lower().apply(lambda text: find_word_count(text, uncertain_words))\n",
    "    df[\"lmd_uncertain_words_count\"] = uncertain_words_count\n",
    "    \n",
    "    litigious_words_count = df[text_col_name].str.lower().apply(lambda text: find_word_count(text, litigious_words))\n",
    "    df[\"lmd_litigious_words_count\"] = litigious_words_count\n",
    "    \n",
    "    strong_modal_words_count = df[text_col_name].str.lower().apply(lambda text: find_word_count(text, strong_modal_words))\n",
    "    df[\"lmd_strong_modal_words_count\"] = strong_modal_words_count\n",
    "    \n",
    "    weak_modal_words_count = df[text_col_name].str.lower().apply(lambda text: find_word_count(text, weak_modal_words))\n",
    "    df[\"lmd_weak_modal_words_count\"] = weak_modal_words_count\n",
    "    \n",
    "    return df"
   ]
  },
  {
   "cell_type": "code",
   "execution_count": 7,
   "id": "8bb1c936",
   "metadata": {},
   "outputs": [
    {
     "data": {
      "text/plain": [
       "1"
      ]
     },
     "execution_count": 7,
     "metadata": {},
     "output_type": "execute_result"
    }
   ],
   "source": [
    "find_word_count(\"Meta has come under fire due to lawsuits\", litigious_words)"
   ]
  },
  {
   "cell_type": "code",
   "execution_count": null,
   "id": "7ae8cf8c",
   "metadata": {},
   "outputs": [],
   "source": []
  },
  {
   "cell_type": "markdown",
   "id": "7ed64cbe",
   "metadata": {},
   "source": [
    "# New York Times"
   ]
  },
  {
   "cell_type": "code",
   "execution_count": 10,
   "id": "42a27a91",
   "metadata": {},
   "outputs": [
    {
     "data": {
      "application/vnd.jupyter.widget-view+json": {
       "model_id": "66ae0c02eddc489a8861b396adc753c0",
       "version_major": 2,
       "version_minor": 0
      },
      "text/plain": [
       "  0%|          | 0/736 [00:00<?, ?it/s]"
      ]
     },
     "metadata": {},
     "output_type": "display_data"
    }
   ],
   "source": [
    "from tqdm.notebook import tqdm\n",
    "from pathlib import Path\n",
    "\n",
    "from pynytimes import NYTAPI\n",
    "import numpy as np\n",
    "import pandas as pd\n",
    "\n",
    "nyt_query_helper = pd.read_csv(\"../data/nyt_query_helper.csv\")\n",
    "nyt_query_helper.head()\n",
    "\n",
    "for i in tqdm(range(len(nyt_query_helper))):\n",
    "    row = nyt_query_helper.iloc[i]\n",
    "    ticker = row[\"Symbol\"]\n",
    "    path = Path(f\"../data/new_york_times/company/{ticker}.csv\")\n",
    "    new_save_path = Path(f\"../data/new_york_times/company_processed/{ticker}.csv\")\n",
    "    \n",
    "    curr_df = pd.read_csv(path)\n",
    "    \n",
    "    if len(curr_df) == 0:\n",
    "        curr_df.to_csv(new_save_path, index=False)\n",
    "        continue\n",
    "        \n",
    "    curr_df = curr_df.drop(columns=\"Unnamed: 0\")\n",
    "    \n",
    "    # Headline is json, evaluate and get the main headline\n",
    "    curr_df[\"main_headline\"] = curr_df[\"headline\"].apply(lambda x:eval(x)[\"main\"])\n",
    "    \n",
    "    # Get finbert sentiment using pre defined sentiment\n",
    "    finbert_sentiment = curr_df.main_headline.apply(lambda x: predict_sentiment(x)).values\n",
    "    finbert_sentiment = pd.DataFrame(list(list(x) for x in finbert_sentiment))\n",
    "    finbert_sentiment.columns = [\"finbert_positive\", \"finbert_negative\", \"finbert_neutral\"]\n",
    "    \n",
    "    curr_df = pd.concat([curr_df, finbert_sentiment],axis=1)\n",
    "    \n",
    "    curr_df = get_all_word_counts(curr_df, \"main_headline\")\n",
    "    # Lastly, save\n",
    "    curr_df.to_csv(new_save_path, index=False)"
   ]
  },
  {
   "cell_type": "code",
   "execution_count": null,
   "id": "6149b6b4",
   "metadata": {},
   "outputs": [],
   "source": []
  },
  {
   "cell_type": "markdown",
   "id": "b7d93d5e",
   "metadata": {},
   "source": [
    "# US News"
   ]
  },
  {
   "cell_type": "code",
   "execution_count": 13,
   "id": "95df0142",
   "metadata": {},
   "outputs": [],
   "source": [
    "us_equities_news_dataset = pd.read_csv(\"../data/other_news/us_equities_news_dataset.csv\")\n",
    "us_equities_news_dataset = get_all_word_counts(us_equities_news_dataset, \"title\")\n",
    "finbert_sentiment = us_equities_news_dataset.title.apply(lambda x: predict_sentiment(x)).values\n",
    "finbert_sentiment = pd.DataFrame(list(list(x) for x in finbert_sentiment))\n",
    "finbert_sentiment.columns = [\"finbert_positive\", \"finbert_negative\", \"finbert_neutral\"]\n",
    "us_equities_news_dataset = pd.concat([us_equities_news_dataset, finbert_sentiment],axis=1)\n",
    "us_equities_news_dataset.to_csv(\"../data/other_news/us_equities_news_dataset_processed.csv\", index=False)"
   ]
  },
  {
   "cell_type": "code",
   "execution_count": null,
   "id": "d2426af8",
   "metadata": {},
   "outputs": [],
   "source": []
  },
  {
   "cell_type": "markdown",
   "id": "d4a62a7f",
   "metadata": {},
   "source": [
    "# Analyst Ratings"
   ]
  },
  {
   "cell_type": "code",
   "execution_count": 15,
   "id": "ab594b9f",
   "metadata": {},
   "outputs": [],
   "source": [
    "analyst_ratings_processed = pd.read_csv(\"../data/other_news/analyst_ratings_processed.csv\")"
   ]
  },
  {
   "cell_type": "code",
   "execution_count": 16,
   "id": "e2180853",
   "metadata": {},
   "outputs": [],
   "source": [
    "required_tickers = set(list(nyt_query_helper.Symbol.unique()) + list(nyt_query_helper.new_ticker.unique()))"
   ]
  },
  {
   "cell_type": "code",
   "execution_count": 18,
   "id": "11a52c48",
   "metadata": {},
   "outputs": [
    {
     "data": {
      "application/vnd.jupyter.widget-view+json": {
       "model_id": "b6f00c067604469db36f01649eecd4bd",
       "version_major": 2,
       "version_minor": 0
      },
      "text/plain": [
       "  0%|          | 0/6192 [00:00<?, ?it/s]"
      ]
     },
     "metadata": {},
     "output_type": "display_data"
    }
   ],
   "source": [
    "from tqdm.notebook import tqdm\n",
    "from pathlib import Path\n",
    "import glob\n",
    "import pandas as pd\n",
    "\n",
    "for stock in tqdm(analyst_ratings_processed[analyst_ratings_processed.stock.notna()].stock.unique()):\n",
    "    continue\n",
    "    if stock not in required_tickers:\n",
    "        continue\n",
    "    print(stock)\n",
    "    curr_df = analyst_ratings_processed[analyst_ratings_processed.stock == stock].copy().reset_index(drop=True)\n",
    "    \n",
    "    new_save_path = f\"../data/other_news/analyst_ratings_processed/{stock}.csv\"\n",
    "    \n",
    "    finbert_sentiment = curr_df.title.progress_apply(lambda x: predict_sentiment(x)).values\n",
    "    finbert_sentiment = pd.DataFrame(list(list(x) for x in finbert_sentiment))\n",
    "    finbert_sentiment.columns = [\"finbert_positive\", \"finbert_negative\", \"finbert_neutral\"]\n",
    "    curr_df = pd.concat([curr_df, finbert_sentiment],axis=1)\n",
    "    curr_df = get_all_word_counts(curr_df, \"title\")\n",
    "    curr_df.to_csv(new_save_path, index=False)\n",
    "    \n",
    "\n",
    "# Now combine all into one large dataframe\n",
    "all_other_news = []\n",
    "\n",
    "for path in glob.glob(\"../data/other_news/analyst_ratings_processed/*\"):\n",
    "    continue\n",
    "    ticker = path.replace(\".csv\", \"\").replace(\"../data/other_news/analyst_ratings_processed\\\\\", \"\")\n",
    "    curr_df = pd.read_csv(path).drop(columns=[\"title\", \"Unnamed: 0\"]).rename(columns={\"date\":\"date\", \"stock\":\"ticker\"})\n",
    "    all_other_news.append(curr_df)\n",
    "    \n",
    "all_analyst_ratings = pd.concat(all_other_news)\n",
    "all_analyst_ratings.to_csv(\"../data/other_news_processed/analyst_ratings_processed.csv\", index=False)"
   ]
  },
  {
   "cell_type": "code",
   "execution_count": null,
   "id": "5d34a060",
   "metadata": {},
   "outputs": [],
   "source": []
  }
 ],
 "metadata": {
  "kernelspec": {
   "display_name": "Python 3 (ipykernel)",
   "language": "python",
   "name": "python3"
  },
  "language_info": {
   "codemirror_mode": {
    "name": "ipython",
    "version": 3
   },
   "file_extension": ".py",
   "mimetype": "text/x-python",
   "name": "python",
   "nbconvert_exporter": "python",
   "pygments_lexer": "ipython3",
   "version": "3.9.15"
  }
 },
 "nbformat": 4,
 "nbformat_minor": 5
}
