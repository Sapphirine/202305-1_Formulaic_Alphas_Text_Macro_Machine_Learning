{
 "cells": [
  {
   "cell_type": "markdown",
   "id": "5be63341",
   "metadata": {},
   "source": [
    "# This notebook uses New York Times API Article Search\n",
    "1. https://developer.nytimes.com/apis\n",
    "1. We will use article search, where the query is the name of the company. \n",
    "2. If the company had multiple names throughout history, we will query both names"
   ]
  },
  {
   "cell_type": "code",
   "execution_count": 1,
   "id": "39aea0e4",
   "metadata": {},
   "outputs": [],
   "source": [
    "import yaml\n",
    "\n",
    "# Stored outside of github folder\n",
    "with open(\"../../config.yml\", \"r\") as stream:\n",
    "    config = yaml.safe_load(stream)\n",
    "    \n",
    "api_key = config[\"api_key_3\"]"
   ]
  },
  {
   "cell_type": "code",
   "execution_count": 2,
   "id": "725a6e88",
   "metadata": {},
   "outputs": [
    {
     "name": "stdout",
     "output_type": "stream",
     "text": [
      "['Bread Financial' 'Valaris ' 'Federated Hermes' 'Sanofi'\n",
      " 'Brookfield Property REIT' 'IQVIA' 'Paramount' 'Altaba']\n"
     ]
    },
    {
     "data": {
      "text/html": [
       "<div>\n",
       "<style scoped>\n",
       "    .dataframe tbody tr th:only-of-type {\n",
       "        vertical-align: middle;\n",
       "    }\n",
       "\n",
       "    .dataframe tbody tr th {\n",
       "        vertical-align: top;\n",
       "    }\n",
       "\n",
       "    .dataframe thead th {\n",
       "        text-align: right;\n",
       "    }\n",
       "</style>\n",
       "<table border=\"1\" class=\"dataframe\">\n",
       "  <thead>\n",
       "    <tr style=\"text-align: right;\">\n",
       "      <th></th>\n",
       "      <th>Symbol</th>\n",
       "      <th>Security</th>\n",
       "      <th>wiki_ticker</th>\n",
       "      <th>new_ticker</th>\n",
       "      <th>secondary_query</th>\n",
       "    </tr>\n",
       "  </thead>\n",
       "  <tbody>\n",
       "    <tr>\n",
       "      <th>0</th>\n",
       "      <td>A</td>\n",
       "      <td>Agilent Technologies</td>\n",
       "      <td>A</td>\n",
       "      <td>A</td>\n",
       "      <td>NaN</td>\n",
       "    </tr>\n",
       "    <tr>\n",
       "      <th>1</th>\n",
       "      <td>AA</td>\n",
       "      <td>Alcoa Inc</td>\n",
       "      <td>AA</td>\n",
       "      <td>AA</td>\n",
       "      <td>NaN</td>\n",
       "    </tr>\n",
       "    <tr>\n",
       "      <th>2</th>\n",
       "      <td>AAL</td>\n",
       "      <td>American Airlines Group</td>\n",
       "      <td>AAL</td>\n",
       "      <td>AAL</td>\n",
       "      <td>NaN</td>\n",
       "    </tr>\n",
       "    <tr>\n",
       "      <th>3</th>\n",
       "      <td>AAP</td>\n",
       "      <td>Advance Auto Parts</td>\n",
       "      <td>AAP</td>\n",
       "      <td>AAP</td>\n",
       "      <td>NaN</td>\n",
       "    </tr>\n",
       "    <tr>\n",
       "      <th>4</th>\n",
       "      <td>AAPL</td>\n",
       "      <td>Apple Inc.</td>\n",
       "      <td>AAPL</td>\n",
       "      <td>AAPL</td>\n",
       "      <td>NaN</td>\n",
       "    </tr>\n",
       "  </tbody>\n",
       "</table>\n",
       "</div>"
      ],
      "text/plain": [
       "  Symbol                 Security wiki_ticker new_ticker secondary_query\n",
       "0      A     Agilent Technologies           A          A             NaN\n",
       "1     AA                Alcoa Inc          AA         AA             NaN\n",
       "2    AAL  American Airlines Group         AAL        AAL             NaN\n",
       "3    AAP       Advance Auto Parts         AAP        AAP             NaN\n",
       "4   AAPL               Apple Inc.        AAPL       AAPL             NaN"
      ]
     },
     "execution_count": 2,
     "metadata": {},
     "output_type": "execute_result"
    }
   ],
   "source": [
    "from pynytimes import NYTAPI\n",
    "import numpy as np\n",
    "import pandas as pd\n",
    "\n",
    "nyt = NYTAPI(api_key, parse_dates=True)\n",
    "# This was created manually, so there he no notebook to log it. We documented firms where they had\n",
    "# more than one name throughout history\n",
    "nyt_query_helper = pd.read_csv(\"../data/nyt_query_helper.csv\")\n",
    "print(nyt_query_helper.secondary_query[nyt_query_helper.secondary_query.notna()].values)\n",
    "nyt_query_helper.head()"
   ]
  },
  {
   "cell_type": "code",
   "execution_count": null,
   "id": "e8298931",
   "metadata": {},
   "outputs": [],
   "source": []
  },
  {
   "cell_type": "markdown",
   "id": "d3891a4d",
   "metadata": {},
   "source": [
    "# Scraping By Search Result"
   ]
  },
  {
   "cell_type": "code",
   "execution_count": 3,
   "id": "c3f72da1",
   "metadata": {
    "scrolled": false
   },
   "outputs": [
    {
     "data": {
      "application/vnd.jupyter.widget-view+json": {
       "model_id": "eeb8220a51a644459828886dd6d7b51e",
       "version_major": 2,
       "version_minor": 0
      },
      "text/plain": [
       "  0%|          | 0/735 [00:00<?, ?it/s]"
      ]
     },
     "metadata": {},
     "output_type": "display_data"
    }
   ],
   "source": [
    "import time\n",
    "import datetime \n",
    "from tqdm.notebook import tqdm\n",
    "from pathlib import Path\n",
    "\n",
    "# Our backtest is from 2010-01-01 onwards\n",
    "# So we need data from 2009-12-01 onwards (at least 1 month more of data)\n",
    "dates = {\n",
    "        \"begin\": datetime.datetime(2009, \n",
    "                                   12, 1),\n",
    "        \"end\": datetime.datetime(2023, 2, 1)\n",
    "    }\n",
    "\n",
    "for i in tqdm(range(1, len(nyt_query_helper))):\n",
    "    row = nyt_query_helper.iloc[i]\n",
    "    ticker = row[\"Symbol\"]\n",
    "    # We will first query security, the company name\n",
    "    security = row[\"Security\"]\n",
    "    secondary_query = row[\"secondary_query\"]\n",
    "    path = Path(f\"../data/new_york_times/company/{ticker}.csv\")\n",
    "    current_company_result = nyt.article_search(query = security, dates = dates, results = 1000)\n",
    "    \n",
    "    # If there was a second company name in history, we use it\n",
    "    if type(secondary_query) == str:\n",
    "        current_company_result.extend(nyt.article_search(query = secondary_query, dates = dates, results = 1000))\n",
    "\n",
    "    current_company_result = pd.DataFrame(current_company_result)\n",
    "    current_company_result.to_csv(f\"../data/new_york_times/company/{ticker}.csv\")\n",
    "    time.sleep(10)"
   ]
  },
  {
   "cell_type": "code",
   "execution_count": null,
   "id": "f13711ec",
   "metadata": {},
   "outputs": [],
   "source": []
  }
 ],
 "metadata": {
  "kernelspec": {
   "display_name": "Python 3 (ipykernel)",
   "language": "python",
   "name": "python3"
  },
  "language_info": {
   "codemirror_mode": {
    "name": "ipython",
    "version": 3
   },
   "file_extension": ".py",
   "mimetype": "text/x-python",
   "name": "python",
   "nbconvert_exporter": "python",
   "pygments_lexer": "ipython3",
   "version": "3.9.15"
  }
 },
 "nbformat": 4,
 "nbformat_minor": 5
}
