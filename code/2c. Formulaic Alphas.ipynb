{
 "cells": [
  {
   "cell_type": "markdown",
   "metadata": {},
   "source": [
    "# Creating Formulaic Alphas\n",
    "1. Series from yahoo finance\n",
    "1. Series from investingdotcom"
   ]
  },
  {
   "cell_type": "markdown",
   "metadata": {},
   "source": [
    "### Yahoo Finance"
   ]
  },
  {
   "cell_type": "code",
   "execution_count": 1,
   "metadata": {},
   "outputs": [],
   "source": [
    "import pandas as pd\n",
    "import numpy as np\n",
    "import statsmodels as sm\n",
    "import matplotlib.pyplot as plt\n",
    "import seaborn as sns\n",
    "import pandas_ta as ta\n",
    "\n",
    "import numpy as np\n",
    "import pandas as pd\n",
    "from numpy import abs\n",
    "from numpy import log\n",
    "from numpy import sign\n",
    "from scipy.stats import rankdata\n",
    "\n",
    "import lazypredict\n",
    "\n",
    "from sklearn.linear_model import Lasso\n",
    "from sklearn.tree import DecisionTreeRegressor\n",
    "from sklearn.pipeline import make_pipeline\n",
    "from sklearn.model_selection import GridSearchCV\n"
   ]
  },
  {
   "cell_type": "code",
   "execution_count": 2,
   "metadata": {},
   "outputs": [
    {
     "data": {
      "text/html": [
       "<div>\n",
       "<style scoped>\n",
       "    .dataframe tbody tr th:only-of-type {\n",
       "        vertical-align: middle;\n",
       "    }\n",
       "\n",
       "    .dataframe tbody tr th {\n",
       "        vertical-align: top;\n",
       "    }\n",
       "\n",
       "    .dataframe thead th {\n",
       "        text-align: right;\n",
       "    }\n",
       "</style>\n",
       "<table border=\"1\" class=\"dataframe\">\n",
       "  <thead>\n",
       "    <tr style=\"text-align: right;\">\n",
       "      <th></th>\n",
       "      <th>Symbol</th>\n",
       "      <th>Security</th>\n",
       "      <th>GICS Sector</th>\n",
       "      <th>GICS Sub-Industry</th>\n",
       "      <th>CIK</th>\n",
       "      <th>wiki_ticker</th>\n",
       "      <th>new_ticker</th>\n",
       "    </tr>\n",
       "  </thead>\n",
       "  <tbody>\n",
       "    <tr>\n",
       "      <th>0</th>\n",
       "      <td>A</td>\n",
       "      <td>Agilent Technologies</td>\n",
       "      <td>Health Care</td>\n",
       "      <td>Health Care Equipment</td>\n",
       "      <td>1090872.0</td>\n",
       "      <td>A</td>\n",
       "      <td>A</td>\n",
       "    </tr>\n",
       "    <tr>\n",
       "      <th>1</th>\n",
       "      <td>AA</td>\n",
       "      <td>Alcoa Inc</td>\n",
       "      <td>NaN</td>\n",
       "      <td>NaN</td>\n",
       "      <td>NaN</td>\n",
       "      <td>AA</td>\n",
       "      <td>AA</td>\n",
       "    </tr>\n",
       "    <tr>\n",
       "      <th>2</th>\n",
       "      <td>AAL</td>\n",
       "      <td>American Airlines Group</td>\n",
       "      <td>Industrials</td>\n",
       "      <td>Airlines</td>\n",
       "      <td>6201.0</td>\n",
       "      <td>AAL</td>\n",
       "      <td>AAL</td>\n",
       "    </tr>\n",
       "    <tr>\n",
       "      <th>3</th>\n",
       "      <td>AAP</td>\n",
       "      <td>Advance Auto Parts</td>\n",
       "      <td>Consumer Discretionary</td>\n",
       "      <td>Automotive Retail</td>\n",
       "      <td>1158449.0</td>\n",
       "      <td>AAP</td>\n",
       "      <td>AAP</td>\n",
       "    </tr>\n",
       "    <tr>\n",
       "      <th>4</th>\n",
       "      <td>AAPL</td>\n",
       "      <td>Apple Inc.</td>\n",
       "      <td>Information Technology</td>\n",
       "      <td>Technology Hardware, Storage &amp; Peripherals</td>\n",
       "      <td>320193.0</td>\n",
       "      <td>AAPL</td>\n",
       "      <td>AAPL</td>\n",
       "    </tr>\n",
       "    <tr>\n",
       "      <th>...</th>\n",
       "      <td>...</td>\n",
       "      <td>...</td>\n",
       "      <td>...</td>\n",
       "      <td>...</td>\n",
       "      <td>...</td>\n",
       "      <td>...</td>\n",
       "      <td>...</td>\n",
       "    </tr>\n",
       "    <tr>\n",
       "      <th>740</th>\n",
       "      <td>YUM</td>\n",
       "      <td>Yum! Brands</td>\n",
       "      <td>Consumer Discretionary</td>\n",
       "      <td>Restaurants</td>\n",
       "      <td>1041061.0</td>\n",
       "      <td>YUM</td>\n",
       "      <td>YUM</td>\n",
       "    </tr>\n",
       "    <tr>\n",
       "      <th>741</th>\n",
       "      <td>ZBH</td>\n",
       "      <td>Zimmer Biomet</td>\n",
       "      <td>Health Care</td>\n",
       "      <td>Health Care Equipment</td>\n",
       "      <td>1136869.0</td>\n",
       "      <td>ZBH</td>\n",
       "      <td>ZBH</td>\n",
       "    </tr>\n",
       "    <tr>\n",
       "      <th>742</th>\n",
       "      <td>ZBRA</td>\n",
       "      <td>Zebra Technologies</td>\n",
       "      <td>Information Technology</td>\n",
       "      <td>Electronic Equipment &amp; Instruments</td>\n",
       "      <td>877212.0</td>\n",
       "      <td>ZBRA</td>\n",
       "      <td>ZBRA</td>\n",
       "    </tr>\n",
       "    <tr>\n",
       "      <th>743</th>\n",
       "      <td>ZION</td>\n",
       "      <td>Zions Bancorporation</td>\n",
       "      <td>Financials</td>\n",
       "      <td>Regional Banks</td>\n",
       "      <td>109380.0</td>\n",
       "      <td>ZION</td>\n",
       "      <td>ZION</td>\n",
       "    </tr>\n",
       "    <tr>\n",
       "      <th>744</th>\n",
       "      <td>ZTS</td>\n",
       "      <td>Zoetis</td>\n",
       "      <td>Health Care</td>\n",
       "      <td>Pharmaceuticals</td>\n",
       "      <td>1555280.0</td>\n",
       "      <td>ZTS</td>\n",
       "      <td>ZTS</td>\n",
       "    </tr>\n",
       "  </tbody>\n",
       "</table>\n",
       "<p>745 rows × 7 columns</p>\n",
       "</div>"
      ],
      "text/plain": [
       "    Symbol                 Security             GICS Sector  \\\n",
       "0        A     Agilent Technologies             Health Care   \n",
       "1       AA                Alcoa Inc                     NaN   \n",
       "2      AAL  American Airlines Group             Industrials   \n",
       "3      AAP       Advance Auto Parts  Consumer Discretionary   \n",
       "4     AAPL               Apple Inc.  Information Technology   \n",
       "..     ...                      ...                     ...   \n",
       "740    YUM              Yum! Brands  Consumer Discretionary   \n",
       "741    ZBH            Zimmer Biomet             Health Care   \n",
       "742   ZBRA       Zebra Technologies  Information Technology   \n",
       "743   ZION     Zions Bancorporation              Financials   \n",
       "744    ZTS                   Zoetis             Health Care   \n",
       "\n",
       "                              GICS Sub-Industry        CIK wiki_ticker  \\\n",
       "0                         Health Care Equipment  1090872.0           A   \n",
       "1                                           NaN        NaN          AA   \n",
       "2                                      Airlines     6201.0         AAL   \n",
       "3                             Automotive Retail  1158449.0         AAP   \n",
       "4    Technology Hardware, Storage & Peripherals   320193.0        AAPL   \n",
       "..                                          ...        ...         ...   \n",
       "740                                 Restaurants  1041061.0         YUM   \n",
       "741                       Health Care Equipment  1136869.0         ZBH   \n",
       "742          Electronic Equipment & Instruments   877212.0        ZBRA   \n",
       "743                              Regional Banks   109380.0        ZION   \n",
       "744                             Pharmaceuticals  1555280.0         ZTS   \n",
       "\n",
       "    new_ticker  \n",
       "0            A  \n",
       "1           AA  \n",
       "2          AAL  \n",
       "3          AAP  \n",
       "4         AAPL  \n",
       "..         ...  \n",
       "740        YUM  \n",
       "741        ZBH  \n",
       "742       ZBRA  \n",
       "743       ZION  \n",
       "744        ZTS  \n",
       "\n",
       "[745 rows x 7 columns]"
      ]
     },
     "execution_count": 2,
     "metadata": {},
     "output_type": "execute_result"
    }
   ],
   "source": [
    "tickers_df = pd.read_csv('../data/security_map_final.csv')\n",
    "tickers_df"
   ]
  },
  {
   "cell_type": "code",
   "execution_count": 3,
   "metadata": {},
   "outputs": [],
   "source": [
    "def calculate_5d_vwap(df):\n",
    "    df = df.copy()\n",
    "    df[\"5D Volume\"] = df[\"Volume\"].rolling(5).sum()\n",
    "    df[\"Daily Avg Price\"] = (df[\"Open\"] + df[\"High\"] + df[\"Low\"])/3\n",
    "    df[\"5D Volume Adj Typical Price\"] = df[\"5D Volume\"] * df[\"Daily Avg Price\"]\n",
    "    df[\"5D-VWAP\"] = df[\"5D Volume Adj Typical Price\"].cumsum() / df[\"Volume\"].cumsum()\n",
    "    df.dropna(inplace=True)\n",
    "    return df"
   ]
  },
  {
   "cell_type": "code",
   "execution_count": 4,
   "metadata": {},
   "outputs": [],
   "source": [
    "def calculate_pct_change(df):\n",
    "    df = df.copy()\n",
    "    df[\"Pct Change\"] = df[\"Close\"].pct_change()\n",
    "    return df"
   ]
  },
  {
   "cell_type": "code",
   "execution_count": 5,
   "metadata": {},
   "outputs": [
    {
     "name": "stderr",
     "output_type": "stream",
     "text": [
      "/Users/jonathanbenghiat/.pyenv/versions/3.9.10/envs/phobos/lib/python3.9/site-packages/pandas/core/arraylike.py:397: RuntimeWarning: divide by zero encountered in log\n",
      "  result = getattr(ufunc, method)(*inputs, **kwargs)\n",
      "/Users/jonathanbenghiat/.pyenv/versions/3.9.10/envs/phobos/lib/python3.9/site-packages/pandas/core/arraylike.py:397: RuntimeWarning: divide by zero encountered in log\n",
      "  result = getattr(ufunc, method)(*inputs, **kwargs)\n",
      "/Users/jonathanbenghiat/.pyenv/versions/3.9.10/envs/phobos/lib/python3.9/site-packages/pandas/core/arraylike.py:397: RuntimeWarning: divide by zero encountered in log\n",
      "  result = getattr(ufunc, method)(*inputs, **kwargs)\n",
      "/Users/jonathanbenghiat/.pyenv/versions/3.9.10/envs/phobos/lib/python3.9/site-packages/pandas/core/arraylike.py:397: RuntimeWarning: divide by zero encountered in log\n",
      "  result = getattr(ufunc, method)(*inputs, **kwargs)\n",
      "/Users/jonathanbenghiat/.pyenv/versions/3.9.10/envs/phobos/lib/python3.9/site-packages/pandas/core/arraylike.py:397: RuntimeWarning: divide by zero encountered in log\n",
      "  result = getattr(ufunc, method)(*inputs, **kwargs)\n",
      "/Users/jonathanbenghiat/.pyenv/versions/3.9.10/envs/phobos/lib/python3.9/site-packages/pandas/core/arraylike.py:397: RuntimeWarning: divide by zero encountered in log\n",
      "  result = getattr(ufunc, method)(*inputs, **kwargs)\n",
      "/Users/jonathanbenghiat/.pyenv/versions/3.9.10/envs/phobos/lib/python3.9/site-packages/pandas/core/arraylike.py:397: RuntimeWarning: divide by zero encountered in log\n",
      "  result = getattr(ufunc, method)(*inputs, **kwargs)\n"
     ]
    },
    {
     "name": "stdout",
     "output_type": "stream",
     "text": [
      "Ticker AGN failed\n"
     ]
    },
    {
     "name": "stderr",
     "output_type": "stream",
     "text": [
      "/Users/jonathanbenghiat/.pyenv/versions/3.9.10/envs/phobos/lib/python3.9/site-packages/pandas/core/arraylike.py:397: RuntimeWarning: divide by zero encountered in log\n",
      "  result = getattr(ufunc, method)(*inputs, **kwargs)\n",
      "/Users/jonathanbenghiat/.pyenv/versions/3.9.10/envs/phobos/lib/python3.9/site-packages/pandas/core/arraylike.py:397: RuntimeWarning: divide by zero encountered in log\n",
      "  result = getattr(ufunc, method)(*inputs, **kwargs)\n"
     ]
    },
    {
     "name": "stdout",
     "output_type": "stream",
     "text": [
      "Ticker AKS failed\n",
      "Ticker ALXN failed\n"
     ]
    },
    {
     "name": "stderr",
     "output_type": "stream",
     "text": [
      "/Users/jonathanbenghiat/.pyenv/versions/3.9.10/envs/phobos/lib/python3.9/site-packages/pandas/core/arraylike.py:397: RuntimeWarning: divide by zero encountered in log\n",
      "  result = getattr(ufunc, method)(*inputs, **kwargs)\n",
      "/Users/jonathanbenghiat/.pyenv/versions/3.9.10/envs/phobos/lib/python3.9/site-packages/pandas/core/arraylike.py:397: RuntimeWarning: divide by zero encountered in log\n",
      "  result = getattr(ufunc, method)(*inputs, **kwargs)\n",
      "/Users/jonathanbenghiat/.pyenv/versions/3.9.10/envs/phobos/lib/python3.9/site-packages/pandas/core/arraylike.py:397: RuntimeWarning: divide by zero encountered in log\n",
      "  result = getattr(ufunc, method)(*inputs, **kwargs)\n",
      "/Users/jonathanbenghiat/.pyenv/versions/3.9.10/envs/phobos/lib/python3.9/site-packages/pandas/core/arraylike.py:397: RuntimeWarning: divide by zero encountered in log\n",
      "  result = getattr(ufunc, method)(*inputs, **kwargs)\n",
      "/Users/jonathanbenghiat/.pyenv/versions/3.9.10/envs/phobos/lib/python3.9/site-packages/pandas/core/arraylike.py:397: RuntimeWarning: divide by zero encountered in log\n",
      "  result = getattr(ufunc, method)(*inputs, **kwargs)\n",
      "/Users/jonathanbenghiat/.pyenv/versions/3.9.10/envs/phobos/lib/python3.9/site-packages/pandas/core/arraylike.py:397: RuntimeWarning: divide by zero encountered in log\n",
      "  result = getattr(ufunc, method)(*inputs, **kwargs)\n",
      "/Users/jonathanbenghiat/.pyenv/versions/3.9.10/envs/phobos/lib/python3.9/site-packages/pandas/core/arraylike.py:397: RuntimeWarning: divide by zero encountered in log\n",
      "  result = getattr(ufunc, method)(*inputs, **kwargs)\n",
      "/Users/jonathanbenghiat/.pyenv/versions/3.9.10/envs/phobos/lib/python3.9/site-packages/pandas/core/arraylike.py:397: RuntimeWarning: divide by zero encountered in log\n",
      "  result = getattr(ufunc, method)(*inputs, **kwargs)\n",
      "/Users/jonathanbenghiat/.pyenv/versions/3.9.10/envs/phobos/lib/python3.9/site-packages/pandas/core/arraylike.py:397: RuntimeWarning: divide by zero encountered in log\n",
      "  result = getattr(ufunc, method)(*inputs, **kwargs)\n",
      "/Users/jonathanbenghiat/.pyenv/versions/3.9.10/envs/phobos/lib/python3.9/site-packages/pandas/core/arraylike.py:397: RuntimeWarning: divide by zero encountered in log\n",
      "  result = getattr(ufunc, method)(*inputs, **kwargs)\n"
     ]
    },
    {
     "name": "stdout",
     "output_type": "stream",
     "text": [
      "Ticker APC failed\n"
     ]
    },
    {
     "name": "stderr",
     "output_type": "stream",
     "text": [
      "/Users/jonathanbenghiat/.pyenv/versions/3.9.10/envs/phobos/lib/python3.9/site-packages/pandas/core/arraylike.py:397: RuntimeWarning: divide by zero encountered in log\n",
      "  result = getattr(ufunc, method)(*inputs, **kwargs)\n"
     ]
    },
    {
     "name": "stdout",
     "output_type": "stream",
     "text": [
      "Ticker APOL failed\n"
     ]
    },
    {
     "name": "stderr",
     "output_type": "stream",
     "text": [
      "/Users/jonathanbenghiat/.pyenv/versions/3.9.10/envs/phobos/lib/python3.9/site-packages/pandas/core/arraylike.py:397: RuntimeWarning: divide by zero encountered in log\n",
      "  result = getattr(ufunc, method)(*inputs, **kwargs)\n"
     ]
    },
    {
     "name": "stdout",
     "output_type": "stream",
     "text": [
      "Ticker ARG failed\n"
     ]
    },
    {
     "name": "stderr",
     "output_type": "stream",
     "text": [
      "/Users/jonathanbenghiat/.pyenv/versions/3.9.10/envs/phobos/lib/python3.9/site-packages/pandas/core/arraylike.py:397: RuntimeWarning: divide by zero encountered in log\n",
      "  result = getattr(ufunc, method)(*inputs, **kwargs)\n",
      "/Users/jonathanbenghiat/.pyenv/versions/3.9.10/envs/phobos/lib/python3.9/site-packages/pandas/core/arraylike.py:397: RuntimeWarning: divide by zero encountered in log\n",
      "  result = getattr(ufunc, method)(*inputs, **kwargs)\n",
      "/Users/jonathanbenghiat/.pyenv/versions/3.9.10/envs/phobos/lib/python3.9/site-packages/pandas/core/arraylike.py:397: RuntimeWarning: divide by zero encountered in log\n",
      "  result = getattr(ufunc, method)(*inputs, **kwargs)\n"
     ]
    },
    {
     "name": "stdout",
     "output_type": "stream",
     "text": [
      "Ticker AVP failed\n"
     ]
    },
    {
     "name": "stderr",
     "output_type": "stream",
     "text": [
      "/Users/jonathanbenghiat/.pyenv/versions/3.9.10/envs/phobos/lib/python3.9/site-packages/pandas/core/arraylike.py:397: RuntimeWarning: divide by zero encountered in log\n",
      "  result = getattr(ufunc, method)(*inputs, **kwargs)\n",
      "/Users/jonathanbenghiat/.pyenv/versions/3.9.10/envs/phobos/lib/python3.9/site-packages/pandas/core/arraylike.py:397: RuntimeWarning: divide by zero encountered in log\n",
      "  result = getattr(ufunc, method)(*inputs, **kwargs)\n",
      "/Users/jonathanbenghiat/.pyenv/versions/3.9.10/envs/phobos/lib/python3.9/site-packages/pandas/core/arraylike.py:397: RuntimeWarning: divide by zero encountered in log\n",
      "  result = getattr(ufunc, method)(*inputs, **kwargs)\n",
      "/Users/jonathanbenghiat/.pyenv/versions/3.9.10/envs/phobos/lib/python3.9/site-packages/pandas/core/arraylike.py:397: RuntimeWarning: divide by zero encountered in log\n",
      "  result = getattr(ufunc, method)(*inputs, **kwargs)\n",
      "/Users/jonathanbenghiat/.pyenv/versions/3.9.10/envs/phobos/lib/python3.9/site-packages/pandas/core/arraylike.py:397: RuntimeWarning: divide by zero encountered in log\n",
      "  result = getattr(ufunc, method)(*inputs, **kwargs)\n"
     ]
    },
    {
     "name": "stdout",
     "output_type": "stream",
     "text": [
      "Ticker BCR failed\n"
     ]
    },
    {
     "name": "stderr",
     "output_type": "stream",
     "text": [
      "/Users/jonathanbenghiat/.pyenv/versions/3.9.10/envs/phobos/lib/python3.9/site-packages/pandas/core/arraylike.py:397: RuntimeWarning: divide by zero encountered in log\n",
      "  result = getattr(ufunc, method)(*inputs, **kwargs)\n",
      "/Users/jonathanbenghiat/.pyenv/versions/3.9.10/envs/phobos/lib/python3.9/site-packages/pandas/core/arraylike.py:397: RuntimeWarning: divide by zero encountered in log\n",
      "  result = getattr(ufunc, method)(*inputs, **kwargs)\n"
     ]
    },
    {
     "name": "stdout",
     "output_type": "stream",
     "text": [
      "Ticker BF.B failed\n"
     ]
    },
    {
     "name": "stderr",
     "output_type": "stream",
     "text": [
      "/Users/jonathanbenghiat/.pyenv/versions/3.9.10/envs/phobos/lib/python3.9/site-packages/pandas/core/arraylike.py:397: RuntimeWarning: divide by zero encountered in log\n",
      "  result = getattr(ufunc, method)(*inputs, **kwargs)\n",
      "/Users/jonathanbenghiat/.pyenv/versions/3.9.10/envs/phobos/lib/python3.9/site-packages/pandas/core/arraylike.py:397: RuntimeWarning: divide by zero encountered in log\n",
      "  result = getattr(ufunc, method)(*inputs, **kwargs)\n",
      "/Users/jonathanbenghiat/.pyenv/versions/3.9.10/envs/phobos/lib/python3.9/site-packages/pandas/core/arraylike.py:397: RuntimeWarning: divide by zero encountered in log\n",
      "  result = getattr(ufunc, method)(*inputs, **kwargs)\n"
     ]
    },
    {
     "name": "stdout",
     "output_type": "stream",
     "text": [
      "Ticker BJ failed\n"
     ]
    },
    {
     "name": "stderr",
     "output_type": "stream",
     "text": [
      "/Users/jonathanbenghiat/.pyenv/versions/3.9.10/envs/phobos/lib/python3.9/site-packages/pandas/core/arraylike.py:397: RuntimeWarning: divide by zero encountered in log\n",
      "  result = getattr(ufunc, method)(*inputs, **kwargs)\n",
      "/Users/jonathanbenghiat/.pyenv/versions/3.9.10/envs/phobos/lib/python3.9/site-packages/pandas/core/arraylike.py:397: RuntimeWarning: divide by zero encountered in log\n",
      "  result = getattr(ufunc, method)(*inputs, **kwargs)\n",
      "/Users/jonathanbenghiat/.pyenv/versions/3.9.10/envs/phobos/lib/python3.9/site-packages/pandas/core/arraylike.py:397: RuntimeWarning: divide by zero encountered in log\n",
      "  result = getattr(ufunc, method)(*inputs, **kwargs)\n",
      "/Users/jonathanbenghiat/.pyenv/versions/3.9.10/envs/phobos/lib/python3.9/site-packages/pandas/core/arraylike.py:397: RuntimeWarning: divide by zero encountered in log\n",
      "  result = getattr(ufunc, method)(*inputs, **kwargs)\n",
      "/Users/jonathanbenghiat/.pyenv/versions/3.9.10/envs/phobos/lib/python3.9/site-packages/pandas/core/arraylike.py:397: RuntimeWarning: divide by zero encountered in log\n",
      "  result = getattr(ufunc, method)(*inputs, **kwargs)\n"
     ]
    },
    {
     "name": "stdout",
     "output_type": "stream",
     "text": [
      "Ticker BRK.B failed\n"
     ]
    },
    {
     "name": "stderr",
     "output_type": "stream",
     "text": [
      "/Users/jonathanbenghiat/.pyenv/versions/3.9.10/envs/phobos/lib/python3.9/site-packages/pandas/core/arraylike.py:397: RuntimeWarning: divide by zero encountered in log\n",
      "  result = getattr(ufunc, method)(*inputs, **kwargs)\n"
     ]
    },
    {
     "name": "stdout",
     "output_type": "stream",
     "text": [
      "Ticker BXLT failed\n"
     ]
    },
    {
     "name": "stderr",
     "output_type": "stream",
     "text": [
      "/Users/jonathanbenghiat/.pyenv/versions/3.9.10/envs/phobos/lib/python3.9/site-packages/pandas/core/arraylike.py:397: RuntimeWarning: divide by zero encountered in log\n",
      "  result = getattr(ufunc, method)(*inputs, **kwargs)\n",
      "/Users/jonathanbenghiat/.pyenv/versions/3.9.10/envs/phobos/lib/python3.9/site-packages/pandas/core/arraylike.py:397: RuntimeWarning: divide by zero encountered in log\n",
      "  result = getattr(ufunc, method)(*inputs, **kwargs)\n",
      "/Users/jonathanbenghiat/.pyenv/versions/3.9.10/envs/phobos/lib/python3.9/site-packages/pandas/core/arraylike.py:397: RuntimeWarning: divide by zero encountered in log\n",
      "  result = getattr(ufunc, method)(*inputs, **kwargs)\n"
     ]
    },
    {
     "name": "stdout",
     "output_type": "stream",
     "text": [
      "Ticker CAM failed\n"
     ]
    },
    {
     "name": "stderr",
     "output_type": "stream",
     "text": [
      "/Users/jonathanbenghiat/.pyenv/versions/3.9.10/envs/phobos/lib/python3.9/site-packages/pandas/core/arraylike.py:397: RuntimeWarning: divide by zero encountered in log\n",
      "  result = getattr(ufunc, method)(*inputs, **kwargs)\n",
      "/Users/jonathanbenghiat/.pyenv/versions/3.9.10/envs/phobos/lib/python3.9/site-packages/pandas/core/arraylike.py:397: RuntimeWarning: divide by zero encountered in log\n",
      "  result = getattr(ufunc, method)(*inputs, **kwargs)\n",
      "/Users/jonathanbenghiat/.pyenv/versions/3.9.10/envs/phobos/lib/python3.9/site-packages/pandas/core/arraylike.py:397: RuntimeWarning: divide by zero encountered in log\n",
      "  result = getattr(ufunc, method)(*inputs, **kwargs)\n"
     ]
    },
    {
     "name": "stdout",
     "output_type": "stream",
     "text": [
      "Ticker CELG failed\n",
      "Ticker CERN failed\n",
      "Ticker CFN failed\n"
     ]
    },
    {
     "name": "stderr",
     "output_type": "stream",
     "text": [
      "/Users/jonathanbenghiat/.pyenv/versions/3.9.10/envs/phobos/lib/python3.9/site-packages/pandas/core/arraylike.py:397: RuntimeWarning: divide by zero encountered in log\n",
      "  result = getattr(ufunc, method)(*inputs, **kwargs)\n",
      "/Users/jonathanbenghiat/.pyenv/versions/3.9.10/envs/phobos/lib/python3.9/site-packages/pandas/core/arraylike.py:397: RuntimeWarning: divide by zero encountered in log\n",
      "  result = getattr(ufunc, method)(*inputs, **kwargs)\n",
      "/Users/jonathanbenghiat/.pyenv/versions/3.9.10/envs/phobos/lib/python3.9/site-packages/pandas/core/arraylike.py:397: RuntimeWarning: divide by zero encountered in log\n",
      "  result = getattr(ufunc, method)(*inputs, **kwargs)\n",
      "/Users/jonathanbenghiat/.pyenv/versions/3.9.10/envs/phobos/lib/python3.9/site-packages/pandas/core/arraylike.py:397: RuntimeWarning: divide by zero encountered in log\n",
      "  result = getattr(ufunc, method)(*inputs, **kwargs)\n",
      "/Users/jonathanbenghiat/.pyenv/versions/3.9.10/envs/phobos/lib/python3.9/site-packages/pandas/core/arraylike.py:397: RuntimeWarning: divide by zero encountered in log\n",
      "  result = getattr(ufunc, method)(*inputs, **kwargs)\n",
      "/Users/jonathanbenghiat/.pyenv/versions/3.9.10/envs/phobos/lib/python3.9/site-packages/pandas/core/arraylike.py:397: RuntimeWarning: divide by zero encountered in log\n",
      "  result = getattr(ufunc, method)(*inputs, **kwargs)\n",
      "/Users/jonathanbenghiat/.pyenv/versions/3.9.10/envs/phobos/lib/python3.9/site-packages/pandas/core/arraylike.py:397: RuntimeWarning: divide by zero encountered in log\n",
      "  result = getattr(ufunc, method)(*inputs, **kwargs)\n",
      "/Users/jonathanbenghiat/.pyenv/versions/3.9.10/envs/phobos/lib/python3.9/site-packages/pandas/core/arraylike.py:397: RuntimeWarning: divide by zero encountered in log\n",
      "  result = getattr(ufunc, method)(*inputs, **kwargs)\n",
      "/Users/jonathanbenghiat/.pyenv/versions/3.9.10/envs/phobos/lib/python3.9/site-packages/pandas/core/arraylike.py:397: RuntimeWarning: divide by zero encountered in log\n",
      "  result = getattr(ufunc, method)(*inputs, **kwargs)\n",
      "/Users/jonathanbenghiat/.pyenv/versions/3.9.10/envs/phobos/lib/python3.9/site-packages/pandas/core/arraylike.py:397: RuntimeWarning: divide by zero encountered in log\n",
      "  result = getattr(ufunc, method)(*inputs, **kwargs)\n",
      "/Users/jonathanbenghiat/.pyenv/versions/3.9.10/envs/phobos/lib/python3.9/site-packages/pandas/core/arraylike.py:397: RuntimeWarning: divide by zero encountered in log\n",
      "  result = getattr(ufunc, method)(*inputs, **kwargs)\n",
      "/Users/jonathanbenghiat/.pyenv/versions/3.9.10/envs/phobos/lib/python3.9/site-packages/pandas/core/arraylike.py:397: RuntimeWarning: divide by zero encountered in log\n",
      "  result = getattr(ufunc, method)(*inputs, **kwargs)\n",
      "/Users/jonathanbenghiat/.pyenv/versions/3.9.10/envs/phobos/lib/python3.9/site-packages/pandas/core/arraylike.py:397: RuntimeWarning: divide by zero encountered in log\n",
      "  result = getattr(ufunc, method)(*inputs, **kwargs)\n",
      "/Users/jonathanbenghiat/.pyenv/versions/3.9.10/envs/phobos/lib/python3.9/site-packages/pandas/core/arraylike.py:397: RuntimeWarning: divide by zero encountered in log\n",
      "  result = getattr(ufunc, method)(*inputs, **kwargs)\n",
      "/Users/jonathanbenghiat/.pyenv/versions/3.9.10/envs/phobos/lib/python3.9/site-packages/pandas/core/arraylike.py:397: RuntimeWarning: divide by zero encountered in log\n",
      "  result = getattr(ufunc, method)(*inputs, **kwargs)\n"
     ]
    },
    {
     "name": "stdout",
     "output_type": "stream",
     "text": [
      "Ticker CPGX failed\n"
     ]
    },
    {
     "name": "stderr",
     "output_type": "stream",
     "text": [
      "/Users/jonathanbenghiat/.pyenv/versions/3.9.10/envs/phobos/lib/python3.9/site-packages/pandas/core/arraylike.py:397: RuntimeWarning: divide by zero encountered in log\n",
      "  result = getattr(ufunc, method)(*inputs, **kwargs)\n",
      "/Users/jonathanbenghiat/.pyenv/versions/3.9.10/envs/phobos/lib/python3.9/site-packages/pandas/core/arraylike.py:397: RuntimeWarning: divide by zero encountered in log\n",
      "  result = getattr(ufunc, method)(*inputs, **kwargs)\n",
      "/Users/jonathanbenghiat/.pyenv/versions/3.9.10/envs/phobos/lib/python3.9/site-packages/pandas/core/arraylike.py:397: RuntimeWarning: divide by zero encountered in log\n",
      "  result = getattr(ufunc, method)(*inputs, **kwargs)\n",
      "/Users/jonathanbenghiat/.pyenv/versions/3.9.10/envs/phobos/lib/python3.9/site-packages/pandas/core/arraylike.py:397: RuntimeWarning: divide by zero encountered in log\n",
      "  result = getattr(ufunc, method)(*inputs, **kwargs)\n",
      "/Users/jonathanbenghiat/.pyenv/versions/3.9.10/envs/phobos/lib/python3.9/site-packages/pandas/core/arraylike.py:397: RuntimeWarning: divide by zero encountered in log\n",
      "  result = getattr(ufunc, method)(*inputs, **kwargs)\n",
      "/Users/jonathanbenghiat/.pyenv/versions/3.9.10/envs/phobos/lib/python3.9/site-packages/pandas/core/arraylike.py:397: RuntimeWarning: divide by zero encountered in log\n",
      "  result = getattr(ufunc, method)(*inputs, **kwargs)\n"
     ]
    },
    {
     "name": "stdout",
     "output_type": "stream",
     "text": [
      "Ticker CVC failed\n"
     ]
    },
    {
     "name": "stderr",
     "output_type": "stream",
     "text": [
      "/Users/jonathanbenghiat/.pyenv/versions/3.9.10/envs/phobos/lib/python3.9/site-packages/pandas/core/arraylike.py:397: RuntimeWarning: divide by zero encountered in log\n",
      "  result = getattr(ufunc, method)(*inputs, **kwargs)\n"
     ]
    },
    {
     "name": "stdout",
     "output_type": "stream",
     "text": [
      "Ticker CXO failed\n"
     ]
    },
    {
     "name": "stderr",
     "output_type": "stream",
     "text": [
      "/Users/jonathanbenghiat/.pyenv/versions/3.9.10/envs/phobos/lib/python3.9/site-packages/pandas/core/arraylike.py:397: RuntimeWarning: divide by zero encountered in log\n",
      "  result = getattr(ufunc, method)(*inputs, **kwargs)\n",
      "/Users/jonathanbenghiat/.pyenv/versions/3.9.10/envs/phobos/lib/python3.9/site-packages/pandas/core/arraylike.py:397: RuntimeWarning: divide by zero encountered in log\n",
      "  result = getattr(ufunc, method)(*inputs, **kwargs)\n"
     ]
    },
    {
     "name": "stdout",
     "output_type": "stream",
     "text": [
      "Ticker DF failed\n"
     ]
    },
    {
     "name": "stderr",
     "output_type": "stream",
     "text": [
      "/Users/jonathanbenghiat/.pyenv/versions/3.9.10/envs/phobos/lib/python3.9/site-packages/pandas/core/arraylike.py:397: RuntimeWarning: divide by zero encountered in log\n",
      "  result = getattr(ufunc, method)(*inputs, **kwargs)\n",
      "/Users/jonathanbenghiat/.pyenv/versions/3.9.10/envs/phobos/lib/python3.9/site-packages/pandas/core/arraylike.py:397: RuntimeWarning: divide by zero encountered in log\n",
      "  result = getattr(ufunc, method)(*inputs, **kwargs)\n"
     ]
    },
    {
     "name": "stdout",
     "output_type": "stream",
     "text": [
      "Ticker DEN failed\n",
      "Ticker DRE failed\n"
     ]
    },
    {
     "name": "stderr",
     "output_type": "stream",
     "text": [
      "/Users/jonathanbenghiat/.pyenv/versions/3.9.10/envs/phobos/lib/python3.9/site-packages/pandas/core/arraylike.py:397: RuntimeWarning: divide by zero encountered in log\n",
      "  result = getattr(ufunc, method)(*inputs, **kwargs)\n"
     ]
    },
    {
     "name": "stdout",
     "output_type": "stream",
     "text": [
      "Ticker DTV failed\n"
     ]
    },
    {
     "name": "stderr",
     "output_type": "stream",
     "text": [
      "/Users/jonathanbenghiat/.pyenv/versions/3.9.10/envs/phobos/lib/python3.9/site-packages/pandas/core/arraylike.py:397: RuntimeWarning: divide by zero encountered in log\n",
      "  result = getattr(ufunc, method)(*inputs, **kwargs)\n",
      "/Users/jonathanbenghiat/.pyenv/versions/3.9.10/envs/phobos/lib/python3.9/site-packages/pandas/core/arraylike.py:397: RuntimeWarning: divide by zero encountered in log\n",
      "  result = getattr(ufunc, method)(*inputs, **kwargs)\n",
      "/Users/jonathanbenghiat/.pyenv/versions/3.9.10/envs/phobos/lib/python3.9/site-packages/pandas/core/arraylike.py:397: RuntimeWarning: divide by zero encountered in log\n",
      "  result = getattr(ufunc, method)(*inputs, **kwargs)\n",
      "/Users/jonathanbenghiat/.pyenv/versions/3.9.10/envs/phobos/lib/python3.9/site-packages/pandas/core/arraylike.py:397: RuntimeWarning: divide by zero encountered in log\n",
      "  result = getattr(ufunc, method)(*inputs, **kwargs)\n",
      "/Users/jonathanbenghiat/.pyenv/versions/3.9.10/envs/phobos/lib/python3.9/site-packages/pandas/core/arraylike.py:397: RuntimeWarning: divide by zero encountered in log\n",
      "  result = getattr(ufunc, method)(*inputs, **kwargs)\n",
      "/Users/jonathanbenghiat/.pyenv/versions/3.9.10/envs/phobos/lib/python3.9/site-packages/pandas/core/arraylike.py:397: RuntimeWarning: divide by zero encountered in log\n",
      "  result = getattr(ufunc, method)(*inputs, **kwargs)\n",
      "/Users/jonathanbenghiat/.pyenv/versions/3.9.10/envs/phobos/lib/python3.9/site-packages/pandas/core/arraylike.py:397: RuntimeWarning: divide by zero encountered in log\n",
      "  result = getattr(ufunc, method)(*inputs, **kwargs)\n"
     ]
    },
    {
     "name": "stdout",
     "output_type": "stream",
     "text": [
      "Ticker KODK failed\n"
     ]
    },
    {
     "name": "stderr",
     "output_type": "stream",
     "text": [
      "/Users/jonathanbenghiat/.pyenv/versions/3.9.10/envs/phobos/lib/python3.9/site-packages/pandas/core/arraylike.py:397: RuntimeWarning: divide by zero encountered in log\n",
      "  result = getattr(ufunc, method)(*inputs, **kwargs)\n",
      "/Users/jonathanbenghiat/.pyenv/versions/3.9.10/envs/phobos/lib/python3.9/site-packages/pandas/core/arraylike.py:397: RuntimeWarning: divide by zero encountered in log\n",
      "  result = getattr(ufunc, method)(*inputs, **kwargs)\n"
     ]
    },
    {
     "name": "stdout",
     "output_type": "stream",
     "text": [
      "Ticker ENDPQ failed\n"
     ]
    },
    {
     "name": "stderr",
     "output_type": "stream",
     "text": [
      "/Users/jonathanbenghiat/.pyenv/versions/3.9.10/envs/phobos/lib/python3.9/site-packages/pandas/core/arraylike.py:397: RuntimeWarning: divide by zero encountered in log\n",
      "  result = getattr(ufunc, method)(*inputs, **kwargs)\n",
      "/Users/jonathanbenghiat/.pyenv/versions/3.9.10/envs/phobos/lib/python3.9/site-packages/pandas/core/arraylike.py:397: RuntimeWarning: divide by zero encountered in log\n",
      "  result = getattr(ufunc, method)(*inputs, **kwargs)\n",
      "/Users/jonathanbenghiat/.pyenv/versions/3.9.10/envs/phobos/lib/python3.9/site-packages/pandas/core/arraylike.py:397: RuntimeWarning: divide by zero encountered in log\n",
      "  result = getattr(ufunc, method)(*inputs, **kwargs)\n",
      "/Users/jonathanbenghiat/.pyenv/versions/3.9.10/envs/phobos/lib/python3.9/site-packages/pandas/core/arraylike.py:397: RuntimeWarning: divide by zero encountered in log\n",
      "  result = getattr(ufunc, method)(*inputs, **kwargs)\n"
     ]
    },
    {
     "name": "stdout",
     "output_type": "stream",
     "text": [
      "Ticker VALPQ failed\n",
      "Ticker ETFC failed\n"
     ]
    },
    {
     "name": "stderr",
     "output_type": "stream",
     "text": [
      "/Users/jonathanbenghiat/.pyenv/versions/3.9.10/envs/phobos/lib/python3.9/site-packages/pandas/core/arraylike.py:397: RuntimeWarning: divide by zero encountered in log\n",
      "  result = getattr(ufunc, method)(*inputs, **kwargs)\n",
      "/Users/jonathanbenghiat/.pyenv/versions/3.9.10/envs/phobos/lib/python3.9/site-packages/pandas/core/arraylike.py:397: RuntimeWarning: divide by zero encountered in log\n",
      "  result = getattr(ufunc, method)(*inputs, **kwargs)\n",
      "/Users/jonathanbenghiat/.pyenv/versions/3.9.10/envs/phobos/lib/python3.9/site-packages/pandas/core/arraylike.py:397: RuntimeWarning: divide by zero encountered in log\n",
      "  result = getattr(ufunc, method)(*inputs, **kwargs)\n",
      "/Users/jonathanbenghiat/.pyenv/versions/3.9.10/envs/phobos/lib/python3.9/site-packages/pandas/core/arraylike.py:397: RuntimeWarning: divide by zero encountered in log\n",
      "  result = getattr(ufunc, method)(*inputs, **kwargs)\n",
      "/Users/jonathanbenghiat/.pyenv/versions/3.9.10/envs/phobos/lib/python3.9/site-packages/pandas/core/arraylike.py:397: RuntimeWarning: divide by zero encountered in log\n",
      "  result = getattr(ufunc, method)(*inputs, **kwargs)\n",
      "/Users/jonathanbenghiat/.pyenv/versions/3.9.10/envs/phobos/lib/python3.9/site-packages/pandas/core/arraylike.py:397: RuntimeWarning: divide by zero encountered in log\n",
      "  result = getattr(ufunc, method)(*inputs, **kwargs)\n"
     ]
    },
    {
     "name": "stdout",
     "output_type": "stream",
     "text": [
      "Ticker FDO failed\n"
     ]
    },
    {
     "name": "stderr",
     "output_type": "stream",
     "text": [
      "/Users/jonathanbenghiat/.pyenv/versions/3.9.10/envs/phobos/lib/python3.9/site-packages/pandas/core/arraylike.py:397: RuntimeWarning: divide by zero encountered in log\n",
      "  result = getattr(ufunc, method)(*inputs, **kwargs)\n",
      "/Users/jonathanbenghiat/.pyenv/versions/3.9.10/envs/phobos/lib/python3.9/site-packages/pandas/core/arraylike.py:397: RuntimeWarning: divide by zero encountered in log\n",
      "  result = getattr(ufunc, method)(*inputs, **kwargs)\n"
     ]
    },
    {
     "name": "stdout",
     "output_type": "stream",
     "text": [
      "Ticker FHI failed\n"
     ]
    },
    {
     "name": "stderr",
     "output_type": "stream",
     "text": [
      "/Users/jonathanbenghiat/.pyenv/versions/3.9.10/envs/phobos/lib/python3.9/site-packages/pandas/core/arraylike.py:397: RuntimeWarning: divide by zero encountered in log\n",
      "  result = getattr(ufunc, method)(*inputs, **kwargs)\n",
      "/Users/jonathanbenghiat/.pyenv/versions/3.9.10/envs/phobos/lib/python3.9/site-packages/pandas/core/arraylike.py:397: RuntimeWarning: divide by zero encountered in log\n",
      "  result = getattr(ufunc, method)(*inputs, **kwargs)\n"
     ]
    },
    {
     "name": "stdout",
     "output_type": "stream",
     "text": [
      "Ticker FLIR failed\n"
     ]
    },
    {
     "name": "stderr",
     "output_type": "stream",
     "text": [
      "/Users/jonathanbenghiat/.pyenv/versions/3.9.10/envs/phobos/lib/python3.9/site-packages/pandas/core/arraylike.py:397: RuntimeWarning: divide by zero encountered in log\n",
      "  result = getattr(ufunc, method)(*inputs, **kwargs)\n",
      "/Users/jonathanbenghiat/.pyenv/versions/3.9.10/envs/phobos/lib/python3.9/site-packages/pandas/core/arraylike.py:397: RuntimeWarning: divide by zero encountered in log\n",
      "  result = getattr(ufunc, method)(*inputs, **kwargs)\n",
      "/Users/jonathanbenghiat/.pyenv/versions/3.9.10/envs/phobos/lib/python3.9/site-packages/pandas/core/arraylike.py:397: RuntimeWarning: divide by zero encountered in log\n",
      "  result = getattr(ufunc, method)(*inputs, **kwargs)\n"
     ]
    },
    {
     "name": "stdout",
     "output_type": "stream",
     "text": [
      "Ticker BODY failed\n",
      "Ticker FYBR failed\n"
     ]
    },
    {
     "name": "stderr",
     "output_type": "stream",
     "text": [
      "/Users/jonathanbenghiat/.pyenv/versions/3.9.10/envs/phobos/lib/python3.9/site-packages/pandas/core/arraylike.py:397: RuntimeWarning: divide by zero encountered in log\n",
      "  result = getattr(ufunc, method)(*inputs, **kwargs)\n",
      "/Users/jonathanbenghiat/.pyenv/versions/3.9.10/envs/phobos/lib/python3.9/site-packages/pandas/core/arraylike.py:397: RuntimeWarning: divide by zero encountered in log\n",
      "  result = getattr(ufunc, method)(*inputs, **kwargs)\n",
      "/Users/jonathanbenghiat/.pyenv/versions/3.9.10/envs/phobos/lib/python3.9/site-packages/pandas/core/arraylike.py:397: RuntimeWarning: divide by zero encountered in log\n",
      "  result = getattr(ufunc, method)(*inputs, **kwargs)\n",
      "/Users/jonathanbenghiat/.pyenv/versions/3.9.10/envs/phobos/lib/python3.9/site-packages/pandas/core/arraylike.py:397: RuntimeWarning: divide by zero encountered in log\n",
      "  result = getattr(ufunc, method)(*inputs, **kwargs)\n"
     ]
    },
    {
     "name": "stdout",
     "output_type": "stream",
     "text": [
      "Ticker SNY failed\n",
      "Ticker BPYU failed\n"
     ]
    },
    {
     "name": "stderr",
     "output_type": "stream",
     "text": [
      "/Users/jonathanbenghiat/.pyenv/versions/3.9.10/envs/phobos/lib/python3.9/site-packages/pandas/core/arraylike.py:397: RuntimeWarning: divide by zero encountered in log\n",
      "  result = getattr(ufunc, method)(*inputs, **kwargs)\n",
      "/Users/jonathanbenghiat/.pyenv/versions/3.9.10/envs/phobos/lib/python3.9/site-packages/pandas/core/arraylike.py:397: RuntimeWarning: divide by zero encountered in log\n",
      "  result = getattr(ufunc, method)(*inputs, **kwargs)\n"
     ]
    },
    {
     "name": "stdout",
     "output_type": "stream",
     "text": [
      "Ticker GMCR failed\n"
     ]
    },
    {
     "name": "stderr",
     "output_type": "stream",
     "text": [
      "/Users/jonathanbenghiat/.pyenv/versions/3.9.10/envs/phobos/lib/python3.9/site-packages/pandas/core/arraylike.py:397: RuntimeWarning: divide by zero encountered in log\n",
      "  result = getattr(ufunc, method)(*inputs, **kwargs)\n",
      "/Users/jonathanbenghiat/.pyenv/versions/3.9.10/envs/phobos/lib/python3.9/site-packages/pandas/core/arraylike.py:397: RuntimeWarning: divide by zero encountered in log\n",
      "  result = getattr(ufunc, method)(*inputs, **kwargs)\n",
      "/Users/jonathanbenghiat/.pyenv/versions/3.9.10/envs/phobos/lib/python3.9/site-packages/pandas/core/arraylike.py:397: RuntimeWarning: divide by zero encountered in log\n",
      "  result = getattr(ufunc, method)(*inputs, **kwargs)\n",
      "/Users/jonathanbenghiat/.pyenv/versions/3.9.10/envs/phobos/lib/python3.9/site-packages/pandas/core/arraylike.py:397: RuntimeWarning: divide by zero encountered in log\n",
      "  result = getattr(ufunc, method)(*inputs, **kwargs)\n",
      "/Users/jonathanbenghiat/.pyenv/versions/3.9.10/envs/phobos/lib/python3.9/site-packages/pandas/core/arraylike.py:397: RuntimeWarning: divide by zero encountered in log\n",
      "  result = getattr(ufunc, method)(*inputs, **kwargs)\n",
      "/Users/jonathanbenghiat/.pyenv/versions/3.9.10/envs/phobos/lib/python3.9/site-packages/pandas/core/arraylike.py:397: RuntimeWarning: divide by zero encountered in log\n",
      "  result = getattr(ufunc, method)(*inputs, **kwargs)\n",
      "/Users/jonathanbenghiat/.pyenv/versions/3.9.10/envs/phobos/lib/python3.9/site-packages/pandas/core/arraylike.py:397: RuntimeWarning: divide by zero encountered in log\n",
      "  result = getattr(ufunc, method)(*inputs, **kwargs)\n"
     ]
    },
    {
     "name": "stdout",
     "output_type": "stream",
     "text": [
      "Ticker HCBK failed\n",
      "Ticker HFC failed\n"
     ]
    },
    {
     "name": "stderr",
     "output_type": "stream",
     "text": [
      "/Users/jonathanbenghiat/.pyenv/versions/3.9.10/envs/phobos/lib/python3.9/site-packages/pandas/core/arraylike.py:397: RuntimeWarning: divide by zero encountered in log\n",
      "  result = getattr(ufunc, method)(*inputs, **kwargs)\n",
      "/Users/jonathanbenghiat/.pyenv/versions/3.9.10/envs/phobos/lib/python3.9/site-packages/pandas/core/arraylike.py:397: RuntimeWarning: divide by zero encountered in log\n",
      "  result = getattr(ufunc, method)(*inputs, **kwargs)\n",
      "/Users/jonathanbenghiat/.pyenv/versions/3.9.10/envs/phobos/lib/python3.9/site-packages/pandas/core/arraylike.py:397: RuntimeWarning: divide by zero encountered in log\n",
      "  result = getattr(ufunc, method)(*inputs, **kwargs)\n",
      "/Users/jonathanbenghiat/.pyenv/versions/3.9.10/envs/phobos/lib/python3.9/site-packages/pandas/core/arraylike.py:397: RuntimeWarning: divide by zero encountered in log\n",
      "  result = getattr(ufunc, method)(*inputs, **kwargs)\n",
      "/Users/jonathanbenghiat/.pyenv/versions/3.9.10/envs/phobos/lib/python3.9/site-packages/pandas/core/arraylike.py:397: RuntimeWarning: divide by zero encountered in log\n",
      "  result = getattr(ufunc, method)(*inputs, **kwargs)\n",
      "/Users/jonathanbenghiat/.pyenv/versions/3.9.10/envs/phobos/lib/python3.9/site-packages/pandas/core/arraylike.py:397: RuntimeWarning: divide by zero encountered in log\n",
      "  result = getattr(ufunc, method)(*inputs, **kwargs)\n"
     ]
    },
    {
     "name": "stdout",
     "output_type": "stream",
     "text": [
      "Ticker HSP failed\n"
     ]
    },
    {
     "name": "stderr",
     "output_type": "stream",
     "text": [
      "/Users/jonathanbenghiat/.pyenv/versions/3.9.10/envs/phobos/lib/python3.9/site-packages/pandas/core/arraylike.py:397: RuntimeWarning: divide by zero encountered in log\n",
      "  result = getattr(ufunc, method)(*inputs, **kwargs)\n",
      "/Users/jonathanbenghiat/.pyenv/versions/3.9.10/envs/phobos/lib/python3.9/site-packages/pandas/core/arraylike.py:397: RuntimeWarning: divide by zero encountered in log\n",
      "  result = getattr(ufunc, method)(*inputs, **kwargs)\n",
      "/Users/jonathanbenghiat/.pyenv/versions/3.9.10/envs/phobos/lib/python3.9/site-packages/pandas/core/arraylike.py:397: RuntimeWarning: divide by zero encountered in log\n",
      "  result = getattr(ufunc, method)(*inputs, **kwargs)\n",
      "/Users/jonathanbenghiat/.pyenv/versions/3.9.10/envs/phobos/lib/python3.9/site-packages/pandas/core/arraylike.py:397: RuntimeWarning: divide by zero encountered in log\n",
      "  result = getattr(ufunc, method)(*inputs, **kwargs)\n"
     ]
    },
    {
     "name": "stdout",
     "output_type": "stream",
     "text": [
      "Ticker INFO failed\n"
     ]
    },
    {
     "name": "stderr",
     "output_type": "stream",
     "text": [
      "/Users/jonathanbenghiat/.pyenv/versions/3.9.10/envs/phobos/lib/python3.9/site-packages/pandas/core/arraylike.py:397: RuntimeWarning: divide by zero encountered in log\n",
      "  result = getattr(ufunc, method)(*inputs, **kwargs)\n",
      "/Users/jonathanbenghiat/.pyenv/versions/3.9.10/envs/phobos/lib/python3.9/site-packages/pandas/core/arraylike.py:397: RuntimeWarning: divide by zero encountered in log\n",
      "  result = getattr(ufunc, method)(*inputs, **kwargs)\n",
      "/Users/jonathanbenghiat/.pyenv/versions/3.9.10/envs/phobos/lib/python3.9/site-packages/pandas/core/arraylike.py:397: RuntimeWarning: divide by zero encountered in log\n",
      "  result = getattr(ufunc, method)(*inputs, **kwargs)\n",
      "/Users/jonathanbenghiat/.pyenv/versions/3.9.10/envs/phobos/lib/python3.9/site-packages/pandas/core/arraylike.py:397: RuntimeWarning: divide by zero encountered in log\n",
      "  result = getattr(ufunc, method)(*inputs, **kwargs)\n",
      "/Users/jonathanbenghiat/.pyenv/versions/3.9.10/envs/phobos/lib/python3.9/site-packages/pandas/core/arraylike.py:397: RuntimeWarning: divide by zero encountered in log\n",
      "  result = getattr(ufunc, method)(*inputs, **kwargs)\n",
      "/Users/jonathanbenghiat/.pyenv/versions/3.9.10/envs/phobos/lib/python3.9/site-packages/pandas/core/arraylike.py:397: RuntimeWarning: divide by zero encountered in log\n",
      "  result = getattr(ufunc, method)(*inputs, **kwargs)\n",
      "/Users/jonathanbenghiat/.pyenv/versions/3.9.10/envs/phobos/lib/python3.9/site-packages/pandas/core/arraylike.py:397: RuntimeWarning: divide by zero encountered in log\n",
      "  result = getattr(ufunc, method)(*inputs, **kwargs)\n",
      "/Users/jonathanbenghiat/.pyenv/versions/3.9.10/envs/phobos/lib/python3.9/site-packages/pandas/core/arraylike.py:397: RuntimeWarning: divide by zero encountered in log\n",
      "  result = getattr(ufunc, method)(*inputs, **kwargs)\n"
     ]
    },
    {
     "name": "stdout",
     "output_type": "stream",
     "text": [
      "Ticker CPPRQ failed\n",
      "Ticker VIAV failed\n"
     ]
    },
    {
     "name": "stderr",
     "output_type": "stream",
     "text": [
      "/Users/jonathanbenghiat/.pyenv/versions/3.9.10/envs/phobos/lib/python3.9/site-packages/pandas/core/arraylike.py:397: RuntimeWarning: divide by zero encountered in log\n",
      "  result = getattr(ufunc, method)(*inputs, **kwargs)\n",
      "/Users/jonathanbenghiat/.pyenv/versions/3.9.10/envs/phobos/lib/python3.9/site-packages/pandas/core/arraylike.py:397: RuntimeWarning: divide by zero encountered in log\n",
      "  result = getattr(ufunc, method)(*inputs, **kwargs)\n",
      "/Users/jonathanbenghiat/.pyenv/versions/3.9.10/envs/phobos/lib/python3.9/site-packages/pandas/core/arraylike.py:397: RuntimeWarning: divide by zero encountered in log\n",
      "  result = getattr(ufunc, method)(*inputs, **kwargs)\n"
     ]
    },
    {
     "name": "stdout",
     "output_type": "stream",
     "text": [
      "Ticker JNS failed\n",
      "Ticker JOY failed\n"
     ]
    },
    {
     "name": "stderr",
     "output_type": "stream",
     "text": [
      "/Users/jonathanbenghiat/.pyenv/versions/3.9.10/envs/phobos/lib/python3.9/site-packages/pandas/core/arraylike.py:397: RuntimeWarning: divide by zero encountered in log\n",
      "  result = getattr(ufunc, method)(*inputs, **kwargs)\n",
      "/Users/jonathanbenghiat/.pyenv/versions/3.9.10/envs/phobos/lib/python3.9/site-packages/pandas/core/arraylike.py:397: RuntimeWarning: divide by zero encountered in log\n",
      "  result = getattr(ufunc, method)(*inputs, **kwargs)\n",
      "/Users/jonathanbenghiat/.pyenv/versions/3.9.10/envs/phobos/lib/python3.9/site-packages/pandas/core/arraylike.py:397: RuntimeWarning: divide by zero encountered in log\n",
      "  result = getattr(ufunc, method)(*inputs, **kwargs)\n",
      "/Users/jonathanbenghiat/.pyenv/versions/3.9.10/envs/phobos/lib/python3.9/site-packages/pandas/core/arraylike.py:397: RuntimeWarning: divide by zero encountered in log\n",
      "  result = getattr(ufunc, method)(*inputs, **kwargs)\n",
      "/Users/jonathanbenghiat/.pyenv/versions/3.9.10/envs/phobos/lib/python3.9/site-packages/pandas/core/arraylike.py:397: RuntimeWarning: divide by zero encountered in log\n",
      "  result = getattr(ufunc, method)(*inputs, **kwargs)\n"
     ]
    },
    {
     "name": "stdout",
     "output_type": "stream",
     "text": [
      "Ticker KSU failed\n"
     ]
    },
    {
     "name": "stderr",
     "output_type": "stream",
     "text": [
      "/Users/jonathanbenghiat/.pyenv/versions/3.9.10/envs/phobos/lib/python3.9/site-packages/pandas/core/arraylike.py:397: RuntimeWarning: divide by zero encountered in log\n",
      "  result = getattr(ufunc, method)(*inputs, **kwargs)\n",
      "/Users/jonathanbenghiat/.pyenv/versions/3.9.10/envs/phobos/lib/python3.9/site-packages/pandas/core/arraylike.py:397: RuntimeWarning: divide by zero encountered in log\n",
      "  result = getattr(ufunc, method)(*inputs, **kwargs)\n",
      "/Users/jonathanbenghiat/.pyenv/versions/3.9.10/envs/phobos/lib/python3.9/site-packages/pandas/core/arraylike.py:397: RuntimeWarning: divide by zero encountered in log\n",
      "  result = getattr(ufunc, method)(*inputs, **kwargs)\n",
      "/Users/jonathanbenghiat/.pyenv/versions/3.9.10/envs/phobos/lib/python3.9/site-packages/pandas/core/arraylike.py:397: RuntimeWarning: divide by zero encountered in log\n",
      "  result = getattr(ufunc, method)(*inputs, **kwargs)\n"
     ]
    },
    {
     "name": "stdout",
     "output_type": "stream",
     "text": [
      "Ticker LLL failed\n",
      "Ticker LLTC failed\n"
     ]
    },
    {
     "name": "stderr",
     "output_type": "stream",
     "text": [
      "/Users/jonathanbenghiat/.pyenv/versions/3.9.10/envs/phobos/lib/python3.9/site-packages/pandas/core/arraylike.py:397: RuntimeWarning: divide by zero encountered in log\n",
      "  result = getattr(ufunc, method)(*inputs, **kwargs)\n"
     ]
    },
    {
     "name": "stdout",
     "output_type": "stream",
     "text": [
      "Ticker LM failed\n"
     ]
    },
    {
     "name": "stderr",
     "output_type": "stream",
     "text": [
      "/Users/jonathanbenghiat/.pyenv/versions/3.9.10/envs/phobos/lib/python3.9/site-packages/pandas/core/arraylike.py:397: RuntimeWarning: divide by zero encountered in log\n",
      "  result = getattr(ufunc, method)(*inputs, **kwargs)\n",
      "/Users/jonathanbenghiat/.pyenv/versions/3.9.10/envs/phobos/lib/python3.9/site-packages/pandas/core/arraylike.py:397: RuntimeWarning: divide by zero encountered in log\n",
      "  result = getattr(ufunc, method)(*inputs, **kwargs)\n"
     ]
    },
    {
     "name": "stdout",
     "output_type": "stream",
     "text": [
      "Ticker LO failed\n"
     ]
    },
    {
     "name": "stderr",
     "output_type": "stream",
     "text": [
      "/Users/jonathanbenghiat/.pyenv/versions/3.9.10/envs/phobos/lib/python3.9/site-packages/pandas/core/arraylike.py:397: RuntimeWarning: divide by zero encountered in log\n",
      "  result = getattr(ufunc, method)(*inputs, **kwargs)\n"
     ]
    },
    {
     "name": "stdout",
     "output_type": "stream",
     "text": [
      "Ticker LVLT failed\n",
      "Ticker LXK failed\n"
     ]
    },
    {
     "name": "stderr",
     "output_type": "stream",
     "text": [
      "/Users/jonathanbenghiat/.pyenv/versions/3.9.10/envs/phobos/lib/python3.9/site-packages/pandas/core/arraylike.py:397: RuntimeWarning: divide by zero encountered in log\n",
      "  result = getattr(ufunc, method)(*inputs, **kwargs)\n",
      "/Users/jonathanbenghiat/.pyenv/versions/3.9.10/envs/phobos/lib/python3.9/site-packages/pandas/core/arraylike.py:397: RuntimeWarning: divide by zero encountered in log\n",
      "  result = getattr(ufunc, method)(*inputs, **kwargs)\n",
      "/Users/jonathanbenghiat/.pyenv/versions/3.9.10/envs/phobos/lib/python3.9/site-packages/pandas/core/arraylike.py:397: RuntimeWarning: divide by zero encountered in log\n",
      "  result = getattr(ufunc, method)(*inputs, **kwargs)\n",
      "/Users/jonathanbenghiat/.pyenv/versions/3.9.10/envs/phobos/lib/python3.9/site-packages/pandas/core/arraylike.py:397: RuntimeWarning: divide by zero encountered in log\n",
      "  result = getattr(ufunc, method)(*inputs, **kwargs)\n",
      "/Users/jonathanbenghiat/.pyenv/versions/3.9.10/envs/phobos/lib/python3.9/site-packages/pandas/core/arraylike.py:397: RuntimeWarning: divide by zero encountered in log\n",
      "  result = getattr(ufunc, method)(*inputs, **kwargs)\n",
      "/Users/jonathanbenghiat/.pyenv/versions/3.9.10/envs/phobos/lib/python3.9/site-packages/pandas/core/arraylike.py:397: RuntimeWarning: divide by zero encountered in log\n",
      "  result = getattr(ufunc, method)(*inputs, **kwargs)\n",
      "/Users/jonathanbenghiat/.pyenv/versions/3.9.10/envs/phobos/lib/python3.9/site-packages/pandas/core/arraylike.py:397: RuntimeWarning: divide by zero encountered in log\n",
      "  result = getattr(ufunc, method)(*inputs, **kwargs)\n",
      "/Users/jonathanbenghiat/.pyenv/versions/3.9.10/envs/phobos/lib/python3.9/site-packages/pandas/core/arraylike.py:397: RuntimeWarning: divide by zero encountered in log\n",
      "  result = getattr(ufunc, method)(*inputs, **kwargs)\n"
     ]
    },
    {
     "name": "stdout",
     "output_type": "stream",
     "text": [
      "Ticker SRL failed\n",
      "Ticker MJN failed\n"
     ]
    },
    {
     "name": "stderr",
     "output_type": "stream",
     "text": [
      "/Users/jonathanbenghiat/.pyenv/versions/3.9.10/envs/phobos/lib/python3.9/site-packages/pandas/core/arraylike.py:397: RuntimeWarning: divide by zero encountered in log\n",
      "  result = getattr(ufunc, method)(*inputs, **kwargs)\n",
      "/Users/jonathanbenghiat/.pyenv/versions/3.9.10/envs/phobos/lib/python3.9/site-packages/pandas/core/arraylike.py:397: RuntimeWarning: divide by zero encountered in log\n",
      "  result = getattr(ufunc, method)(*inputs, **kwargs)\n",
      "/Users/jonathanbenghiat/.pyenv/versions/3.9.10/envs/phobos/lib/python3.9/site-packages/pandas/core/arraylike.py:397: RuntimeWarning: divide by zero encountered in log\n",
      "  result = getattr(ufunc, method)(*inputs, **kwargs)\n",
      "/Users/jonathanbenghiat/.pyenv/versions/3.9.10/envs/phobos/lib/python3.9/site-packages/pandas/core/arraylike.py:397: RuntimeWarning: divide by zero encountered in log\n",
      "  result = getattr(ufunc, method)(*inputs, **kwargs)\n",
      "/Users/jonathanbenghiat/.pyenv/versions/3.9.10/envs/phobos/lib/python3.9/site-packages/pandas/core/arraylike.py:397: RuntimeWarning: divide by zero encountered in log\n",
      "  result = getattr(ufunc, method)(*inputs, **kwargs)\n",
      "/Users/jonathanbenghiat/.pyenv/versions/3.9.10/envs/phobos/lib/python3.9/site-packages/pandas/core/arraylike.py:397: RuntimeWarning: divide by zero encountered in log\n",
      "  result = getattr(ufunc, method)(*inputs, **kwargs)\n",
      "/Users/jonathanbenghiat/.pyenv/versions/3.9.10/envs/phobos/lib/python3.9/site-packages/pandas/core/arraylike.py:397: RuntimeWarning: divide by zero encountered in log\n",
      "  result = getattr(ufunc, method)(*inputs, **kwargs)\n",
      "/Users/jonathanbenghiat/.pyenv/versions/3.9.10/envs/phobos/lib/python3.9/site-packages/pandas/core/arraylike.py:397: RuntimeWarning: divide by zero encountered in log\n",
      "  result = getattr(ufunc, method)(*inputs, **kwargs)\n",
      "/Users/jonathanbenghiat/.pyenv/versions/3.9.10/envs/phobos/lib/python3.9/site-packages/pandas/core/arraylike.py:397: RuntimeWarning: divide by zero encountered in log\n",
      "  result = getattr(ufunc, method)(*inputs, **kwargs)\n",
      "/Users/jonathanbenghiat/.pyenv/versions/3.9.10/envs/phobos/lib/python3.9/site-packages/pandas/core/arraylike.py:397: RuntimeWarning: divide by zero encountered in log\n",
      "  result = getattr(ufunc, method)(*inputs, **kwargs)\n",
      "/Users/jonathanbenghiat/.pyenv/versions/3.9.10/envs/phobos/lib/python3.9/site-packages/pandas/core/arraylike.py:397: RuntimeWarning: divide by zero encountered in log\n",
      "  result = getattr(ufunc, method)(*inputs, **kwargs)\n",
      "/Users/jonathanbenghiat/.pyenv/versions/3.9.10/envs/phobos/lib/python3.9/site-packages/pandas/core/arraylike.py:397: RuntimeWarning: divide by zero encountered in log\n",
      "  result = getattr(ufunc, method)(*inputs, **kwargs)\n"
     ]
    },
    {
     "name": "stdout",
     "output_type": "stream",
     "text": [
      "Ticker MWW failed\n",
      "Ticker MXIM failed\n",
      "Ticker NBL failed\n"
     ]
    },
    {
     "name": "stderr",
     "output_type": "stream",
     "text": [
      "/Users/jonathanbenghiat/.pyenv/versions/3.9.10/envs/phobos/lib/python3.9/site-packages/pandas/core/arraylike.py:397: RuntimeWarning: divide by zero encountered in log\n",
      "  result = getattr(ufunc, method)(*inputs, **kwargs)\n",
      "/Users/jonathanbenghiat/.pyenv/versions/3.9.10/envs/phobos/lib/python3.9/site-packages/pandas/core/arraylike.py:397: RuntimeWarning: divide by zero encountered in log\n",
      "  result = getattr(ufunc, method)(*inputs, **kwargs)\n",
      "/Users/jonathanbenghiat/.pyenv/versions/3.9.10/envs/phobos/lib/python3.9/site-packages/pandas/core/arraylike.py:397: RuntimeWarning: divide by zero encountered in log\n",
      "  result = getattr(ufunc, method)(*inputs, **kwargs)\n",
      "/Users/jonathanbenghiat/.pyenv/versions/3.9.10/envs/phobos/lib/python3.9/site-packages/pandas/core/arraylike.py:397: RuntimeWarning: divide by zero encountered in log\n",
      "  result = getattr(ufunc, method)(*inputs, **kwargs)\n",
      "/Users/jonathanbenghiat/.pyenv/versions/3.9.10/envs/phobos/lib/python3.9/site-packages/pandas/core/arraylike.py:397: RuntimeWarning: divide by zero encountered in log\n",
      "  result = getattr(ufunc, method)(*inputs, **kwargs)\n",
      "/Users/jonathanbenghiat/.pyenv/versions/3.9.10/envs/phobos/lib/python3.9/site-packages/pandas/core/arraylike.py:397: RuntimeWarning: divide by zero encountered in log\n",
      "  result = getattr(ufunc, method)(*inputs, **kwargs)\n",
      "/Users/jonathanbenghiat/.pyenv/versions/3.9.10/envs/phobos/lib/python3.9/site-packages/pandas/core/arraylike.py:397: RuntimeWarning: divide by zero encountered in log\n",
      "  result = getattr(ufunc, method)(*inputs, **kwargs)\n",
      "/Users/jonathanbenghiat/.pyenv/versions/3.9.10/envs/phobos/lib/python3.9/site-packages/pandas/core/arraylike.py:397: RuntimeWarning: divide by zero encountered in log\n",
      "  result = getattr(ufunc, method)(*inputs, **kwargs)\n"
     ]
    },
    {
     "name": "stdout",
     "output_type": "stream",
     "text": [
      "Ticker NLSN failed\n"
     ]
    },
    {
     "name": "stderr",
     "output_type": "stream",
     "text": [
      "/Users/jonathanbenghiat/.pyenv/versions/3.9.10/envs/phobos/lib/python3.9/site-packages/pandas/core/arraylike.py:397: RuntimeWarning: divide by zero encountered in log\n",
      "  result = getattr(ufunc, method)(*inputs, **kwargs)\n",
      "/Users/jonathanbenghiat/.pyenv/versions/3.9.10/envs/phobos/lib/python3.9/site-packages/pandas/core/arraylike.py:397: RuntimeWarning: divide by zero encountered in log\n",
      "  result = getattr(ufunc, method)(*inputs, **kwargs)\n",
      "/Users/jonathanbenghiat/.pyenv/versions/3.9.10/envs/phobos/lib/python3.9/site-packages/pandas/core/arraylike.py:397: RuntimeWarning: divide by zero encountered in log\n",
      "  result = getattr(ufunc, method)(*inputs, **kwargs)\n"
     ]
    },
    {
     "name": "stdout",
     "output_type": "stream",
     "text": [
      "Ticker ALPN failed\n"
     ]
    },
    {
     "name": "stderr",
     "output_type": "stream",
     "text": [
      "/Users/jonathanbenghiat/.pyenv/versions/3.9.10/envs/phobos/lib/python3.9/site-packages/pandas/core/arraylike.py:397: RuntimeWarning: divide by zero encountered in log\n",
      "  result = getattr(ufunc, method)(*inputs, **kwargs)\n",
      "/Users/jonathanbenghiat/.pyenv/versions/3.9.10/envs/phobos/lib/python3.9/site-packages/pandas/core/arraylike.py:397: RuntimeWarning: divide by zero encountered in log\n",
      "  result = getattr(ufunc, method)(*inputs, **kwargs)\n",
      "/Users/jonathanbenghiat/.pyenv/versions/3.9.10/envs/phobos/lib/python3.9/site-packages/pandas/core/arraylike.py:397: RuntimeWarning: divide by zero encountered in log\n",
      "  result = getattr(ufunc, method)(*inputs, **kwargs)\n",
      "/Users/jonathanbenghiat/.pyenv/versions/3.9.10/envs/phobos/lib/python3.9/site-packages/pandas/core/arraylike.py:397: RuntimeWarning: divide by zero encountered in log\n",
      "  result = getattr(ufunc, method)(*inputs, **kwargs)\n",
      "/Users/jonathanbenghiat/.pyenv/versions/3.9.10/envs/phobos/lib/python3.9/site-packages/pandas/core/arraylike.py:397: RuntimeWarning: divide by zero encountered in log\n",
      "  result = getattr(ufunc, method)(*inputs, **kwargs)\n",
      "/Users/jonathanbenghiat/.pyenv/versions/3.9.10/envs/phobos/lib/python3.9/site-packages/pandas/core/arraylike.py:397: RuntimeWarning: divide by zero encountered in log\n",
      "  result = getattr(ufunc, method)(*inputs, **kwargs)\n",
      "/Users/jonathanbenghiat/.pyenv/versions/3.9.10/envs/phobos/lib/python3.9/site-packages/pandas/core/arraylike.py:397: RuntimeWarning: divide by zero encountered in log\n",
      "  result = getattr(ufunc, method)(*inputs, **kwargs)\n"
     ]
    },
    {
     "name": "stdout",
     "output_type": "stream",
     "text": [
      "Ticker PBCT failed\n"
     ]
    },
    {
     "name": "stderr",
     "output_type": "stream",
     "text": [
      "/Users/jonathanbenghiat/.pyenv/versions/3.9.10/envs/phobos/lib/python3.9/site-packages/pandas/core/arraylike.py:397: RuntimeWarning: divide by zero encountered in log\n",
      "  result = getattr(ufunc, method)(*inputs, **kwargs)\n",
      "/Users/jonathanbenghiat/.pyenv/versions/3.9.10/envs/phobos/lib/python3.9/site-packages/pandas/core/arraylike.py:397: RuntimeWarning: divide by zero encountered in log\n",
      "  result = getattr(ufunc, method)(*inputs, **kwargs)\n",
      "/Users/jonathanbenghiat/.pyenv/versions/3.9.10/envs/phobos/lib/python3.9/site-packages/pandas/core/arraylike.py:397: RuntimeWarning: divide by zero encountered in log\n",
      "  result = getattr(ufunc, method)(*inputs, **kwargs)\n",
      "/Users/jonathanbenghiat/.pyenv/versions/3.9.10/envs/phobos/lib/python3.9/site-packages/pandas/core/arraylike.py:397: RuntimeWarning: divide by zero encountered in log\n",
      "  result = getattr(ufunc, method)(*inputs, **kwargs)\n",
      "/Users/jonathanbenghiat/.pyenv/versions/3.9.10/envs/phobos/lib/python3.9/site-packages/pandas/core/arraylike.py:397: RuntimeWarning: divide by zero encountered in log\n",
      "  result = getattr(ufunc, method)(*inputs, **kwargs)\n",
      "/Users/jonathanbenghiat/.pyenv/versions/3.9.10/envs/phobos/lib/python3.9/site-packages/pandas/core/arraylike.py:397: RuntimeWarning: divide by zero encountered in log\n",
      "  result = getattr(ufunc, method)(*inputs, **kwargs)\n",
      "/Users/jonathanbenghiat/.pyenv/versions/3.9.10/envs/phobos/lib/python3.9/site-packages/pandas/core/arraylike.py:397: RuntimeWarning: divide by zero encountered in log\n",
      "  result = getattr(ufunc, method)(*inputs, **kwargs)\n",
      "/Users/jonathanbenghiat/.pyenv/versions/3.9.10/envs/phobos/lib/python3.9/site-packages/pandas/core/arraylike.py:397: RuntimeWarning: divide by zero encountered in log\n",
      "  result = getattr(ufunc, method)(*inputs, **kwargs)\n",
      "/Users/jonathanbenghiat/.pyenv/versions/3.9.10/envs/phobos/lib/python3.9/site-packages/pandas/core/arraylike.py:397: RuntimeWarning: divide by zero encountered in log\n",
      "  result = getattr(ufunc, method)(*inputs, **kwargs)\n"
     ]
    },
    {
     "name": "stdout",
     "output_type": "stream",
     "text": [
      "Ticker PGNPQ failed\n"
     ]
    },
    {
     "name": "stderr",
     "output_type": "stream",
     "text": [
      "/Users/jonathanbenghiat/.pyenv/versions/3.9.10/envs/phobos/lib/python3.9/site-packages/pandas/core/arraylike.py:397: RuntimeWarning: divide by zero encountered in log\n",
      "  result = getattr(ufunc, method)(*inputs, **kwargs)\n",
      "/Users/jonathanbenghiat/.pyenv/versions/3.9.10/envs/phobos/lib/python3.9/site-packages/pandas/core/arraylike.py:397: RuntimeWarning: divide by zero encountered in log\n",
      "  result = getattr(ufunc, method)(*inputs, **kwargs)\n",
      "/Users/jonathanbenghiat/.pyenv/versions/3.9.10/envs/phobos/lib/python3.9/site-packages/pandas/core/arraylike.py:397: RuntimeWarning: divide by zero encountered in log\n",
      "  result = getattr(ufunc, method)(*inputs, **kwargs)\n",
      "/Users/jonathanbenghiat/.pyenv/versions/3.9.10/envs/phobos/lib/python3.9/site-packages/pandas/core/arraylike.py:397: RuntimeWarning: divide by zero encountered in log\n",
      "  result = getattr(ufunc, method)(*inputs, **kwargs)\n",
      "/Users/jonathanbenghiat/.pyenv/versions/3.9.10/envs/phobos/lib/python3.9/site-packages/pandas/core/arraylike.py:397: RuntimeWarning: divide by zero encountered in log\n",
      "  result = getattr(ufunc, method)(*inputs, **kwargs)\n",
      "/Users/jonathanbenghiat/.pyenv/versions/3.9.10/envs/phobos/lib/python3.9/site-packages/pandas/core/arraylike.py:397: RuntimeWarning: divide by zero encountered in log\n",
      "  result = getattr(ufunc, method)(*inputs, **kwargs)\n",
      "/Users/jonathanbenghiat/.pyenv/versions/3.9.10/envs/phobos/lib/python3.9/site-packages/pandas/core/arraylike.py:397: RuntimeWarning: divide by zero encountered in log\n",
      "  result = getattr(ufunc, method)(*inputs, **kwargs)\n",
      "/Users/jonathanbenghiat/.pyenv/versions/3.9.10/envs/phobos/lib/python3.9/site-packages/pandas/core/arraylike.py:397: RuntimeWarning: divide by zero encountered in log\n",
      "  result = getattr(ufunc, method)(*inputs, **kwargs)\n",
      "/Users/jonathanbenghiat/.pyenv/versions/3.9.10/envs/phobos/lib/python3.9/site-packages/pandas/core/arraylike.py:397: RuntimeWarning: divide by zero encountered in log\n",
      "  result = getattr(ufunc, method)(*inputs, **kwargs)\n",
      "/Users/jonathanbenghiat/.pyenv/versions/3.9.10/envs/phobos/lib/python3.9/site-packages/pandas/core/arraylike.py:397: RuntimeWarning: divide by zero encountered in log\n",
      "  result = getattr(ufunc, method)(*inputs, **kwargs)\n",
      "/Users/jonathanbenghiat/.pyenv/versions/3.9.10/envs/phobos/lib/python3.9/site-packages/pandas/core/arraylike.py:397: RuntimeWarning: divide by zero encountered in log\n",
      "  result = getattr(ufunc, method)(*inputs, **kwargs)\n",
      "/Users/jonathanbenghiat/.pyenv/versions/3.9.10/envs/phobos/lib/python3.9/site-packages/pandas/core/arraylike.py:397: RuntimeWarning: divide by zero encountered in log\n",
      "  result = getattr(ufunc, method)(*inputs, **kwargs)\n"
     ]
    },
    {
     "name": "stdout",
     "output_type": "stream",
     "text": [
      "Ticker QEP failed\n",
      "Ticker RAI failed\n",
      "Ticker RDC failed\n"
     ]
    },
    {
     "name": "stderr",
     "output_type": "stream",
     "text": [
      "/Users/jonathanbenghiat/.pyenv/versions/3.9.10/envs/phobos/lib/python3.9/site-packages/pandas/core/arraylike.py:397: RuntimeWarning: divide by zero encountered in log\n",
      "  result = getattr(ufunc, method)(*inputs, **kwargs)\n",
      "/Users/jonathanbenghiat/.pyenv/versions/3.9.10/envs/phobos/lib/python3.9/site-packages/pandas/core/arraylike.py:397: RuntimeWarning: divide by zero encountered in log\n",
      "  result = getattr(ufunc, method)(*inputs, **kwargs)\n",
      "/Users/jonathanbenghiat/.pyenv/versions/3.9.10/envs/phobos/lib/python3.9/site-packages/pandas/core/arraylike.py:397: RuntimeWarning: divide by zero encountered in log\n",
      "  result = getattr(ufunc, method)(*inputs, **kwargs)\n"
     ]
    },
    {
     "name": "stdout",
     "output_type": "stream",
     "text": [
      "Ticker RHT failed\n"
     ]
    },
    {
     "name": "stderr",
     "output_type": "stream",
     "text": [
      "/Users/jonathanbenghiat/.pyenv/versions/3.9.10/envs/phobos/lib/python3.9/site-packages/pandas/core/arraylike.py:397: RuntimeWarning: divide by zero encountered in log\n",
      "  result = getattr(ufunc, method)(*inputs, **kwargs)\n",
      "/Users/jonathanbenghiat/.pyenv/versions/3.9.10/envs/phobos/lib/python3.9/site-packages/pandas/core/arraylike.py:397: RuntimeWarning: divide by zero encountered in log\n",
      "  result = getattr(ufunc, method)(*inputs, **kwargs)\n",
      "/Users/jonathanbenghiat/.pyenv/versions/3.9.10/envs/phobos/lib/python3.9/site-packages/pandas/core/arraylike.py:397: RuntimeWarning: divide by zero encountered in log\n",
      "  result = getattr(ufunc, method)(*inputs, **kwargs)\n",
      "/Users/jonathanbenghiat/.pyenv/versions/3.9.10/envs/phobos/lib/python3.9/site-packages/pandas/core/arraylike.py:397: RuntimeWarning: divide by zero encountered in log\n",
      "  result = getattr(ufunc, method)(*inputs, **kwargs)\n"
     ]
    },
    {
     "name": "stdout",
     "output_type": "stream",
     "text": [
      "Ticker RRD failed\n"
     ]
    },
    {
     "name": "stderr",
     "output_type": "stream",
     "text": [
      "/Users/jonathanbenghiat/.pyenv/versions/3.9.10/envs/phobos/lib/python3.9/site-packages/pandas/core/arraylike.py:397: RuntimeWarning: divide by zero encountered in log\n",
      "  result = getattr(ufunc, method)(*inputs, **kwargs)\n"
     ]
    },
    {
     "name": "stdout",
     "output_type": "stream",
     "text": [
      "Ticker RTN failed\n"
     ]
    },
    {
     "name": "stderr",
     "output_type": "stream",
     "text": [
      "/Users/jonathanbenghiat/.pyenv/versions/3.9.10/envs/phobos/lib/python3.9/site-packages/pandas/core/arraylike.py:397: RuntimeWarning: divide by zero encountered in log\n",
      "  result = getattr(ufunc, method)(*inputs, **kwargs)\n",
      "/Users/jonathanbenghiat/.pyenv/versions/3.9.10/envs/phobos/lib/python3.9/site-packages/pandas/core/arraylike.py:397: RuntimeWarning: divide by zero encountered in log\n",
      "  result = getattr(ufunc, method)(*inputs, **kwargs)\n",
      "/Users/jonathanbenghiat/.pyenv/versions/3.9.10/envs/phobos/lib/python3.9/site-packages/pandas/core/arraylike.py:397: RuntimeWarning: divide by zero encountered in log\n",
      "  result = getattr(ufunc, method)(*inputs, **kwargs)\n",
      "/Users/jonathanbenghiat/.pyenv/versions/3.9.10/envs/phobos/lib/python3.9/site-packages/pandas/core/arraylike.py:397: RuntimeWarning: divide by zero encountered in log\n",
      "  result = getattr(ufunc, method)(*inputs, **kwargs)\n",
      "/Users/jonathanbenghiat/.pyenv/versions/3.9.10/envs/phobos/lib/python3.9/site-packages/pandas/core/arraylike.py:397: RuntimeWarning: divide by zero encountered in log\n",
      "  result = getattr(ufunc, method)(*inputs, **kwargs)\n",
      "/Users/jonathanbenghiat/.pyenv/versions/3.9.10/envs/phobos/lib/python3.9/site-packages/pandas/core/arraylike.py:397: RuntimeWarning: divide by zero encountered in log\n",
      "  result = getattr(ufunc, method)(*inputs, **kwargs)\n",
      "/Users/jonathanbenghiat/.pyenv/versions/3.9.10/envs/phobos/lib/python3.9/site-packages/pandas/core/arraylike.py:397: RuntimeWarning: divide by zero encountered in log\n",
      "  result = getattr(ufunc, method)(*inputs, **kwargs)\n"
     ]
    },
    {
     "name": "stdout",
     "output_type": "stream",
     "text": [
      "Ticker SIAL failed\n"
     ]
    },
    {
     "name": "stderr",
     "output_type": "stream",
     "text": [
      "/Users/jonathanbenghiat/.pyenv/versions/3.9.10/envs/phobos/lib/python3.9/site-packages/pandas/core/arraylike.py:397: RuntimeWarning: divide by zero encountered in log\n",
      "  result = getattr(ufunc, method)(*inputs, **kwargs)\n",
      "/Users/jonathanbenghiat/.pyenv/versions/3.9.10/envs/phobos/lib/python3.9/site-packages/pandas/core/arraylike.py:397: RuntimeWarning: divide by zero encountered in log\n",
      "  result = getattr(ufunc, method)(*inputs, **kwargs)\n",
      "/Users/jonathanbenghiat/.pyenv/versions/3.9.10/envs/phobos/lib/python3.9/site-packages/pandas/core/arraylike.py:397: RuntimeWarning: divide by zero encountered in log\n",
      "  result = getattr(ufunc, method)(*inputs, **kwargs)\n",
      "/Users/jonathanbenghiat/.pyenv/versions/3.9.10/envs/phobos/lib/python3.9/site-packages/pandas/core/arraylike.py:397: RuntimeWarning: divide by zero encountered in log\n",
      "  result = getattr(ufunc, method)(*inputs, **kwargs)\n",
      "/Users/jonathanbenghiat/.pyenv/versions/3.9.10/envs/phobos/lib/python3.9/site-packages/pandas/core/arraylike.py:397: RuntimeWarning: divide by zero encountered in log\n",
      "  result = getattr(ufunc, method)(*inputs, **kwargs)\n",
      "/Users/jonathanbenghiat/.pyenv/versions/3.9.10/envs/phobos/lib/python3.9/site-packages/pandas/core/arraylike.py:397: RuntimeWarning: divide by zero encountered in log\n",
      "  result = getattr(ufunc, method)(*inputs, **kwargs)\n"
     ]
    },
    {
     "name": "stdout",
     "output_type": "stream",
     "text": [
      "Ticker SNDK failed\n"
     ]
    },
    {
     "name": "stderr",
     "output_type": "stream",
     "text": [
      "/Users/jonathanbenghiat/.pyenv/versions/3.9.10/envs/phobos/lib/python3.9/site-packages/pandas/core/arraylike.py:397: RuntimeWarning: divide by zero encountered in log\n",
      "  result = getattr(ufunc, method)(*inputs, **kwargs)\n",
      "/Users/jonathanbenghiat/.pyenv/versions/3.9.10/envs/phobos/lib/python3.9/site-packages/pandas/core/arraylike.py:397: RuntimeWarning: divide by zero encountered in log\n",
      "  result = getattr(ufunc, method)(*inputs, **kwargs)\n"
     ]
    },
    {
     "name": "stdout",
     "output_type": "stream",
     "text": [
      "Ticker SPLS failed\n"
     ]
    },
    {
     "name": "stderr",
     "output_type": "stream",
     "text": [
      "/Users/jonathanbenghiat/.pyenv/versions/3.9.10/envs/phobos/lib/python3.9/site-packages/pandas/core/arraylike.py:397: RuntimeWarning: divide by zero encountered in log\n",
      "  result = getattr(ufunc, method)(*inputs, **kwargs)\n"
     ]
    },
    {
     "name": "stdout",
     "output_type": "stream",
     "text": [
      "Ticker STI failed\n",
      "Ticker STJ failed\n"
     ]
    },
    {
     "name": "stderr",
     "output_type": "stream",
     "text": [
      "/Users/jonathanbenghiat/.pyenv/versions/3.9.10/envs/phobos/lib/python3.9/site-packages/pandas/core/arraylike.py:397: RuntimeWarning: divide by zero encountered in log\n",
      "  result = getattr(ufunc, method)(*inputs, **kwargs)\n",
      "/Users/jonathanbenghiat/.pyenv/versions/3.9.10/envs/phobos/lib/python3.9/site-packages/pandas/core/arraylike.py:397: RuntimeWarning: divide by zero encountered in log\n",
      "  result = getattr(ufunc, method)(*inputs, **kwargs)\n",
      "/Users/jonathanbenghiat/.pyenv/versions/3.9.10/envs/phobos/lib/python3.9/site-packages/pandas/core/arraylike.py:397: RuntimeWarning: divide by zero encountered in log\n",
      "  result = getattr(ufunc, method)(*inputs, **kwargs)\n",
      "/Users/jonathanbenghiat/.pyenv/versions/3.9.10/envs/phobos/lib/python3.9/site-packages/pandas/core/arraylike.py:397: RuntimeWarning: divide by zero encountered in log\n",
      "  result = getattr(ufunc, method)(*inputs, **kwargs)\n",
      "/Users/jonathanbenghiat/.pyenv/versions/3.9.10/envs/phobos/lib/python3.9/site-packages/pandas/core/arraylike.py:397: RuntimeWarning: divide by zero encountered in log\n",
      "  result = getattr(ufunc, method)(*inputs, **kwargs)\n",
      "/Users/jonathanbenghiat/.pyenv/versions/3.9.10/envs/phobos/lib/python3.9/site-packages/pandas/core/arraylike.py:397: RuntimeWarning: divide by zero encountered in log\n",
      "  result = getattr(ufunc, method)(*inputs, **kwargs)\n"
     ]
    },
    {
     "name": "stdout",
     "output_type": "stream",
     "text": [
      "Ticker SWY failed\n"
     ]
    },
    {
     "name": "stderr",
     "output_type": "stream",
     "text": [
      "/Users/jonathanbenghiat/.pyenv/versions/3.9.10/envs/phobos/lib/python3.9/site-packages/pandas/core/arraylike.py:397: RuntimeWarning: divide by zero encountered in log\n",
      "  result = getattr(ufunc, method)(*inputs, **kwargs)\n",
      "/Users/jonathanbenghiat/.pyenv/versions/3.9.10/envs/phobos/lib/python3.9/site-packages/pandas/core/arraylike.py:397: RuntimeWarning: divide by zero encountered in log\n",
      "  result = getattr(ufunc, method)(*inputs, **kwargs)\n",
      "/Users/jonathanbenghiat/.pyenv/versions/3.9.10/envs/phobos/lib/python3.9/site-packages/pandas/core/arraylike.py:397: RuntimeWarning: divide by zero encountered in log\n",
      "  result = getattr(ufunc, method)(*inputs, **kwargs)\n"
     ]
    },
    {
     "name": "stdout",
     "output_type": "stream",
     "text": [
      "Ticker TE failed\n"
     ]
    },
    {
     "name": "stderr",
     "output_type": "stream",
     "text": [
      "/Users/jonathanbenghiat/.pyenv/versions/3.9.10/envs/phobos/lib/python3.9/site-packages/pandas/core/arraylike.py:397: RuntimeWarning: divide by zero encountered in log\n",
      "  result = getattr(ufunc, method)(*inputs, **kwargs)\n",
      "/Users/jonathanbenghiat/.pyenv/versions/3.9.10/envs/phobos/lib/python3.9/site-packages/pandas/core/arraylike.py:397: RuntimeWarning: divide by zero encountered in log\n",
      "  result = getattr(ufunc, method)(*inputs, **kwargs)\n",
      "/Users/jonathanbenghiat/.pyenv/versions/3.9.10/envs/phobos/lib/python3.9/site-packages/pandas/core/arraylike.py:397: RuntimeWarning: divide by zero encountered in log\n",
      "  result = getattr(ufunc, method)(*inputs, **kwargs)\n",
      "/Users/jonathanbenghiat/.pyenv/versions/3.9.10/envs/phobos/lib/python3.9/site-packages/pandas/core/arraylike.py:397: RuntimeWarning: divide by zero encountered in log\n",
      "  result = getattr(ufunc, method)(*inputs, **kwargs)\n",
      "/Users/jonathanbenghiat/.pyenv/versions/3.9.10/envs/phobos/lib/python3.9/site-packages/pandas/core/arraylike.py:397: RuntimeWarning: divide by zero encountered in log\n",
      "  result = getattr(ufunc, method)(*inputs, **kwargs)\n",
      "/Users/jonathanbenghiat/.pyenv/versions/3.9.10/envs/phobos/lib/python3.9/site-packages/pandas/core/arraylike.py:397: RuntimeWarning: divide by zero encountered in log\n",
      "  result = getattr(ufunc, method)(*inputs, **kwargs)\n",
      "/Users/jonathanbenghiat/.pyenv/versions/3.9.10/envs/phobos/lib/python3.9/site-packages/pandas/core/arraylike.py:397: RuntimeWarning: divide by zero encountered in log\n",
      "  result = getattr(ufunc, method)(*inputs, **kwargs)\n"
     ]
    },
    {
     "name": "stdout",
     "output_type": "stream",
     "text": [
      "Ticker TIF failed\n"
     ]
    },
    {
     "name": "stderr",
     "output_type": "stream",
     "text": [
      "/Users/jonathanbenghiat/.pyenv/versions/3.9.10/envs/phobos/lib/python3.9/site-packages/pandas/core/arraylike.py:397: RuntimeWarning: divide by zero encountered in log\n",
      "  result = getattr(ufunc, method)(*inputs, **kwargs)\n",
      "/Users/jonathanbenghiat/.pyenv/versions/3.9.10/envs/phobos/lib/python3.9/site-packages/pandas/core/arraylike.py:397: RuntimeWarning: divide by zero encountered in log\n",
      "  result = getattr(ufunc, method)(*inputs, **kwargs)\n",
      "/Users/jonathanbenghiat/.pyenv/versions/3.9.10/envs/phobos/lib/python3.9/site-packages/pandas/core/arraylike.py:397: RuntimeWarning: divide by zero encountered in log\n",
      "  result = getattr(ufunc, method)(*inputs, **kwargs)\n",
      "/Users/jonathanbenghiat/.pyenv/versions/3.9.10/envs/phobos/lib/python3.9/site-packages/pandas/core/arraylike.py:397: RuntimeWarning: divide by zero encountered in log\n",
      "  result = getattr(ufunc, method)(*inputs, **kwargs)\n",
      "/Users/jonathanbenghiat/.pyenv/versions/3.9.10/envs/phobos/lib/python3.9/site-packages/pandas/core/arraylike.py:397: RuntimeWarning: divide by zero encountered in log\n",
      "  result = getattr(ufunc, method)(*inputs, **kwargs)\n",
      "/Users/jonathanbenghiat/.pyenv/versions/3.9.10/envs/phobos/lib/python3.9/site-packages/pandas/core/arraylike.py:397: RuntimeWarning: divide by zero encountered in log\n",
      "  result = getattr(ufunc, method)(*inputs, **kwargs)\n"
     ]
    },
    {
     "name": "stdout",
     "output_type": "stream",
     "text": [
      "Ticker TSYS failed\n"
     ]
    },
    {
     "name": "stderr",
     "output_type": "stream",
     "text": [
      "/Users/jonathanbenghiat/.pyenv/versions/3.9.10/envs/phobos/lib/python3.9/site-packages/pandas/core/arraylike.py:397: RuntimeWarning: divide by zero encountered in log\n",
      "  result = getattr(ufunc, method)(*inputs, **kwargs)\n"
     ]
    },
    {
     "name": "stdout",
     "output_type": "stream",
     "text": [
      "Ticker TWC failed\n"
     ]
    },
    {
     "name": "stderr",
     "output_type": "stream",
     "text": [
      "/Users/jonathanbenghiat/.pyenv/versions/3.9.10/envs/phobos/lib/python3.9/site-packages/pandas/core/arraylike.py:397: RuntimeWarning: divide by zero encountered in log\n",
      "  result = getattr(ufunc, method)(*inputs, **kwargs)\n",
      "/Users/jonathanbenghiat/.pyenv/versions/3.9.10/envs/phobos/lib/python3.9/site-packages/pandas/core/arraylike.py:397: RuntimeWarning: divide by zero encountered in log\n",
      "  result = getattr(ufunc, method)(*inputs, **kwargs)\n",
      "/Users/jonathanbenghiat/.pyenv/versions/3.9.10/envs/phobos/lib/python3.9/site-packages/pandas/core/arraylike.py:397: RuntimeWarning: divide by zero encountered in log\n",
      "  result = getattr(ufunc, method)(*inputs, **kwargs)\n",
      "/Users/jonathanbenghiat/.pyenv/versions/3.9.10/envs/phobos/lib/python3.9/site-packages/pandas/core/arraylike.py:397: RuntimeWarning: divide by zero encountered in log\n",
      "  result = getattr(ufunc, method)(*inputs, **kwargs)\n",
      "/Users/jonathanbenghiat/.pyenv/versions/3.9.10/envs/phobos/lib/python3.9/site-packages/pandas/core/arraylike.py:397: RuntimeWarning: divide by zero encountered in log\n",
      "  result = getattr(ufunc, method)(*inputs, **kwargs)\n",
      "/Users/jonathanbenghiat/.pyenv/versions/3.9.10/envs/phobos/lib/python3.9/site-packages/pandas/core/arraylike.py:397: RuntimeWarning: divide by zero encountered in log\n",
      "  result = getattr(ufunc, method)(*inputs, **kwargs)\n",
      "/Users/jonathanbenghiat/.pyenv/versions/3.9.10/envs/phobos/lib/python3.9/site-packages/pandas/core/arraylike.py:397: RuntimeWarning: divide by zero encountered in log\n",
      "  result = getattr(ufunc, method)(*inputs, **kwargs)\n",
      "/Users/jonathanbenghiat/.pyenv/versions/3.9.10/envs/phobos/lib/python3.9/site-packages/pandas/core/arraylike.py:397: RuntimeWarning: divide by zero encountered in log\n",
      "  result = getattr(ufunc, method)(*inputs, **kwargs)\n",
      "/Users/jonathanbenghiat/.pyenv/versions/3.9.10/envs/phobos/lib/python3.9/site-packages/pandas/core/arraylike.py:397: RuntimeWarning: divide by zero encountered in log\n",
      "  result = getattr(ufunc, method)(*inputs, **kwargs)\n",
      "/Users/jonathanbenghiat/.pyenv/versions/3.9.10/envs/phobos/lib/python3.9/site-packages/pandas/core/arraylike.py:397: RuntimeWarning: divide by zero encountered in log\n",
      "  result = getattr(ufunc, method)(*inputs, **kwargs)\n",
      "/Users/jonathanbenghiat/.pyenv/versions/3.9.10/envs/phobos/lib/python3.9/site-packages/pandas/core/arraylike.py:397: RuntimeWarning: divide by zero encountered in log\n",
      "  result = getattr(ufunc, method)(*inputs, **kwargs)\n"
     ]
    },
    {
     "name": "stdout",
     "output_type": "stream",
     "text": [
      "Ticker VAR failed\n"
     ]
    },
    {
     "name": "stderr",
     "output_type": "stream",
     "text": [
      "/Users/jonathanbenghiat/.pyenv/versions/3.9.10/envs/phobos/lib/python3.9/site-packages/pandas/core/arraylike.py:397: RuntimeWarning: divide by zero encountered in log\n",
      "  result = getattr(ufunc, method)(*inputs, **kwargs)\n",
      "/Users/jonathanbenghiat/.pyenv/versions/3.9.10/envs/phobos/lib/python3.9/site-packages/pandas/core/arraylike.py:397: RuntimeWarning: divide by zero encountered in log\n",
      "  result = getattr(ufunc, method)(*inputs, **kwargs)\n",
      "/Users/jonathanbenghiat/.pyenv/versions/3.9.10/envs/phobos/lib/python3.9/site-packages/pandas/core/arraylike.py:397: RuntimeWarning: divide by zero encountered in log\n",
      "  result = getattr(ufunc, method)(*inputs, **kwargs)\n",
      "/Users/jonathanbenghiat/.pyenv/versions/3.9.10/envs/phobos/lib/python3.9/site-packages/pandas/core/arraylike.py:397: RuntimeWarning: divide by zero encountered in log\n",
      "  result = getattr(ufunc, method)(*inputs, **kwargs)\n",
      "/Users/jonathanbenghiat/.pyenv/versions/3.9.10/envs/phobos/lib/python3.9/site-packages/pandas/core/arraylike.py:397: RuntimeWarning: divide by zero encountered in log\n",
      "  result = getattr(ufunc, method)(*inputs, **kwargs)\n"
     ]
    },
    {
     "name": "stdout",
     "output_type": "stream",
     "text": [
      "Ticker WCG failed\n"
     ]
    },
    {
     "name": "stderr",
     "output_type": "stream",
     "text": [
      "/Users/jonathanbenghiat/.pyenv/versions/3.9.10/envs/phobos/lib/python3.9/site-packages/pandas/core/arraylike.py:397: RuntimeWarning: divide by zero encountered in log\n",
      "  result = getattr(ufunc, method)(*inputs, **kwargs)\n",
      "/Users/jonathanbenghiat/.pyenv/versions/3.9.10/envs/phobos/lib/python3.9/site-packages/pandas/core/arraylike.py:397: RuntimeWarning: divide by zero encountered in log\n",
      "  result = getattr(ufunc, method)(*inputs, **kwargs)\n",
      "/Users/jonathanbenghiat/.pyenv/versions/3.9.10/envs/phobos/lib/python3.9/site-packages/pandas/core/arraylike.py:397: RuntimeWarning: divide by zero encountered in log\n",
      "  result = getattr(ufunc, method)(*inputs, **kwargs)\n"
     ]
    },
    {
     "name": "stdout",
     "output_type": "stream",
     "text": [
      "Ticker WFM failed\n"
     ]
    },
    {
     "name": "stderr",
     "output_type": "stream",
     "text": [
      "/Users/jonathanbenghiat/.pyenv/versions/3.9.10/envs/phobos/lib/python3.9/site-packages/pandas/core/arraylike.py:397: RuntimeWarning: divide by zero encountered in log\n",
      "  result = getattr(ufunc, method)(*inputs, **kwargs)\n",
      "/Users/jonathanbenghiat/.pyenv/versions/3.9.10/envs/phobos/lib/python3.9/site-packages/pandas/core/arraylike.py:397: RuntimeWarning: divide by zero encountered in log\n",
      "  result = getattr(ufunc, method)(*inputs, **kwargs)\n"
     ]
    },
    {
     "name": "stdout",
     "output_type": "stream",
     "text": [
      "Ticker WINMQ failed\n"
     ]
    },
    {
     "name": "stderr",
     "output_type": "stream",
     "text": [
      "/Users/jonathanbenghiat/.pyenv/versions/3.9.10/envs/phobos/lib/python3.9/site-packages/pandas/core/arraylike.py:397: RuntimeWarning: divide by zero encountered in log\n",
      "  result = getattr(ufunc, method)(*inputs, **kwargs)\n",
      "/Users/jonathanbenghiat/.pyenv/versions/3.9.10/envs/phobos/lib/python3.9/site-packages/pandas/core/arraylike.py:397: RuntimeWarning: divide by zero encountered in log\n",
      "  result = getattr(ufunc, method)(*inputs, **kwargs)\n",
      "/Users/jonathanbenghiat/.pyenv/versions/3.9.10/envs/phobos/lib/python3.9/site-packages/pandas/core/arraylike.py:397: RuntimeWarning: divide by zero encountered in log\n",
      "  result = getattr(ufunc, method)(*inputs, **kwargs)\n"
     ]
    },
    {
     "name": "stdout",
     "output_type": "stream",
     "text": [
      "Ticker WPX failed\n"
     ]
    },
    {
     "name": "stderr",
     "output_type": "stream",
     "text": [
      "/Users/jonathanbenghiat/.pyenv/versions/3.9.10/envs/phobos/lib/python3.9/site-packages/pandas/core/arraylike.py:397: RuntimeWarning: divide by zero encountered in log\n",
      "  result = getattr(ufunc, method)(*inputs, **kwargs)\n",
      "/Users/jonathanbenghiat/.pyenv/versions/3.9.10/envs/phobos/lib/python3.9/site-packages/pandas/core/arraylike.py:397: RuntimeWarning: divide by zero encountered in log\n",
      "  result = getattr(ufunc, method)(*inputs, **kwargs)\n",
      "/Users/jonathanbenghiat/.pyenv/versions/3.9.10/envs/phobos/lib/python3.9/site-packages/pandas/core/arraylike.py:397: RuntimeWarning: divide by zero encountered in log\n",
      "  result = getattr(ufunc, method)(*inputs, **kwargs)\n",
      "/Users/jonathanbenghiat/.pyenv/versions/3.9.10/envs/phobos/lib/python3.9/site-packages/pandas/core/arraylike.py:397: RuntimeWarning: divide by zero encountered in log\n",
      "  result = getattr(ufunc, method)(*inputs, **kwargs)\n"
     ]
    },
    {
     "name": "stdout",
     "output_type": "stream",
     "text": [
      "Ticker XEC failed\n"
     ]
    },
    {
     "name": "stderr",
     "output_type": "stream",
     "text": [
      "/Users/jonathanbenghiat/.pyenv/versions/3.9.10/envs/phobos/lib/python3.9/site-packages/pandas/core/arraylike.py:397: RuntimeWarning: divide by zero encountered in log\n",
      "  result = getattr(ufunc, method)(*inputs, **kwargs)\n"
     ]
    },
    {
     "name": "stdout",
     "output_type": "stream",
     "text": [
      "Ticker XL failed\n",
      "Ticker XLNX failed\n"
     ]
    },
    {
     "name": "stderr",
     "output_type": "stream",
     "text": [
      "/Users/jonathanbenghiat/.pyenv/versions/3.9.10/envs/phobos/lib/python3.9/site-packages/pandas/core/arraylike.py:397: RuntimeWarning: divide by zero encountered in log\n",
      "  result = getattr(ufunc, method)(*inputs, **kwargs)\n",
      "/Users/jonathanbenghiat/.pyenv/versions/3.9.10/envs/phobos/lib/python3.9/site-packages/pandas/core/arraylike.py:397: RuntimeWarning: divide by zero encountered in log\n",
      "  result = getattr(ufunc, method)(*inputs, **kwargs)\n"
     ]
    },
    {
     "name": "stdout",
     "output_type": "stream",
     "text": [
      "Ticker AABA failed\n"
     ]
    },
    {
     "name": "stderr",
     "output_type": "stream",
     "text": [
      "/Users/jonathanbenghiat/.pyenv/versions/3.9.10/envs/phobos/lib/python3.9/site-packages/pandas/core/arraylike.py:397: RuntimeWarning: divide by zero encountered in log\n",
      "  result = getattr(ufunc, method)(*inputs, **kwargs)\n"
     ]
    }
   ],
   "source": [
    "from formulaic_alpha_lib import calculate_alphas\n",
    "\n",
    "import warnings\n",
    "from pandas.core.common import SettingWithCopyWarning\n",
    "warnings.simplefilter(action='ignore', category=SettingWithCopyWarning)\n",
    "\n",
    "market_data_df_map = {}\n",
    "for ticker in tickers_df['new_ticker'].tolist():\n",
    "    try:\n",
    "        market_data_df = pd.read_csv(f\"../data/market_data_yf/{ticker}.csv\").drop([\"Unnamed: 0\"], axis=1)\n",
    "        market_data_df = calculate_5d_vwap(market_data_df)\n",
    "        market_data_df = calculate_pct_change(market_data_df)\n",
    "        market_data_df_map[ticker] = market_data_df\n",
    "        market_data_df = calculate_alphas(market_data_df)\n",
    "        market_data_df.dropna(inplace=True)\n",
    "        market_data_df_map[ticker] = market_data_df\n",
    "    except Exception as e:\n",
    "        print(f\"Ticker {ticker} failed\")"
   ]
  },
  {
   "cell_type": "markdown",
   "metadata": {},
   "source": [
    "Failed because data is in investing.com folder"
   ]
  },
  {
   "cell_type": "code",
   "execution_count": 7,
   "metadata": {},
   "outputs": [
    {
     "data": {
      "text/plain": [
       "653"
      ]
     },
     "execution_count": 7,
     "metadata": {},
     "output_type": "execute_result"
    }
   ],
   "source": [
    "len(market_data_df_map)"
   ]
  },
  {
   "cell_type": "code",
   "execution_count": 9,
   "metadata": {},
   "outputs": [
    {
     "data": {
      "text/plain": [
       "258     -0.043723\n",
       "259      0.017142\n",
       "260     -0.022471\n",
       "261      0.005747\n",
       "262     -0.045711\n",
       "           ...   \n",
       "10626   -0.017929\n",
       "10627    0.019245\n",
       "10628   -0.017653\n",
       "10629   -0.006912\n",
       "10630    0.000928\n",
       "Name: Pct Change, Length: 9657, dtype: float64"
      ]
     },
     "execution_count": 9,
     "metadata": {},
     "output_type": "execute_result"
    }
   ],
   "source": [
    "market_data_df_map[\"AAPL\"][\"Pct Change\"]"
   ]
  },
  {
   "cell_type": "code",
   "execution_count": 17,
   "metadata": {},
   "outputs": [],
   "source": [
    "for ticker, df in market_data_df_map.items():\n",
    "    df.to_csv(f\"../data/alpha_augmented_market_data/{ticker}.csv\")"
   ]
  },
  {
   "cell_type": "code",
   "execution_count": null,
   "metadata": {},
   "outputs": [],
   "source": []
  },
  {
   "cell_type": "markdown",
   "metadata": {},
   "source": [
    "### Investing dot com\n",
    "### This data is very messy (because it is delisted tickers), have to handle differently"
   ]
  },
  {
   "cell_type": "code",
   "execution_count": 1,
   "metadata": {},
   "outputs": [],
   "source": [
    "import pandas as pd\n",
    "import numpy as np\n",
    "import statsmodels as sm\n",
    "import matplotlib.pyplot as plt\n",
    "import seaborn as sns\n",
    "# import pandas_ta as ta\n",
    "\n",
    "import numpy as np\n",
    "import pandas as pd\n",
    "from numpy import abs\n",
    "from numpy import log\n",
    "from numpy import sign\n",
    "from scipy.stats import rankdata\n",
    "\n",
    "# import lazypredict\n",
    "\n",
    "from sklearn.linear_model import Lasso\n",
    "from sklearn.tree import DecisionTreeRegressor\n",
    "from sklearn.pipeline import make_pipeline\n",
    "from sklearn.model_selection import GridSearchCV\n"
   ]
  },
  {
   "cell_type": "code",
   "execution_count": 2,
   "metadata": {},
   "outputs": [
    {
     "data": {
      "text/html": [
       "<div>\n",
       "<style scoped>\n",
       "    .dataframe tbody tr th:only-of-type {\n",
       "        vertical-align: middle;\n",
       "    }\n",
       "\n",
       "    .dataframe tbody tr th {\n",
       "        vertical-align: top;\n",
       "    }\n",
       "\n",
       "    .dataframe thead th {\n",
       "        text-align: right;\n",
       "    }\n",
       "</style>\n",
       "<table border=\"1\" class=\"dataframe\">\n",
       "  <thead>\n",
       "    <tr style=\"text-align: right;\">\n",
       "      <th></th>\n",
       "      <th>Symbol</th>\n",
       "      <th>Security</th>\n",
       "      <th>GICS Sector</th>\n",
       "      <th>GICS Sub-Industry</th>\n",
       "      <th>CIK</th>\n",
       "      <th>wiki_ticker</th>\n",
       "      <th>new_ticker</th>\n",
       "    </tr>\n",
       "  </thead>\n",
       "  <tbody>\n",
       "    <tr>\n",
       "      <th>0</th>\n",
       "      <td>A</td>\n",
       "      <td>Agilent Technologies</td>\n",
       "      <td>Health Care</td>\n",
       "      <td>Health Care Equipment</td>\n",
       "      <td>1090872.0</td>\n",
       "      <td>A</td>\n",
       "      <td>A</td>\n",
       "    </tr>\n",
       "    <tr>\n",
       "      <th>1</th>\n",
       "      <td>AA</td>\n",
       "      <td>Alcoa Inc</td>\n",
       "      <td>NaN</td>\n",
       "      <td>NaN</td>\n",
       "      <td>NaN</td>\n",
       "      <td>AA</td>\n",
       "      <td>AA</td>\n",
       "    </tr>\n",
       "    <tr>\n",
       "      <th>2</th>\n",
       "      <td>AAL</td>\n",
       "      <td>American Airlines Group</td>\n",
       "      <td>Industrials</td>\n",
       "      <td>Airlines</td>\n",
       "      <td>6201.0</td>\n",
       "      <td>AAL</td>\n",
       "      <td>AAL</td>\n",
       "    </tr>\n",
       "    <tr>\n",
       "      <th>3</th>\n",
       "      <td>AAP</td>\n",
       "      <td>Advance Auto Parts</td>\n",
       "      <td>Consumer Discretionary</td>\n",
       "      <td>Automotive Retail</td>\n",
       "      <td>1158449.0</td>\n",
       "      <td>AAP</td>\n",
       "      <td>AAP</td>\n",
       "    </tr>\n",
       "    <tr>\n",
       "      <th>4</th>\n",
       "      <td>AAPL</td>\n",
       "      <td>Apple Inc.</td>\n",
       "      <td>Information Technology</td>\n",
       "      <td>Technology Hardware, Storage &amp; Peripherals</td>\n",
       "      <td>320193.0</td>\n",
       "      <td>AAPL</td>\n",
       "      <td>AAPL</td>\n",
       "    </tr>\n",
       "    <tr>\n",
       "      <th>...</th>\n",
       "      <td>...</td>\n",
       "      <td>...</td>\n",
       "      <td>...</td>\n",
       "      <td>...</td>\n",
       "      <td>...</td>\n",
       "      <td>...</td>\n",
       "      <td>...</td>\n",
       "    </tr>\n",
       "    <tr>\n",
       "      <th>738</th>\n",
       "      <td>YUM</td>\n",
       "      <td>Yum! Brands</td>\n",
       "      <td>Consumer Discretionary</td>\n",
       "      <td>Restaurants</td>\n",
       "      <td>1041061.0</td>\n",
       "      <td>YUM</td>\n",
       "      <td>YUM</td>\n",
       "    </tr>\n",
       "    <tr>\n",
       "      <th>739</th>\n",
       "      <td>ZBH</td>\n",
       "      <td>Zimmer Biomet</td>\n",
       "      <td>Health Care</td>\n",
       "      <td>Health Care Equipment</td>\n",
       "      <td>1136869.0</td>\n",
       "      <td>ZBH</td>\n",
       "      <td>ZBH</td>\n",
       "    </tr>\n",
       "    <tr>\n",
       "      <th>740</th>\n",
       "      <td>ZBRA</td>\n",
       "      <td>Zebra Technologies</td>\n",
       "      <td>Information Technology</td>\n",
       "      <td>Electronic Equipment &amp; Instruments</td>\n",
       "      <td>877212.0</td>\n",
       "      <td>ZBRA</td>\n",
       "      <td>ZBRA</td>\n",
       "    </tr>\n",
       "    <tr>\n",
       "      <th>741</th>\n",
       "      <td>ZION</td>\n",
       "      <td>Zions Bancorporation</td>\n",
       "      <td>Financials</td>\n",
       "      <td>Regional Banks</td>\n",
       "      <td>109380.0</td>\n",
       "      <td>ZION</td>\n",
       "      <td>ZION</td>\n",
       "    </tr>\n",
       "    <tr>\n",
       "      <th>742</th>\n",
       "      <td>ZTS</td>\n",
       "      <td>Zoetis</td>\n",
       "      <td>Health Care</td>\n",
       "      <td>Pharmaceuticals</td>\n",
       "      <td>1555280.0</td>\n",
       "      <td>ZTS</td>\n",
       "      <td>ZTS</td>\n",
       "    </tr>\n",
       "  </tbody>\n",
       "</table>\n",
       "<p>743 rows × 7 columns</p>\n",
       "</div>"
      ],
      "text/plain": [
       "    Symbol                 Security             GICS Sector  \\\n",
       "0        A     Agilent Technologies             Health Care   \n",
       "1       AA                Alcoa Inc                     NaN   \n",
       "2      AAL  American Airlines Group             Industrials   \n",
       "3      AAP       Advance Auto Parts  Consumer Discretionary   \n",
       "4     AAPL               Apple Inc.  Information Technology   \n",
       "..     ...                      ...                     ...   \n",
       "738    YUM              Yum! Brands  Consumer Discretionary   \n",
       "739    ZBH            Zimmer Biomet             Health Care   \n",
       "740   ZBRA       Zebra Technologies  Information Technology   \n",
       "741   ZION     Zions Bancorporation              Financials   \n",
       "742    ZTS                   Zoetis             Health Care   \n",
       "\n",
       "                              GICS Sub-Industry        CIK wiki_ticker  \\\n",
       "0                         Health Care Equipment  1090872.0           A   \n",
       "1                                           NaN        NaN          AA   \n",
       "2                                      Airlines     6201.0         AAL   \n",
       "3                             Automotive Retail  1158449.0         AAP   \n",
       "4    Technology Hardware, Storage & Peripherals   320193.0        AAPL   \n",
       "..                                          ...        ...         ...   \n",
       "738                                 Restaurants  1041061.0         YUM   \n",
       "739                       Health Care Equipment  1136869.0         ZBH   \n",
       "740          Electronic Equipment & Instruments   877212.0        ZBRA   \n",
       "741                              Regional Banks   109380.0        ZION   \n",
       "742                             Pharmaceuticals  1555280.0         ZTS   \n",
       "\n",
       "    new_ticker  \n",
       "0            A  \n",
       "1           AA  \n",
       "2          AAL  \n",
       "3          AAP  \n",
       "4         AAPL  \n",
       "..         ...  \n",
       "738        YUM  \n",
       "739        ZBH  \n",
       "740       ZBRA  \n",
       "741       ZION  \n",
       "742        ZTS  \n",
       "\n",
       "[743 rows x 7 columns]"
      ]
     },
     "execution_count": 2,
     "metadata": {},
     "output_type": "execute_result"
    }
   ],
   "source": [
    "tickers_df = pd.read_csv('../data/security_map_final.csv')\n",
    "tickers_df"
   ]
  },
  {
   "cell_type": "code",
   "execution_count": 5,
   "metadata": {},
   "outputs": [],
   "source": [
    "import os"
   ]
  },
  {
   "cell_type": "code",
   "execution_count": 90,
   "metadata": {},
   "outputs": [
    {
     "name": "stdout",
     "output_type": "stream",
     "text": [
      "AGN from investingdocom\n",
      "AKS from investingdocom\n",
      "ALXN from investingdocom\n",
      "APC from investingdocom\n",
      "APOL from investingdocom\n",
      "argument of type 'float' is not iterable\n",
      "ARG from investingdocom\n",
      "AVP from investingdocom\n",
      "BCR from investingdocom\n",
      "BF.B from investingdocom\n",
      "BRK.B from investingdocom\n",
      "BXLT from investingdocom\n",
      "CAM from investingdocom\n",
      "CELG from investingdocom\n",
      "CERN from investingdocom\n",
      "CFN from investingdocom\n",
      "CPGX from investingdocom\n",
      "CVC from investingdocom\n",
      "CXO from investingdocom\n",
      "DF from investingdocom\n",
      "DEN from investingdocom\n",
      "DRE from investingdocom\n",
      "DTV from investingdocom\n",
      "argument of type 'float' is not iterable\n",
      "KODK from investingdocom\n",
      "ENDPQ from investingdocom\n",
      "VALPQ from investingdocom\n",
      "argument of type 'float' is not iterable\n",
      "ETFC from investingdocom\n",
      "FDO from investingdocom\n",
      "argument of type 'float' is not iterable\n",
      "FHI from investingdocom\n",
      "FLIR from investingdocom\n",
      "BODY from investingdocom\n",
      "argument of type 'float' is not iterable\n",
      "FYBR from investingdocom\n",
      "SNY from investingdocom\n",
      "BPYU from investingdocom\n",
      "GMCR from investingdocom\n",
      "HCBK from investingdocom\n",
      "argument of type 'float' is not iterable\n",
      "HFC from investingdocom\n",
      "HSP from investingdocom\n",
      "argument of type 'float' is not iterable\n",
      "INFO from investingdocom\n",
      "CPPRQ from investingdocom\n",
      "VIAV from investingdocom\n",
      "JNS from investingdocom\n",
      "JOY from investingdocom\n",
      "KSU from investingdocom\n",
      "LLL from investingdocom\n",
      "LLTC from investingdocom\n",
      "LM from investingdocom\n",
      "LO from investingdocom\n",
      "LVLT from investingdocom\n",
      "LXK from investingdocom\n",
      "SRL from investingdocom\n",
      "MJN from investingdocom\n",
      "MWW from investingdocom\n",
      "MXIM from investingdocom\n",
      "NBL from investingdocom\n",
      "NLSN from investingdocom\n",
      "ALPN from investingdocom\n",
      "argument of type 'float' is not iterable\n",
      "PBCT from investingdocom\n",
      "PGNPQ from investingdocom\n",
      "argument of type 'float' is not iterable\n",
      "QEP from investingdocom\n",
      "RAI from investingdocom\n",
      "RDC from investingdocom\n",
      "RHT from investingdocom\n",
      "RRD from investingdocom\n",
      "RTN from investingdocom\n",
      "SIAL from investingdocom\n",
      "argument of type 'float' is not iterable\n",
      "SNDK from investingdocom\n",
      "SPLS from investingdocom\n",
      "STI from investingdocom\n",
      "STJ from investingdocom\n",
      "SWY from investingdocom\n",
      "argument of type 'float' is not iterable\n",
      "TE from investingdocom\n",
      "TIF from investingdocom\n",
      "TSYS from investingdocom\n",
      "TWC from investingdocom\n",
      "VAR from investingdocom\n",
      "WCG from investingdocom\n",
      "WFM from investingdocom\n",
      "WINMQ from investingdocom\n",
      "WPX from investingdocom\n",
      "XEC from investingdocom\n",
      "XL from investingdocom\n",
      "XLNX from investingdocom\n",
      "AABA from investingdocom\n"
     ]
    }
   ],
   "source": [
    "from formulaic_alpha_lib import calculate_alphas\n",
    "pd.options.mode.chained_assignment = None\n",
    "import os\n",
    "\n",
    "\n",
    "import warnings\n",
    "\n",
    "def convert_volume(text):\n",
    "    # Volume in millions or thousands\n",
    "    if \"M\" in text:\n",
    "        text = text[:-1]\n",
    "        number = float(text) * 1000000\n",
    "        \n",
    "    elif \"K\" in text:\n",
    "        text = text[:-1]\n",
    "        number = float(text) * 1000\n",
    "        \n",
    "    else:\n",
    "        raise ValueError\n",
    "        \n",
    "    return int(number)\n",
    "\n",
    "market_data_df_map = {}\n",
    "data_not_found = []\n",
    "errors = []\n",
    "for ticker in tickers_df['new_ticker'].tolist():\n",
    "    if os.path.isfile(f\"../data/market_data_yf/{ticker}.csv\"):\n",
    "        # We already processed it\n",
    "        continue\n",
    "    elif os.path.isfile(f\"../data/market_data_investingdotcom/{ticker} Historical Data.csv\"):\n",
    "        try:\n",
    "            print(ticker + \" from investingdocom\")\n",
    "            market_data_df = pd.read_csv(f\"../data/market_data_investingdotcom/{ticker} Historical Data.csv\")\n",
    "            market_data_df.rename(columns={\"Price\":\"Close\",\n",
    "                  \"Vol.\":\"Volume\"}, inplace=True)\n",
    "            market_data_df.Date = pd.to_datetime(market_data_df.Date, format=\"%m/%d/%Y\")\n",
    "\n",
    "            # We have to forward fill; missing data\n",
    "            all_bdates = pd.DataFrame(pd.bdate_range(start=market_data_df.Date.min(), end=market_data_df.Date.max()), columns=[\"Date\"])\n",
    "            market_data_df = all_bdates.merge(market_data_df, how=\"left\")\n",
    "            market_data_df = market_data_df.ffill(limit=10)\n",
    "\n",
    "            for col in [\"Close\", \"Open\", \"High\", \"Low\"]:\n",
    "                # Now we have to interpolate between\n",
    "                market_data_df[col] = market_data_df[col].interpolate()\n",
    "                \n",
    "            # Clean up volume\n",
    "            market_data_df.Volume = market_data_df.Volume.apply(lambda x: convert_volume(x))\n",
    "\n",
    "            market_data_df = calculate_5d_vwap(market_data_df)\n",
    "            market_data_df = calculate_pct_change(market_data_df)\n",
    "            market_data_df_map[ticker] = market_data_df\n",
    "            market_data_df = calculate_alphas(market_data_df)\n",
    "            market_data_df.dropna(inplace=True)\n",
    "            market_data_df_map[ticker] = market_data_df\n",
    "        except Exception as e:\n",
    "            print(e)\n",
    "            errors.append(ticker)\n",
    "    else:\n",
    "        print(\"#######################################################\")\n",
    "        print(ticker + \" not found\")\n",
    "        data_not_found.append(ticker)\n",
    "    "
   ]
  },
  {
   "cell_type": "markdown",
   "metadata": {},
   "source": [
    "### The errors are actually due to volume, we forward fill if below 10% is missing"
   ]
  },
  {
   "cell_type": "code",
   "execution_count": 101,
   "metadata": {},
   "outputs": [
    {
     "name": "stdout",
     "output_type": "stream",
     "text": [
      "APOL from investingdocom\n",
      "APOL\n",
      "0.5243757431629013\n",
      "DTV from investingdocom\n",
      "VALPQ from investingdocom\n",
      "FDO from investingdocom\n",
      "BODY from investingdocom\n",
      "BODY\n",
      "0.5026642984014209\n",
      "HCBK from investingdocom\n",
      "HSP from investingdocom\n",
      "ALPN from investingdocom\n",
      "ALPN\n",
      "0.43527416619559073\n",
      "PGNPQ from investingdocom\n",
      "PGNPQ\n",
      "0.3570057581573896\n",
      "SIAL from investingdocom\n",
      "SWY from investingdocom\n",
      "SWY\n",
      "0.13740458015267176\n"
     ]
    }
   ],
   "source": [
    "for ticker in errors:\n",
    "    \n",
    "    print(ticker + \" from investingdocom\")\n",
    "    market_data_df = pd.read_csv(f\"../data/market_data_investingdotcom/{ticker} Historical Data.csv\")\n",
    "    market_data_df.rename(columns={\"Price\":\"Close\",\n",
    "          \"Vol.\":\"Volume\"}, inplace=True)\n",
    "    market_data_df.Date = pd.to_datetime(market_data_df.Date, format=\"%m/%d/%Y\")\n",
    "\n",
    "    all_bdates = pd.DataFrame(pd.bdate_range(start=market_data_df.Date.min(), end=market_data_df.Date.max()), columns=[\"Date\"])\n",
    "    market_data_df = all_bdates.merge(market_data_df, how=\"left\")\n",
    "    market_data_df = market_data_df.ffill(limit=10)\n",
    "\n",
    "    for col in [\"Close\", \"Open\", \"High\", \"Low\"]:\n",
    "        market_data_df[col] = market_data_df[col].interpolate()\n",
    "        \n",
    "    \n",
    "    # If below 10% missing, we forward fill\n",
    "    # If not, we just remove it entirely\n",
    "    if market_data_df.Volume.isna().sum() / len(market_data_df.Volume) < 0.10:\n",
    "        market_data_df.Volume = market_data_df.Volume.ffill()\n",
    "    else:\n",
    "        print(ticker)\n",
    "        print(market_data_df.Volume.isna().sum() / len(market_data_df.Volume))\n",
    "        continue\n",
    "    \n",
    "    market_data_df.Volume = market_data_df.Volume.apply(lambda x: convert_volume(x))\n",
    "\n",
    "    market_data_df = calculate_5d_vwap(market_data_df)\n",
    "    market_data_df = calculate_pct_change(market_data_df)\n",
    "    market_data_df = calculate_alphas(market_data_df)\n",
    "    market_data_df.dropna(inplace=True)\n",
    "    market_data_df_map[ticker] = market_data_df\n",
    "    "
   ]
  },
  {
   "cell_type": "markdown",
   "metadata": {},
   "source": [
    "Data is very dirty for APOL, BODY, ALPN, PGNPQ, SWY. We will exclude them."
   ]
  },
  {
   "cell_type": "code",
   "execution_count": 102,
   "metadata": {},
   "outputs": [
    {
     "data": {
      "text/plain": [
       "78"
      ]
     },
     "execution_count": 102,
     "metadata": {},
     "output_type": "execute_result"
    }
   ],
   "source": [
    "len(market_data_df_map)"
   ]
  },
  {
   "cell_type": "code",
   "execution_count": 103,
   "metadata": {},
   "outputs": [],
   "source": [
    "for ticker, df in market_data_df_map.items():\n",
    "    df.to_csv(f\"../data/alpha_augmented_market_data/{ticker}.csv\")"
   ]
  },
  {
   "cell_type": "code",
   "execution_count": null,
   "metadata": {},
   "outputs": [],
   "source": []
  }
 ],
 "metadata": {
  "kernelspec": {
   "display_name": "Python 3 (ipykernel)",
   "language": "python",
   "name": "python3"
  },
  "language_info": {
   "codemirror_mode": {
    "name": "ipython",
    "version": 3
   },
   "file_extension": ".py",
   "mimetype": "text/x-python",
   "name": "python",
   "nbconvert_exporter": "python",
   "pygments_lexer": "ipython3",
   "version": "3.9.15"
  },
  "vscode": {
   "interpreter": {
    "hash": "cfa3f19f351a068df31f6684e52b20ebeaae9a064e2da4edbc1cc98fc7b50ae4"
   }
  }
 },
 "nbformat": 4,
 "nbformat_minor": 2
}
