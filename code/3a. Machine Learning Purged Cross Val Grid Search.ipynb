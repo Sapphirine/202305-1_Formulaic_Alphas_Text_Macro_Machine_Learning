{
 "cells": [
  {
   "attachments": {},
   "cell_type": "markdown",
   "id": "ffc7566f",
   "metadata": {},
   "source": [
    "# Model Selection\n",
    "1. Triple Target Barrier for Returns\n",
    "1. Combines Alphas (text, macroeconomic variables, formulaic alphas)\n",
    "1. Purged Cross Fold Validation\n",
    "1. Grid Search\n",
    "1. Feature Importance\n",
    "1. Train Test Performance\n",
    "\n",
    "This notebook is mainly for cross validation grid search. The analysis is done in 3b."
   ]
  },
  {
   "cell_type": "code",
   "execution_count": 1,
   "id": "f005d4b4",
   "metadata": {},
   "outputs": [],
   "source": [
    "import pandas as pd\n",
    "import glob\n",
    "import numpy as np"
   ]
  },
  {
   "attachments": {},
   "cell_type": "markdown",
   "id": "17207ad7",
   "metadata": {},
   "source": [
    "# Reading In Price"
   ]
  },
  {
   "cell_type": "code",
   "execution_count": 2,
   "id": "b324956c",
   "metadata": {},
   "outputs": [],
   "source": [
    "# From Yahoo Finance\n",
    "price_df_yf = []\n",
    "\n",
    "for path in glob.glob(\"../data/market_data_yf/*\"):\n",
    "    \n",
    "    ticker = path.split(\"\\\\\")[1].replace(\".csv\", \"\")\n",
    "    \n",
    "    curr_df = pd.read_csv(path)\n",
    "    curr_df.Date = pd.to_datetime(curr_df.Date)\n",
    "    curr_df[ticker] = curr_df[\"Adj Close\"]\n",
    "    curr_df = curr_df.set_index(\"Date\")[[ticker]]\n",
    "    \n",
    "    price_df_yf.append(curr_df)\n",
    "price_df_yf = pd.concat(price_df_yf, axis=1)"
   ]
  },
  {
   "cell_type": "code",
   "execution_count": 3,
   "id": "1618cda5",
   "metadata": {},
   "outputs": [],
   "source": [
    "# From Investing dot com\n",
    "price_df_investingdotcom = []\n",
    "\n",
    "for path in glob.glob(\"../data/market_data_investingdotcom/*\"):\n",
    "    \n",
    "    ticker = path.split(\"\\\\\")[1].replace(\" Historical Data.csv\", \"\")\n",
    "    \n",
    "    curr_df = pd.read_csv(path)\n",
    "    curr_df.Date = pd.to_datetime(curr_df.Date)\n",
    "    curr_df[ticker] = curr_df[\"Price\"]\n",
    "    curr_df = curr_df.set_index(\"Date\")[[ticker]]\n",
    "    \n",
    "    price_df_investingdotcom.append(curr_df)\n",
    "price_df_investingdotcom = pd.concat(price_df_investingdotcom, axis=1)"
   ]
  },
  {
   "cell_type": "code",
   "execution_count": 4,
   "id": "b326ee15",
   "metadata": {},
   "outputs": [],
   "source": [
    "# Combine\n",
    "backtest_dates = pd.DataFrame(pd.bdate_range(\"2009-01-01\", \"2023-02-10\")).rename(columns={0:\"Date\"})\n",
    "price_df_yf = backtest_dates.merge(price_df_yf, on =\"Date\")\n",
    "price_df_investingdotcom = backtest_dates.merge(price_df_investingdotcom, on =\"Date\")\n",
    "price_df = price_df_investingdotcom.merge(price_df_yf, on=\"Date\")\n",
    "price_df = price_df.set_index(\"Date\")"
   ]
  },
  {
   "cell_type": "code",
   "execution_count": 5,
   "id": "1b2d6bf6",
   "metadata": {},
   "outputs": [],
   "source": [
    "# This is for triple barrier method\n",
    "returns_df = price_df.pct_change().copy()"
   ]
  },
  {
   "cell_type": "code",
   "execution_count": null,
   "id": "e7f746c7",
   "metadata": {},
   "outputs": [],
   "source": []
  },
  {
   "attachments": {},
   "cell_type": "markdown",
   "id": "803ccc7b",
   "metadata": {},
   "source": [
    "# Target Triple Barrier Method"
   ]
  },
  {
   "cell_type": "code",
   "execution_count": 6,
   "id": "9677a031",
   "metadata": {},
   "outputs": [],
   "source": [
    "import pandas as pd\n",
    "import warnings\n",
    "\n",
    "warnings.simplefilter(action='ignore', category=pd.errors.PerformanceWarning)"
   ]
  },
  {
   "cell_type": "code",
   "execution_count": 7,
   "id": "81d53f26",
   "metadata": {},
   "outputs": [],
   "source": [
    "from tqdm.notebook import tqdm\n",
    "from numpy_ext import rolling_apply\n",
    "\n",
    "def triple_barrier(price_df, vertical_barrier = 21, factor = 0.7):\n",
    "    \n",
    "    \"\"\"\n",
    "    Triple barrier method to label returns.\n",
    "    All barriers active\n",
    "    - Upper barrier for positive returns\n",
    "    - Verticle barrier to imply returns aren't significant enough (neutral)\n",
    "    - Lower barrier for negative returns\n",
    "    \n",
    "    vertical_barrier: time in days until we classify as 0\n",
    "    factor: Multiple of volatility to define upper and lower barrier. Higher factor means we consider only significant moves\n",
    "    \n",
    "    \"\"\"\n",
    "    \n",
    "    def get_target(returns, barrier):\n",
    "        barrier = barrier[0]\n",
    "        # Does a cumulative sum. If any barrier is hit, return the respective label\n",
    "        rtn = pd.Series(returns).cumsum()\n",
    "        if np.isnan(barrier):\n",
    "            return np.nan\n",
    "        for r in rtn:\n",
    "            if r > barrier:\n",
    "                return 1\n",
    "            elif r < -barrier:\n",
    "                return -1\n",
    "\n",
    "        return 0\n",
    "\n",
    "    log_returns_df = np.log(price_df).diff().loc[\"2010-01-01\":]\n",
    "\n",
    "    volatility = log_returns_df.copy()\n",
    "    # Obtain exponential moving average standard deviation\n",
    "    volatility = volatility.ewm(span = vertical_barrier).std()\n",
    "    # Scale to period, e.g * 260**0.5 to annualize\n",
    "    volatility = volatility * (vertical_barrier**0.5)\n",
    "    # Backfill accordingly in case too much data burned\n",
    "    # We have 2009-01-01 data onwards\n",
    "    barrier_thresholds = volatility.backfill(limit=vertical_barrier).loc[\"2010-01-01\":] * factor\n",
    "    barrier_thresholds[log_returns_df.isnull()] = np.nan\n",
    "\n",
    "    triple_barrier_target_df = pd.DataFrame(index=barrier_thresholds.index)\n",
    "\n",
    "    for ticker in tqdm(log_returns_df.columns):\n",
    "        current_df = log_returns_df[[ticker]].merge(barrier_thresholds[[ticker]], on=\"Date\")\n",
    "        current_df.columns = [\"Returns\", \"Barrier\"]\n",
    "        triple_barrier_target_df[ticker] = rolling_apply(get_target, vertical_barrier, current_df.Returns.values, current_df.Barrier.values)\n",
    "        \n",
    "    triple_barrier_target_df = triple_barrier_target_df.shift(-vertical_barrier)\n",
    "    \n",
    "    return triple_barrier_target_df"
   ]
  },
  {
   "cell_type": "code",
   "execution_count": 10,
   "id": "49746e9b",
   "metadata": {},
   "outputs": [],
   "source": [
    "triple_barrier_target_df_21_days_07_factor = triple_barrier(price_df, vertical_barrier = 21, factor=0.7)"
   ]
  },
  {
   "attachments": {},
   "cell_type": "markdown",
   "id": "ffa37780",
   "metadata": {},
   "source": [
    "# Reading In Alphas"
   ]
  },
  {
   "attachments": {},
   "cell_type": "markdown",
   "id": "fd369e15",
   "metadata": {},
   "source": [
    "# First, NLP Features\n",
    "For each dataset:\n",
    "1. Put to daily series\n",
    "1. lag by 1 day\n",
    "1. Aggregate the past 21 days news sentiment\n",
    "1. Create a variable has_xx_dataset so model knows whether there were news articles or not"
   ]
  },
  {
   "cell_type": "code",
   "execution_count": 11,
   "id": "42fe4188",
   "metadata": {},
   "outputs": [],
   "source": [
    "nyt_sentiment_chatgpt_final = pd.read_csv(\"../data/nlp_processed/nyt_sentiment_chatgpt_final.csv\")\n",
    "nyt_sentiment_chatgpt_final = nyt_sentiment_chatgpt_final.rename(columns={\"pub_date\":\"date\"}).drop(columns=\"main_headline\")\n",
    "nyt_sentiment_chatgpt_final[\"date\"] = pd.to_datetime(nyt_sentiment_chatgpt_final[\"date\"])\n",
    "\n",
    "analyst_ratings_processed = pd.read_csv(\"../data/nlp_processed/analyst_ratings_processed.csv\")\n",
    "analyst_ratings_processed[\"date\"] = analyst_ratings_processed[\"date\"].apply(lambda x: x.split(\" \")[0])\n",
    "analyst_ratings_processed[\"date\"] = pd.to_datetime(analyst_ratings_processed[\"date\"])\n",
    "\n",
    "us_equities_news_dataset_processed = pd.read_csv(\"../data/nlp_processed/us_equities_news_dataset_processed.csv\").drop(columns=\"Unnamed: 0\")\n",
    "us_equities_news_dataset_processed[\"date\"] = pd.to_datetime(us_equities_news_dataset_processed[\"date\"])"
   ]
  },
  {
   "cell_type": "code",
   "execution_count": 12,
   "id": "9ecbf336",
   "metadata": {},
   "outputs": [],
   "source": [
    "from pandas.tseries.offsets import BDay\n",
    "\n",
    "nyt_sentiment_chatgpt_final[\"date\"] = nyt_sentiment_chatgpt_final[\"date\"] + BDay(1)\n",
    "analyst_ratings_processed[\"date\"] = analyst_ratings_processed[\"date\"] + BDay(1)\n",
    "us_equities_news_dataset_processed[\"date\"] = us_equities_news_dataset_processed[\"date\"] + BDay(1)\n",
    "\n",
    "nyt_sentiment_chatgpt_final[\"news_count\"] = 1\n",
    "analyst_ratings_processed[\"news_count\"] = 1\n",
    "us_equities_news_dataset_processed[\"news_count\"] = 1"
   ]
  },
  {
   "cell_type": "code",
   "execution_count": 13,
   "id": "20741131",
   "metadata": {},
   "outputs": [],
   "source": [
    "nyt_sentiment_chatgpt_final = nyt_sentiment_chatgpt_final.groupby([\"ticker\", \"date\"]).sum().reset_index()\n",
    "analyst_ratings_processed = analyst_ratings_processed.groupby([\"ticker\", \"date\"]).sum().reset_index()\n",
    "us_equities_news_dataset_processed = us_equities_news_dataset_processed.groupby([\"ticker\", \"date\"]).sum().reset_index()\n",
    "\n",
    "news_sum_window = 21"
   ]
  },
  {
   "cell_type": "code",
   "execution_count": 14,
   "id": "191844d4",
   "metadata": {},
   "outputs": [],
   "source": [
    "nyt_sentiment_chatgpt_final_daily = []\n",
    "\n",
    "backtest_dates = pd.DataFrame(pd.bdate_range(\"2009-01-01\", \"2023-02-10\")).rename(columns={0:\"date\"})\n",
    "\n",
    "for ticker in nyt_sentiment_chatgpt_final.ticker.unique():\n",
    "    curr_df = nyt_sentiment_chatgpt_final[nyt_sentiment_chatgpt_final.ticker == ticker].copy()\n",
    "    # Count news\n",
    "    curr_df[\"has_nyt_news\"] = 1\n",
    "    \n",
    "    # Daily series\n",
    "    curr_df = backtest_dates.merge(curr_df, how=\"left\", on=\"date\")\n",
    "    curr_df[\"ticker\"] = ticker\n",
    "    curr_df.set_index([\"date\", \"ticker\"], inplace=True)\n",
    "    \n",
    "    curr_df.columns = [\"nyt_news_\" + c for c in curr_df.columns]\n",
    "    \n",
    "    curr_df = curr_df.fillna(0)\n",
    "    # 21 days\n",
    "    curr_df = curr_df.rolling(news_sum_window).sum().loc[\"2010-01-01\":].reset_index()\n",
    "    nyt_sentiment_chatgpt_final_daily.append(curr_df)\n",
    "nyt_sentiment_chatgpt_final_daily = pd.concat(nyt_sentiment_chatgpt_final_daily)"
   ]
  },
  {
   "cell_type": "code",
   "execution_count": 15,
   "id": "955276ad",
   "metadata": {},
   "outputs": [],
   "source": [
    "analyst_ratings_processed_daily = []\n",
    "\n",
    "backtest_dates = pd.DataFrame(pd.bdate_range(\"2009-01-01\", \"2023-02-10\")).rename(columns={0:\"date\"})\n",
    "\n",
    "for ticker in analyst_ratings_processed.ticker.unique():\n",
    "    curr_df = analyst_ratings_processed[analyst_ratings_processed.ticker == ticker].copy()\n",
    "    curr_df[\"has_analyst_news\"] = 1\n",
    "    curr_df = backtest_dates.merge(curr_df, how=\"left\", on=\"date\")\n",
    "    curr_df[\"ticker\"] = ticker\n",
    "    curr_df.set_index([\"date\", \"ticker\"], inplace=True)\n",
    "    \n",
    "    curr_df.columns = [\"analyst_news_\" + c for c in curr_df.columns]\n",
    "    \n",
    "    curr_df = curr_df.fillna(0)\n",
    "    curr_df = curr_df.rolling(news_sum_window).sum().loc[\"2010-01-01\":].reset_index()\n",
    "    analyst_ratings_processed_daily.append(curr_df)\n",
    "analyst_ratings_processed_daily = pd.concat(analyst_ratings_processed_daily)"
   ]
  },
  {
   "cell_type": "code",
   "execution_count": 16,
   "id": "1d92376c",
   "metadata": {},
   "outputs": [],
   "source": [
    "us_equities_news_dataset_processed_daily = []\n",
    "\n",
    "backtest_dates = pd.DataFrame(pd.bdate_range(\"2009-01-01\", \"2023-02-10\")).rename(columns={0:\"date\"})\n",
    "\n",
    "for ticker in us_equities_news_dataset_processed.ticker.unique():\n",
    "    curr_df = us_equities_news_dataset_processed[us_equities_news_dataset_processed.ticker == ticker].copy()\n",
    "    curr_df[\"has_us_news\"] = 1\n",
    "    curr_df = backtest_dates.merge(curr_df, how=\"left\", on=\"date\")\n",
    "    curr_df[\"ticker\"] = ticker\n",
    "    curr_df.set_index([\"date\", \"ticker\"], inplace=True)\n",
    "    \n",
    "    curr_df.columns = [\"us_news_\" + c for c in curr_df.columns]\n",
    "    \n",
    "    curr_df = curr_df.fillna(0)\n",
    "    curr_df = curr_df.rolling(news_sum_window).sum().loc[\"2010-01-01\":].reset_index()\n",
    "    us_equities_news_dataset_processed_daily.append(curr_df)\n",
    "us_equities_news_dataset_processed_daily = pd.concat(us_equities_news_dataset_processed_daily)"
   ]
  },
  {
   "attachments": {},
   "cell_type": "markdown",
   "id": "877e3764",
   "metadata": {},
   "source": [
    "# Read in Formulaic Alphas"
   ]
  },
  {
   "cell_type": "code",
   "execution_count": 17,
   "id": "591d8135",
   "metadata": {},
   "outputs": [
    {
     "data": {
      "application/vnd.jupyter.widget-view+json": {
       "model_id": "09fba8e65a524f65abd1a506059ef06d",
       "version_major": 2,
       "version_minor": 0
      },
      "text/plain": [
       "  0%|          | 0/731 [00:00<?, ?it/s]"
      ]
     },
     "metadata": {},
     "output_type": "display_data"
    }
   ],
   "source": [
    "get_columns = [\"Date\", 'alpha001', 'alpha002', 'alpha003', 'alpha004',\n",
    "       'alpha005', 'alpha006', 'alpha007', 'alpha008', 'alpha009', 'alpha010',\n",
    "       'alpha011', 'alpha012', 'alpha013', 'alpha014', 'alpha015', 'alpha016',\n",
    "       'alpha017', 'alpha018', 'alpha019', 'alpha020', 'alpha021', 'alpha022',\n",
    "       'alpha023', 'alpha024', 'alpha025', 'alpha026', 'alpha027', 'alpha028',\n",
    "       'alpha029', 'alpha030', 'alpha032', 'alpha033', 'alpha034', 'alpha035',\n",
    "       'alpha036', 'alpha037', 'alpha038', 'alpha040', 'alpha041', 'alpha042',\n",
    "       'alpha043', 'alpha044', 'alpha045', 'alpha046', 'alpha047', 'alpha049',\n",
    "       'alpha050', 'alpha051', 'alpha052', 'alpha053', 'alpha054', 'alpha055',\n",
    "       'alpha060', 'alpha061', 'alpha062', 'alpha064', 'alpha065', 'alpha068',\n",
    "       'alpha074', 'alpha075', 'alpha078', 'alpha081', 'alpha085', 'alpha086', \n",
    "       'alpha094', 'alpha095', 'alpha099', 'alpha101']\n",
    "\n",
    "all_traditional_alphas = []\n",
    "alpha_path = glob.glob(\"../data/alpha_augmented_market_data/*\")\n",
    "\n",
    "backtest_dates = pd.DataFrame(pd.bdate_range(\"2009-01-01\", \"2023-02-10\")).rename(columns={0:\"date\"})\n",
    "\n",
    "for path in tqdm(alpha_path):\n",
    "    alpha_df = pd.read_csv(path)[get_columns].rename(columns={\"Date\":\"date\"})\n",
    "    ticker = path.split(\"\\\\\")[1].replace(\".csv\", \"\")\n",
    "    alpha_df[\"ticker\"] = ticker\n",
    "    alpha_df[\"date\"] = pd.to_datetime(alpha_df[\"date\"])  + BDay(1)\n",
    "    alpha_df = alpha_df.set_index(\"date\").loc[\"2010-01-01\":\"2023-02-10\"]\n",
    "    alpha_df.reset_index(inplace=True)\n",
    "    all_traditional_alphas.append(alpha_df)\n",
    "all_traditional_alphas = pd.concat(all_traditional_alphas)"
   ]
  },
  {
   "cell_type": "code",
   "execution_count": 18,
   "id": "536b0287",
   "metadata": {},
   "outputs": [],
   "source": [
    "all_traditional_alphas_df = all_traditional_alphas.copy()"
   ]
  },
  {
   "cell_type": "code",
   "execution_count": 19,
   "id": "1774146e",
   "metadata": {},
   "outputs": [],
   "source": [
    "triple_barrier_target_df_final = triple_barrier_target_df_21_days_07_factor.reset_index().melt(id_vars=\"Date\").rename(columns={\"Date\":\"date\"})\n",
    "\n",
    "# This model_number just assigns a number 0 to 20 for each day\n",
    "# We will just select one, e.g model_number == 0. Reduce amount of data for cross validation\n",
    "triple_barrier_target_df_final[\"model_number\"] = triple_barrier_target_df_final.index\n",
    "triple_barrier_target_df_final[\"model_number\"] = triple_barrier_target_df_final[\"model_number\"] % 21\n",
    "triple_barrier_target_df_final = triple_barrier_target_df_final.dropna()\n",
    "triple_barrier_target_df_final.columns = [\"date\", \"ticker\", \"target\", \"model_number\"]\n",
    "triple_barrier_target_df_final = triple_barrier_target_df_final[triple_barrier_target_df_final.ticker.isin(all_traditional_alphas_df.ticker.unique())]"
   ]
  },
  {
   "attachments": {},
   "cell_type": "markdown",
   "id": "57caaae1",
   "metadata": {},
   "source": [
    "# Read in MacroEconomic Data"
   ]
  },
  {
   "cell_type": "code",
   "execution_count": 20,
   "id": "a4596fc2",
   "metadata": {},
   "outputs": [],
   "source": [
    "PMI = pd.read_excel(\"../data/macroeconomic/PMI.xlsx\")\n",
    "PMI[\"date\"] = PMI[\"Release Date\"].apply(lambda x:x[:12])\n",
    "PMI[\"date\"] = pd.to_datetime(PMI[\"date\"], format=\"%b %d, %Y\")\n",
    "PMI.sort_values(\"date\", inplace=True)\n",
    "PMI[\"PMI_Surprise\"] = PMI[\"Actual\"] - PMI[\"Forecast\"]\n",
    "PMI[\"PMI_Actual\"] = PMI[\"Actual\"]\n",
    "PMI[\"PMI_1Q_Forecast\"] = PMI[\"Forecast\"].shift(1)\n",
    "PMI[\"PMI_Surprise_Mom\"] = PMI[\"PMI_Surprise\"].rolling(3).sum()\n",
    "PMI[\"PMI_1Q_Forecast_Change\"] = PMI[\"PMI_1Q_Forecast\"].diff().rolling(3).sum()\n",
    "PMI = backtest_dates.merge(PMI, how=\"left\")\n",
    "PMI = PMI.ffill().dropna()\n",
    "PMI[\"date\"] = pd.to_datetime(PMI[\"date\"]) + BDay(1)\n",
    "PMI_final = PMI[[\"date\", \"PMI_Surprise_Mom\", \"PMI_1Q_Forecast_Change\"]].copy()"
   ]
  },
  {
   "cell_type": "code",
   "execution_count": 21,
   "id": "562d53dc",
   "metadata": {},
   "outputs": [],
   "source": [
    "REAL_GDP = pd.read_csv(\"../data/macroeconomic/REAL_GDP.csv\")\n",
    "REAL_GDP.DATE = pd.to_datetime(REAL_GDP.DATE, format=\"%Y-%m-%d\")\n",
    "REAL_GDP.columns = [\"date\", \"Real_GDP_Level\"]\n",
    "REAL_GDP[\"GDP_Growth_2Q\"] = REAL_GDP.Real_GDP_Level.pct_change().rolling(2).sum()\n",
    "REAL_GDP = backtest_dates.merge(REAL_GDP, how=\"left\")\n",
    "REAL_GDP[\"date\"] = pd.to_datetime(REAL_GDP[\"date\"])  + BDay(63) # Three months lag\n",
    "REAL_GDP = REAL_GDP.ffill()\n",
    "REAL_GDP.GDP_Growth_2Q = REAL_GDP.GDP_Growth_2Q * 100\n",
    "REAL_GDP_final = REAL_GDP[[\"date\", \"GDP_Growth_2Q\"]].copy()"
   ]
  },
  {
   "cell_type": "code",
   "execution_count": 22,
   "id": "9a4c0117",
   "metadata": {},
   "outputs": [
    {
     "data": {
      "text/html": [
       "<div>\n",
       "<style scoped>\n",
       "    .dataframe tbody tr th:only-of-type {\n",
       "        vertical-align: middle;\n",
       "    }\n",
       "\n",
       "    .dataframe tbody tr th {\n",
       "        vertical-align: top;\n",
       "    }\n",
       "\n",
       "    .dataframe thead th {\n",
       "        text-align: right;\n",
       "    }\n",
       "</style>\n",
       "<table border=\"1\" class=\"dataframe\">\n",
       "  <thead>\n",
       "    <tr style=\"text-align: right;\">\n",
       "      <th></th>\n",
       "      <th>date</th>\n",
       "      <th>Inflation_Breakeven_Level</th>\n",
       "      <th>Inflation_Breakeven_1M_Change</th>\n",
       "    </tr>\n",
       "  </thead>\n",
       "  <tbody>\n",
       "    <tr>\n",
       "      <th>3677</th>\n",
       "      <td>2023-02-07</td>\n",
       "      <td>2.25</td>\n",
       "      <td>0.04</td>\n",
       "    </tr>\n",
       "    <tr>\n",
       "      <th>3678</th>\n",
       "      <td>2023-02-08</td>\n",
       "      <td>2.31</td>\n",
       "      <td>0.09</td>\n",
       "    </tr>\n",
       "    <tr>\n",
       "      <th>3679</th>\n",
       "      <td>2023-02-09</td>\n",
       "      <td>2.34</td>\n",
       "      <td>0.10</td>\n",
       "    </tr>\n",
       "    <tr>\n",
       "      <th>3680</th>\n",
       "      <td>2023-02-10</td>\n",
       "      <td>2.33</td>\n",
       "      <td>0.10</td>\n",
       "    </tr>\n",
       "    <tr>\n",
       "      <th>3681</th>\n",
       "      <td>2023-02-13</td>\n",
       "      <td>2.33</td>\n",
       "      <td>0.12</td>\n",
       "    </tr>\n",
       "  </tbody>\n",
       "</table>\n",
       "</div>"
      ],
      "text/plain": [
       "           date  Inflation_Breakeven_Level  Inflation_Breakeven_1M_Change\n",
       "3677 2023-02-07                       2.25                           0.04\n",
       "3678 2023-02-08                       2.31                           0.09\n",
       "3679 2023-02-09                       2.34                           0.10\n",
       "3680 2023-02-10                       2.33                           0.10\n",
       "3681 2023-02-13                       2.33                           0.12"
      ]
     },
     "execution_count": 22,
     "metadata": {},
     "output_type": "execute_result"
    }
   ],
   "source": [
    "T10Y_Inflation_Breakeven = pd.read_csv(\"../data/macroeconomic/T10Y_Inflation_Breakeven.csv\")\n",
    "T10Y_Inflation_Breakeven.DATE = pd.to_datetime(T10Y_Inflation_Breakeven.DATE, format=\"%Y-%m-%d\")\n",
    "T10Y_Inflation_Breakeven.columns = [\"date\", \"Inflation_Breakeven_Level\"]\n",
    "T10Y_Inflation_Breakeven = backtest_dates.merge(T10Y_Inflation_Breakeven, how=\"left\")\n",
    "T10Y_Inflation_Breakeven = T10Y_Inflation_Breakeven.bfill(limit=54)\n",
    "T10Y_Inflation_Breakeven.Inflation_Breakeven_Level = T10Y_Inflation_Breakeven.Inflation_Breakeven_Level.replace(\".\", np.nan)\n",
    "T10Y_Inflation_Breakeven.Inflation_Breakeven_Level = T10Y_Inflation_Breakeven.Inflation_Breakeven_Level.ffill()\n",
    "T10Y_Inflation_Breakeven.date = T10Y_Inflation_Breakeven.date  + BDay(1)\n",
    "T10Y_Inflation_Breakeven[\"Inflation_Breakeven_Level\"] = T10Y_Inflation_Breakeven[\"Inflation_Breakeven_Level\"].astype(float)\n",
    "T10Y_Inflation_Breakeven[\"Inflation_Breakeven_1M_Change\"] = T10Y_Inflation_Breakeven[\"Inflation_Breakeven_Level\"] - T10Y_Inflation_Breakeven[\"Inflation_Breakeven_Level\"].shift(21)\n",
    "T10Y_Inflation_Breakeven_final = T10Y_Inflation_Breakeven.dropna()\n",
    "T10Y_Inflation_Breakeven_final.tail()"
   ]
  },
  {
   "cell_type": "code",
   "execution_count": 23,
   "id": "63776e2e",
   "metadata": {},
   "outputs": [
    {
     "data": {
      "text/plain": [
       "<AxesSubplot:xlabel='date'>"
      ]
     },
     "execution_count": 23,
     "metadata": {},
     "output_type": "execute_result"
    },
    {
     "data": {
      "image/png": "[encoded data removed]",
      "text/plain": [
       "<Figure size 432x288 with 1 Axes>"
      ]
     },
     "metadata": {
      "needs_background": "light"
     },
     "output_type": "display_data"
    }
   ],
   "source": [
    "T10Y_minus_2Y = pd.read_csv(\"../data/macroeconomic/T10Y_minus_2Y.csv\")\n",
    "T10Y_minus_2Y.DATE = pd.to_datetime(T10Y_minus_2Y.DATE, format=\"%Y-%m-%d\")\n",
    "T10Y_minus_2Y.columns = [\"date\", \"T10Y_minus_2Y\"]\n",
    "T10Y_minus_2Y.date = T10Y_minus_2Y.date  + BDay(1)\n",
    "T10Y_minus_2Y = backtest_dates.merge(T10Y_minus_2Y, how=\"left\")\n",
    "T10Y_minus_2Y.T10Y_minus_2Y = T10Y_minus_2Y.T10Y_minus_2Y.replace(\".\", np.nan)\n",
    "T10Y_minus_2Y.T10Y_minus_2Y = T10Y_minus_2Y.T10Y_minus_2Y.ffill()\n",
    "T10Y_minus_2Y.T10Y_minus_2Y = T10Y_minus_2Y.T10Y_minus_2Y.astype(float)\n",
    "T10Y_minus_2Y[\"T10Y_minus_2Y_1M_Change\"] = T10Y_minus_2Y.T10Y_minus_2Y - T10Y_minus_2Y.T10Y_minus_2Y.shift(21)\n",
    "T10Y_minus_2Y.set_index(\"date\")[\"T10Y_minus_2Y\"].plot()"
   ]
  },
  {
   "cell_type": "code",
   "execution_count": 24,
   "id": "501c6058",
   "metadata": {},
   "outputs": [],
   "source": [
    "all_macro_economic_alphas = T10Y_minus_2Y.merge(T10Y_Inflation_Breakeven).merge(REAL_GDP).merge(PMI_final).dropna()"
   ]
  },
  {
   "cell_type": "code",
   "execution_count": 25,
   "id": "bedbe128",
   "metadata": {},
   "outputs": [
    {
     "data": {
      "text/plain": [
       "(3421, 3421)"
      ]
     },
     "execution_count": 25,
     "metadata": {},
     "output_type": "execute_result"
    }
   ],
   "source": [
    "len(all_macro_economic_alphas.date.unique()), all_macro_economic_alphas.shape[0]"
   ]
  },
  {
   "cell_type": "code",
   "execution_count": 26,
   "id": "c23a0fd3",
   "metadata": {},
   "outputs": [],
   "source": [
    "training_test_df = triple_barrier_target_df_final.merge(all_traditional_alphas_df, how=\"left\", on = [\"date\", \"ticker\"]).merge(all_macro_economic_alphas, how=\"left\", on=[\"date\"])"
   ]
  },
  {
   "cell_type": "code",
   "execution_count": 27,
   "id": "7e879f8d",
   "metadata": {},
   "outputs": [
    {
     "data": {
      "application/vnd.jupyter.widget-view+json": {
       "model_id": "17518a8d8f3e4151bf7f0be38f8e53eb",
       "version_major": 2,
       "version_minor": 0
      },
      "text/plain": [
       "  0%|          | 0/706 [00:00<?, ?it/s]"
      ]
     },
     "metadata": {},
     "output_type": "display_data"
    }
   ],
   "source": [
    "training_test_df = training_test_df.merge(nyt_sentiment_chatgpt_final_daily, how=\"left\", on = [\"date\", \"ticker\"])\n",
    "training_test_df = training_test_df.merge(analyst_ratings_processed_daily, how=\"left\", on = [\"date\", \"ticker\"])\n",
    "training_test_df = training_test_df.merge(us_equities_news_dataset_processed_daily, how=\"left\", on = [\"date\", \"ticker\"])\n",
    "lst = []\n",
    "for ticker in tqdm(training_test_df.ticker.unique()):\n",
    "    curr_df = training_test_df[training_test_df.ticker == ticker].ffill(limit=2).copy()\n",
    "    lst.append(curr_df)\n",
    "training_test_df = pd.concat(lst)"
   ]
  },
  {
   "cell_type": "code",
   "execution_count": 28,
   "id": "f9780137",
   "metadata": {},
   "outputs": [],
   "source": [
    "fill_0s = ['nyt_news_ChatGPT_sentiment', 'nyt_news_finbert_positive',\n",
    "       'nyt_news_finbert_negative', 'nyt_news_finbert_neutral',\n",
    "       'nyt_news_lmd_negative_words_count',\n",
    "       'nyt_news_lmd_positive_words_count',\n",
    "       'nyt_news_lmd_uncertain_words_count',\n",
    "       'nyt_news_lmd_litigious_words_count',\n",
    "       'nyt_news_lmd_strong_modal_words_count',\n",
    "       'nyt_news_lmd_weak_modal_words_count', 'nyt_news_word_count',\n",
    "       'nyt_news_news_count', 'nyt_news_has_nyt_news',\n",
    "       'analyst_news_lmd_negative_words_count',\n",
    "       'analyst_news_lmd_positive_words_count',\n",
    "       'analyst_news_lmd_uncertain_words_count',\n",
    "       'analyst_news_lmd_litigious_words_count',\n",
    "       'analyst_news_lmd_strong_modal_words_count',\n",
    "       'analyst_news_lmd_weak_modal_words_count',\n",
    "       'analyst_news_finbert_positive', 'analyst_news_finbert_negative',\n",
    "       'analyst_news_finbert_neutral', 'analyst_news_news_count',\n",
    "       'analyst_news_has_analyst_news', 'us_news_lmd_negative_words_count',\n",
    "       'us_news_lmd_positive_words_count', 'us_news_lmd_uncertain_words_count',\n",
    "       'us_news_lmd_litigious_words_count',\n",
    "       'us_news_lmd_strong_modal_words_count',\n",
    "       'us_news_lmd_weak_modal_words_count', 'us_news_finbert_positive',\n",
    "       'us_news_finbert_negative', 'us_news_finbert_neutral',\n",
    "       'us_news_news_count', 'us_news_has_us_news']\n",
    "training_test_df[fill_0s] = training_test_df[fill_0s].fillna(0)"
   ]
  },
  {
   "cell_type": "code",
   "execution_count": 29,
   "id": "da973c52",
   "metadata": {},
   "outputs": [],
   "source": [
    "training_test_df.dropna(thresh=50, inplace=True)"
   ]
  },
  {
   "cell_type": "code",
   "execution_count": 30,
   "id": "30c75055",
   "metadata": {},
   "outputs": [],
   "source": [
    "training_test_df.to_csv(\"../data/train_test/train_test_21_days.csv\")"
   ]
  },
  {
   "attachments": {},
   "cell_type": "markdown",
   "id": "ab32754a",
   "metadata": {},
   "source": [
    "# Begin ML"
   ]
  },
  {
   "cell_type": "code",
   "execution_count": 32,
   "id": "3440cb72",
   "metadata": {},
   "outputs": [],
   "source": [
    "training_test_df = pd.read_csv(\"../data/train_test/train_test_21_days.csv\")\n",
    "training_test_df.date = pd.to_datetime(training_test_df.date)\n",
    "# Select any model_number, 1/21 of the original data\n",
    "# So that cross validation will actually finish (if not, it will take days)\n",
    "training_df = training_test_df[(training_test_df.date < \"2019-12-01\") & (training_test_df.model_number == 0)].reset_index(drop=True).copy()\n",
    "test_df = training_test_df[(training_test_df.date >= \"2020-01-01\")  & (training_test_df.model_number == 0)].reset_index(drop=True).copy()"
   ]
  },
  {
   "cell_type": "code",
   "execution_count": 33,
   "id": "d6c8ff36",
   "metadata": {},
   "outputs": [],
   "source": [
    "from lightgbm import LGBMClassifier"
   ]
  },
  {
   "cell_type": "code",
   "execution_count": 34,
   "id": "031e63df",
   "metadata": {},
   "outputs": [],
   "source": [
    "x_vals = [c for c in training_df.columns if c not in [\"date\", \"ticker\", \"target\", \"model_number\"]]"
   ]
  },
  {
   "cell_type": "code",
   "execution_count": 35,
   "id": "5f96a0eb",
   "metadata": {},
   "outputs": [],
   "source": [
    "from sklearn.model_selection._split import _BaseKFold"
   ]
  },
  {
   "cell_type": "code",
   "execution_count": 36,
   "id": "e72e72ea",
   "metadata": {},
   "outputs": [],
   "source": [
    "from sklearn.model_selection import GridSearchCV"
   ]
  },
  {
   "cell_type": "code",
   "execution_count": 37,
   "id": "85b31a66",
   "metadata": {},
   "outputs": [],
   "source": [
    "training_df.reset_index(drop=True, inplace=True)"
   ]
  },
  {
   "attachments": {},
   "cell_type": "markdown",
   "id": "e557cfcf",
   "metadata": {},
   "source": [
    "# Purged Cross Fold Validation"
   ]
  },
  {
   "cell_type": "code",
   "execution_count": 38,
   "id": "8dd3dcc7",
   "metadata": {},
   "outputs": [],
   "source": [
    "# Always remove december data, because december return target has overlap to the next fold\n",
    "fold_1 = training_df[(training_df.date < \"2011-12-01\")].index.values\n",
    "fold_2 = training_df[(training_df.date >= \"2012-01-01\") & (training_df.date < \"2013-12-01\")].index.values\n",
    "fold_3 = training_df[(training_df.date >= \"2014-01-01\") & (training_df.date < \"2015-12-01\")].index.values\n",
    "fold_4 = training_df[(training_df.date >= \"2016-01-01\") & (training_df.date < \"2017-12-01\")].index.values\n",
    "fold_5 = training_df[(training_df.date >= \"2018-01-01\") & (training_df.date < \"2019-12-01\")].index.values"
   ]
  },
  {
   "cell_type": "code",
   "execution_count": 39,
   "id": "a9ba8694",
   "metadata": {},
   "outputs": [],
   "source": [
    "# Construct CV\n",
    "cv_folds = [(np.concatenate([fold_2, fold_3, fold_4, fold_5]), fold_1),\n",
    "(np.concatenate([fold_1, fold_3, fold_4, fold_5]), fold_2),\n",
    "(np.concatenate([fold_1, fold_2, fold_4, fold_5]), fold_3),\n",
    "(np.concatenate([fold_1, fold_2, fold_3, fold_5]), fold_4),\n",
    "(np.concatenate([fold_1, fold_2, fold_3, fold_4]), fold_5)]"
   ]
  },
  {
   "cell_type": "code",
   "execution_count": 40,
   "id": "4e2d9524",
   "metadata": {},
   "outputs": [],
   "source": [
    "from sklearn.ensemble import (RandomForestClassifier, ExtraTreesClassifier, AdaBoostClassifier,\\\n",
    "                              GradientBoostingClassifier)\n",
    "from sklearn.tree import DecisionTreeClassifier\n",
    "from sklearn.svm import SVC"
   ]
  },
  {
   "attachments": {},
   "cell_type": "markdown",
   "id": "aa9203e0",
   "metadata": {},
   "source": [
    "# Grid Search"
   ]
  },
  {
   "cell_type": "code",
   "execution_count": 39,
   "id": "0e4dfe03",
   "metadata": {},
   "outputs": [],
   "source": [
    "estimator = {\n",
    "        'RandomForestClassifier': RandomForestClassifier(),\n",
    "        'ExtraTreesClassifier': ExtraTreesClassifier(),\n",
    "        'AdaBoostClassifier': AdaBoostClassifier(base_estimator = DecisionTreeClassifier(),\\\n",
    "                                                 n_estimators = 10),\n",
    "        'GradientBoostingClassifier': GradientBoostingClassifier(),\n",
    "        'SVC': SVC(probability=True),\n",
    "        'LGBMClassifier': LGBMClassifier()\n",
    "        }\n",
    "\n",
    "param_grid = {\n",
    "        'RandomForestClassifier': {'max_features':[None],'n_estimators':[10, 20],'max_depth':[30, None],\\\n",
    "                                   'min_samples_split':[2, 10],'criterion':['entropy'],\\\n",
    "                                   'min_samples_leaf':[3, 10]},\n",
    "        'ExtraTreesClassifier': {'max_features':[None],'n_estimators':[10, 20],'max_depth':[30, None],\\\n",
    "                                 'min_samples_split':[2, 10],'criterion':['entropy'],\\\n",
    "                                 'min_samples_leaf':[3, 10]},\n",
    "        'AdaBoostClassifier': {\"base_estimator__criterion\" : [\"entropy\"],\\\n",
    "                               \"base_estimator__max_depth\": [30, None],\\\n",
    "                               \"base_estimator__min_samples_leaf\" : [3, 10],\\\n",
    "                               \"base_estimator__min_samples_split\" : [2, 10],\\\n",
    "                               \"base_estimator__max_features\" : [None]},\n",
    "        'GradientBoostingClassifier': {'max_features':[None],'n_estimators':[10, 20],'max_depth':[30, None],\\\n",
    "                                       'min_samples_split':[2, 10],'min_samples_leaf':[3, 10],\\\n",
    "                                       'learning_rate':[0.1],'subsample':[1.0]},\n",
    "        'SVC': [{'kernel':['rbf'],'gamma':['scale', 'auto'],'C':[1, 0.5]}],\n",
    "        'LGBMClassifier':{\"colsample_bytree\":[0.75, 1], \"subsample\":[0.75, 1], \"max_depth\":[-1, 30]}\n",
    "        }"
   ]
  },
  {
   "cell_type": "code",
   "execution_count": 40,
   "id": "598e36f4",
   "metadata": {},
   "outputs": [],
   "source": [
    "X_train = training_df[training_df.model_number == 0].copy()\n",
    "y_train = X_train.target.copy()\n",
    "X_train = X_train.drop(columns=\"target\")\n",
    "X_train[x_vals] = X_train[x_vals].astype(float)\n",
    "\n",
    "X_test = test_df.copy()\n",
    "y_test = X_test.target.copy()\n",
    "X_test = X_test.drop(columns=\"target\")\n",
    "X_test[x_vals] = X_test[x_vals].astype(float)"
   ]
  },
  {
   "cell_type": "code",
   "execution_count": null,
   "id": "abc52720",
   "metadata": {
    "scrolled": true
   },
   "outputs": [
    {
     "name": "stdout",
     "output_type": "stream",
     "text": [
      "########### FITTING FOR LGBMClassifier NOW ###########\n",
      "Fitting 5 folds for each of 8 candidates, totalling 40 fits\n",
      "[CV 1/5] END colsample_bytree=0.75, max_depth=-1, subsample=0.75;, score=0.426 total time=   1.4s\n",
      "[CV 2/5] END colsample_bytree=0.75, max_depth=-1, subsample=0.75;, score=0.372 total time=   1.4s\n",
      "[CV 3/5] END colsample_bytree=0.75, max_depth=-1, subsample=0.75;, score=0.410 total time=   1.3s\n",
      "[CV 4/5] END colsample_bytree=0.75, max_depth=-1, subsample=0.75;, score=0.431 total time=   1.3s\n",
      "[CV 5/5] END colsample_bytree=0.75, max_depth=-1, subsample=0.75;, score=0.419 total time=   1.3s\n",
      "[CV 1/5] END colsample_bytree=0.75, max_depth=-1, subsample=1;, score=0.426 total time=   1.3s\n",
      "[CV 2/5] END colsample_bytree=0.75, max_depth=-1, subsample=1;, score=0.372 total time=   1.4s\n",
      "[CV 3/5] END colsample_bytree=0.75, max_depth=-1, subsample=1;, score=0.410 total time=   1.4s\n",
      "[CV 4/5] END colsample_bytree=0.75, max_depth=-1, subsample=1;, score=0.431 total time=   1.4s\n",
      "[CV 5/5] END colsample_bytree=0.75, max_depth=-1, subsample=1;, score=0.419 total time=   1.4s\n",
      "[CV 1/5] END colsample_bytree=0.75, max_depth=30, subsample=0.75;, score=0.426 total time=   1.3s\n",
      "[CV 2/5] END colsample_bytree=0.75, max_depth=30, subsample=0.75;, score=0.372 total time=   1.4s\n",
      "[CV 3/5] END colsample_bytree=0.75, max_depth=30, subsample=0.75;, score=0.410 total time=   1.4s\n",
      "[CV 4/5] END colsample_bytree=0.75, max_depth=30, subsample=0.75;, score=0.431 total time=   1.4s\n",
      "[CV 5/5] END colsample_bytree=0.75, max_depth=30, subsample=0.75;, score=0.419 total time=   1.4s\n",
      "[CV 1/5] END colsample_bytree=0.75, max_depth=30, subsample=1;, score=0.426 total time=   1.4s\n",
      "[CV 2/5] END colsample_bytree=0.75, max_depth=30, subsample=1;, score=0.372 total time=   1.4s\n",
      "[CV 3/5] END colsample_bytree=0.75, max_depth=30, subsample=1;, score=0.410 total time=   1.4s\n",
      "[CV 4/5] END colsample_bytree=0.75, max_depth=30, subsample=1;, score=0.431 total time=   1.4s\n",
      "[CV 5/5] END colsample_bytree=0.75, max_depth=30, subsample=1;, score=0.419 total time=   1.4s\n",
      "[CV 1/5] END colsample_bytree=1, max_depth=-1, subsample=0.75;, score=0.415 total time=   1.6s\n",
      "[CV 2/5] END colsample_bytree=1, max_depth=-1, subsample=0.75;, score=0.372 total time=   1.7s\n",
      "[CV 3/5] END colsample_bytree=1, max_depth=-1, subsample=0.75;, score=0.399 total time=   1.6s\n",
      "[CV 4/5] END colsample_bytree=1, max_depth=-1, subsample=0.75;, score=0.422 total time=   1.6s\n",
      "[CV 5/5] END colsample_bytree=1, max_depth=-1, subsample=0.75;, score=0.419 total time=   1.7s\n",
      "[CV 1/5] END colsample_bytree=1, max_depth=-1, subsample=1;, score=0.415 total time=   1.7s\n",
      "[CV 2/5] END colsample_bytree=1, max_depth=-1, subsample=1;, score=0.372 total time=   1.7s\n",
      "[CV 3/5] END colsample_bytree=1, max_depth=-1, subsample=1;, score=0.399 total time=   1.8s\n",
      "[CV 4/5] END colsample_bytree=1, max_depth=-1, subsample=1;, score=0.422 total time=   1.7s\n",
      "[CV 5/5] END colsample_bytree=1, max_depth=-1, subsample=1;, score=0.419 total time=   1.7s\n",
      "[CV 1/5] END colsample_bytree=1, max_depth=30, subsample=0.75;, score=0.415 total time=   1.6s\n",
      "[CV 2/5] END colsample_bytree=1, max_depth=30, subsample=0.75;, score=0.372 total time=   1.7s\n",
      "[CV 3/5] END colsample_bytree=1, max_depth=30, subsample=0.75;, score=0.399 total time=   1.7s\n",
      "[CV 4/5] END colsample_bytree=1, max_depth=30, subsample=0.75;, score=0.422 total time=   1.8s\n",
      "[CV 5/5] END colsample_bytree=1, max_depth=30, subsample=0.75;, score=0.419 total time=   1.6s\n",
      "[CV 1/5] END colsample_bytree=1, max_depth=30, subsample=1;, score=0.415 total time=   1.6s\n",
      "[CV 2/5] END colsample_bytree=1, max_depth=30, subsample=1;, score=0.372 total time=   1.7s\n",
      "[CV 3/5] END colsample_bytree=1, max_depth=30, subsample=1;, score=0.399 total time=   1.9s\n",
      "[CV 4/5] END colsample_bytree=1, max_depth=30, subsample=1;, score=0.422 total time=   1.9s\n",
      "[CV 5/5] END colsample_bytree=1, max_depth=30, subsample=1;, score=0.419 total time=   1.8s\n",
      "########### FITTING FOR GradientBoostingClassifier NOW ###########\n",
      "Fitting 5 folds for each of 16 candidates, totalling 80 fits\n",
      "[CV 1/5] END learning_rate=0.1, max_depth=30, max_features=None, min_samples_leaf=3, min_samples_split=2, n_estimators=10, subsample=1.0;, score=0.373 total time= 3.8min\n",
      "[CV 2/5] END learning_rate=0.1, max_depth=30, max_features=None, min_samples_leaf=3, min_samples_split=2, n_estimators=10, subsample=1.0;, score=0.372 total time= 3.7min\n",
      "[CV 3/5] END learning_rate=0.1, max_depth=30, max_features=None, min_samples_leaf=3, min_samples_split=2, n_estimators=10, subsample=1.0;, score=0.379 total time= 3.7min\n",
      "[CV 4/5] END learning_rate=0.1, max_depth=30, max_features=None, min_samples_leaf=3, min_samples_split=2, n_estimators=10, subsample=1.0;, score=0.408 total time= 3.5min\n",
      "[CV 5/5] END learning_rate=0.1, max_depth=30, max_features=None, min_samples_leaf=3, min_samples_split=2, n_estimators=10, subsample=1.0;, score=0.387 total time= 3.6min\n",
      "[CV 1/5] END learning_rate=0.1, max_depth=30, max_features=None, min_samples_leaf=3, min_samples_split=2, n_estimators=20, subsample=1.0;, score=0.366 total time= 6.9min\n",
      "[CV 2/5] END learning_rate=0.1, max_depth=30, max_features=None, min_samples_leaf=3, min_samples_split=2, n_estimators=20, subsample=1.0;, score=0.365 total time= 7.1min\n",
      "[CV 3/5] END learning_rate=0.1, max_depth=30, max_features=None, min_samples_leaf=3, min_samples_split=2, n_estimators=20, subsample=1.0;, score=0.377 total time= 7.2min\n",
      "[CV 4/5] END learning_rate=0.1, max_depth=30, max_features=None, min_samples_leaf=3, min_samples_split=2, n_estimators=20, subsample=1.0;, score=0.411 total time= 7.0min\n",
      "[CV 5/5] END learning_rate=0.1, max_depth=30, max_features=None, min_samples_leaf=3, min_samples_split=2, n_estimators=20, subsample=1.0;, score=0.386 total time= 7.2min\n",
      "[CV 1/5] END learning_rate=0.1, max_depth=30, max_features=None, min_samples_leaf=3, min_samples_split=10, n_estimators=10, subsample=1.0;, score=0.374 total time= 3.3min\n",
      "[CV 2/5] END learning_rate=0.1, max_depth=30, max_features=None, min_samples_leaf=3, min_samples_split=10, n_estimators=10, subsample=1.0;, score=0.367 total time= 3.4min\n",
      "[CV 3/5] END learning_rate=0.1, max_depth=30, max_features=None, min_samples_leaf=3, min_samples_split=10, n_estimators=10, subsample=1.0;, score=0.380 total time= 3.5min\n",
      "[CV 4/5] END learning_rate=0.1, max_depth=30, max_features=None, min_samples_leaf=3, min_samples_split=10, n_estimators=10, subsample=1.0;, score=0.403 total time= 3.3min\n",
      "[CV 5/5] END learning_rate=0.1, max_depth=30, max_features=None, min_samples_leaf=3, min_samples_split=10, n_estimators=10, subsample=1.0;, score=0.393 total time= 3.5min\n",
      "[CV 1/5] END learning_rate=0.1, max_depth=30, max_features=None, min_samples_leaf=3, min_samples_split=10, n_estimators=20, subsample=1.0;, score=0.368 total time= 6.7min\n",
      "[CV 2/5] END learning_rate=0.1, max_depth=30, max_features=None, min_samples_leaf=3, min_samples_split=10, n_estimators=20, subsample=1.0;, score=0.361 total time= 6.8min\n",
      "[CV 3/5] END learning_rate=0.1, max_depth=30, max_features=None, min_samples_leaf=3, min_samples_split=10, n_estimators=20, subsample=1.0;, score=0.377 total time= 7.1min\n",
      "[CV 4/5] END learning_rate=0.1, max_depth=30, max_features=None, min_samples_leaf=3, min_samples_split=10, n_estimators=20, subsample=1.0;, score=0.411 total time= 6.9min\n",
      "[CV 5/5] END learning_rate=0.1, max_depth=30, max_features=None, min_samples_leaf=3, min_samples_split=10, n_estimators=20, subsample=1.0;, score=0.388 total time= 7.3min\n",
      "[CV 1/5] END learning_rate=0.1, max_depth=30, max_features=None, min_samples_leaf=10, min_samples_split=2, n_estimators=10, subsample=1.0;, score=0.376 total time= 2.8min\n",
      "[CV 2/5] END learning_rate=0.1, max_depth=30, max_features=None, min_samples_leaf=10, min_samples_split=2, n_estimators=10, subsample=1.0;, score=0.362 total time= 2.8min\n",
      "[CV 3/5] END learning_rate=0.1, max_depth=30, max_features=None, min_samples_leaf=10, min_samples_split=2, n_estimators=10, subsample=1.0;, score=0.378 total time= 2.9min\n",
      "[CV 4/5] END learning_rate=0.1, max_depth=30, max_features=None, min_samples_leaf=10, min_samples_split=2, n_estimators=10, subsample=1.0;, score=0.410 total time= 2.8min\n",
      "[CV 5/5] END learning_rate=0.1, max_depth=30, max_features=None, min_samples_leaf=10, min_samples_split=2, n_estimators=10, subsample=1.0;, score=0.399 total time= 3.0min\n"
     ]
    },
    {
     "name": "stdout",
     "output_type": "stream",
     "text": [
      "[CV 1/5] END learning_rate=0.1, max_depth=30, max_features=None, min_samples_leaf=10, min_samples_split=2, n_estimators=20, subsample=1.0;, score=0.376 total time= 5.8min\n",
      "[CV 2/5] END learning_rate=0.1, max_depth=30, max_features=None, min_samples_leaf=10, min_samples_split=2, n_estimators=20, subsample=1.0;, score=0.358 total time= 5.9min\n",
      "[CV 3/5] END learning_rate=0.1, max_depth=30, max_features=None, min_samples_leaf=10, min_samples_split=2, n_estimators=20, subsample=1.0;, score=0.383 total time= 6.2min\n",
      "[CV 4/5] END learning_rate=0.1, max_depth=30, max_features=None, min_samples_leaf=10, min_samples_split=2, n_estimators=20, subsample=1.0;, score=0.415 total time= 5.8min\n",
      "[CV 5/5] END learning_rate=0.1, max_depth=30, max_features=None, min_samples_leaf=10, min_samples_split=2, n_estimators=20, subsample=1.0;, score=0.391 total time= 6.1min\n",
      "[CV 1/5] END learning_rate=0.1, max_depth=30, max_features=None, min_samples_leaf=10, min_samples_split=10, n_estimators=10, subsample=1.0;, score=0.375 total time= 2.8min\n",
      "[CV 2/5] END learning_rate=0.1, max_depth=30, max_features=None, min_samples_leaf=10, min_samples_split=10, n_estimators=10, subsample=1.0;, score=0.367 total time= 2.9min\n",
      "[CV 3/5] END learning_rate=0.1, max_depth=30, max_features=None, min_samples_leaf=10, min_samples_split=10, n_estimators=10, subsample=1.0;, score=0.382 total time= 2.9min\n",
      "[CV 4/5] END learning_rate=0.1, max_depth=30, max_features=None, min_samples_leaf=10, min_samples_split=10, n_estimators=10, subsample=1.0;, score=0.415 total time= 2.8min\n",
      "[CV 5/5] END learning_rate=0.1, max_depth=30, max_features=None, min_samples_leaf=10, min_samples_split=10, n_estimators=10, subsample=1.0;, score=0.389 total time= 3.0min\n",
      "[CV 1/5] END learning_rate=0.1, max_depth=30, max_features=None, min_samples_leaf=10, min_samples_split=10, n_estimators=20, subsample=1.0;, score=0.379 total time= 5.8min\n",
      "[CV 2/5] END learning_rate=0.1, max_depth=30, max_features=None, min_samples_leaf=10, min_samples_split=10, n_estimators=20, subsample=1.0;, score=0.361 total time= 5.8min\n",
      "[CV 3/5] END learning_rate=0.1, max_depth=30, max_features=None, min_samples_leaf=10, min_samples_split=10, n_estimators=20, subsample=1.0;, score=0.386 total time= 6.2min\n",
      "[CV 4/5] END learning_rate=0.1, max_depth=30, max_features=None, min_samples_leaf=10, min_samples_split=10, n_estimators=20, subsample=1.0;, score=0.419 total time= 5.8min\n",
      "[CV 5/5] END learning_rate=0.1, max_depth=30, max_features=None, min_samples_leaf=10, min_samples_split=10, n_estimators=20, subsample=1.0;, score=0.396 total time= 6.2min\n",
      "[CV 1/5] END learning_rate=0.1, max_depth=None, max_features=None, min_samples_leaf=3, min_samples_split=2, n_estimators=10, subsample=1.0;, score=0.371 total time= 3.6min\n",
      "[CV 2/5] END learning_rate=0.1, max_depth=None, max_features=None, min_samples_leaf=3, min_samples_split=2, n_estimators=10, subsample=1.0;, score=0.368 total time= 3.7min\n",
      "[CV 3/5] END learning_rate=0.1, max_depth=None, max_features=None, min_samples_leaf=3, min_samples_split=2, n_estimators=10, subsample=1.0;, score=0.376 total time= 3.8min\n",
      "[CV 4/5] END learning_rate=0.1, max_depth=None, max_features=None, min_samples_leaf=3, min_samples_split=2, n_estimators=10, subsample=1.0;, score=0.403 total time= 3.8min\n",
      "[CV 5/5] END learning_rate=0.1, max_depth=None, max_features=None, min_samples_leaf=3, min_samples_split=2, n_estimators=10, subsample=1.0;, score=0.392 total time= 3.8min\n",
      "[CV 1/5] END learning_rate=0.1, max_depth=None, max_features=None, min_samples_leaf=3, min_samples_split=2, n_estimators=20, subsample=1.0;, score=0.368 total time= 7.4min\n",
      "[CV 2/5] END learning_rate=0.1, max_depth=None, max_features=None, min_samples_leaf=3, min_samples_split=2, n_estimators=20, subsample=1.0;, score=0.363 total time= 7.5min\n",
      "[CV 3/5] END learning_rate=0.1, max_depth=None, max_features=None, min_samples_leaf=3, min_samples_split=2, n_estimators=20, subsample=1.0;, score=0.376 total time= 7.7min\n",
      "[CV 4/5] END learning_rate=0.1, max_depth=None, max_features=None, min_samples_leaf=3, min_samples_split=2, n_estimators=20, subsample=1.0;, score=0.405 total time= 7.4min\n",
      "[CV 5/5] END learning_rate=0.1, max_depth=None, max_features=None, min_samples_leaf=3, min_samples_split=2, n_estimators=20, subsample=1.0;, score=0.387 total time= 7.8min\n",
      "[CV 1/5] END learning_rate=0.1, max_depth=None, max_features=None, min_samples_leaf=3, min_samples_split=10, n_estimators=10, subsample=1.0;, score=0.374 total time= 3.5min\n",
      "[CV 2/5] END learning_rate=0.1, max_depth=None, max_features=None, min_samples_leaf=3, min_samples_split=10, n_estimators=10, subsample=1.0;, score=0.370 total time= 3.5min\n",
      "[CV 3/5] END learning_rate=0.1, max_depth=None, max_features=None, min_samples_leaf=3, min_samples_split=10, n_estimators=10, subsample=1.0;, score=0.375 total time= 3.6min\n",
      "[CV 4/5] END learning_rate=0.1, max_depth=None, max_features=None, min_samples_leaf=3, min_samples_split=10, n_estimators=10, subsample=1.0;, score=0.406 total time= 3.5min\n",
      "[CV 5/5] END learning_rate=0.1, max_depth=None, max_features=None, min_samples_leaf=3, min_samples_split=10, n_estimators=10, subsample=1.0;, score=0.383 total time= 3.7min\n",
      "[CV 1/5] END learning_rate=0.1, max_depth=None, max_features=None, min_samples_leaf=3, min_samples_split=10, n_estimators=20, subsample=1.0;, score=0.378 total time= 7.1min\n",
      "[CV 2/5] END learning_rate=0.1, max_depth=None, max_features=None, min_samples_leaf=3, min_samples_split=10, n_estimators=20, subsample=1.0;, score=0.367 total time= 7.2min\n",
      "[CV 3/5] END learning_rate=0.1, max_depth=None, max_features=None, min_samples_leaf=3, min_samples_split=10, n_estimators=20, subsample=1.0;, score=0.375 total time= 7.3min\n",
      "[CV 4/5] END learning_rate=0.1, max_depth=None, max_features=None, min_samples_leaf=3, min_samples_split=10, n_estimators=20, subsample=1.0;, score=0.412 total time= 7.2min\n",
      "[CV 5/5] END learning_rate=0.1, max_depth=None, max_features=None, min_samples_leaf=3, min_samples_split=10, n_estimators=20, subsample=1.0;, score=0.392 total time= 7.4min\n",
      "[CV 1/5] END learning_rate=0.1, max_depth=None, max_features=None, min_samples_leaf=10, min_samples_split=2, n_estimators=10, subsample=1.0;, score=0.381 total time= 2.8min\n",
      "[CV 2/5] END learning_rate=0.1, max_depth=None, max_features=None, min_samples_leaf=10, min_samples_split=2, n_estimators=10, subsample=1.0;, score=0.374 total time= 2.8min\n",
      "[CV 3/5] END learning_rate=0.1, max_depth=None, max_features=None, min_samples_leaf=10, min_samples_split=2, n_estimators=10, subsample=1.0;, score=0.389 total time= 3.0min\n",
      "[CV 4/5] END learning_rate=0.1, max_depth=None, max_features=None, min_samples_leaf=10, min_samples_split=2, n_estimators=10, subsample=1.0;, score=0.415 total time= 2.8min\n",
      "[CV 5/5] END learning_rate=0.1, max_depth=None, max_features=None, min_samples_leaf=10, min_samples_split=2, n_estimators=10, subsample=1.0;, score=0.394 total time= 3.0min\n",
      "[CV 1/5] END learning_rate=0.1, max_depth=None, max_features=None, min_samples_leaf=10, min_samples_split=2, n_estimators=20, subsample=1.0;, score=0.385 total time= 5.9min\n",
      "[CV 2/5] END learning_rate=0.1, max_depth=None, max_features=None, min_samples_leaf=10, min_samples_split=2, n_estimators=20, subsample=1.0;, score=0.362 total time= 6.0min\n",
      "[CV 3/5] END learning_rate=0.1, max_depth=None, max_features=None, min_samples_leaf=10, min_samples_split=2, n_estimators=20, subsample=1.0;, score=0.385 total time= 6.2min\n",
      "[CV 4/5] END learning_rate=0.1, max_depth=None, max_features=None, min_samples_leaf=10, min_samples_split=2, n_estimators=20, subsample=1.0;, score=0.419 total time= 5.8min\n",
      "[CV 5/5] END learning_rate=0.1, max_depth=None, max_features=None, min_samples_leaf=10, min_samples_split=2, n_estimators=20, subsample=1.0;, score=0.401 total time= 6.2min\n",
      "[CV 1/5] END learning_rate=0.1, max_depth=None, max_features=None, min_samples_leaf=10, min_samples_split=10, n_estimators=10, subsample=1.0;, score=0.378 total time= 2.8min\n",
      "[CV 2/5] END learning_rate=0.1, max_depth=None, max_features=None, min_samples_leaf=10, min_samples_split=10, n_estimators=10, subsample=1.0;, score=0.366 total time= 2.8min\n",
      "[CV 3/5] END learning_rate=0.1, max_depth=None, max_features=None, min_samples_leaf=10, min_samples_split=10, n_estimators=10, subsample=1.0;, score=0.386 total time= 2.9min\n"
     ]
    },
    {
     "name": "stdout",
     "output_type": "stream",
     "text": [
      "[CV 4/5] END learning_rate=0.1, max_depth=None, max_features=None, min_samples_leaf=10, min_samples_split=10, n_estimators=10, subsample=1.0;, score=0.415 total time= 2.8min\n",
      "[CV 5/5] END learning_rate=0.1, max_depth=None, max_features=None, min_samples_leaf=10, min_samples_split=10, n_estimators=10, subsample=1.0;, score=0.395 total time= 3.0min\n",
      "[CV 1/5] END learning_rate=0.1, max_depth=None, max_features=None, min_samples_leaf=10, min_samples_split=10, n_estimators=20, subsample=1.0;, score=0.382 total time= 5.9min\n",
      "[CV 2/5] END learning_rate=0.1, max_depth=None, max_features=None, min_samples_leaf=10, min_samples_split=10, n_estimators=20, subsample=1.0;, score=0.359 total time= 6.0min\n",
      "[CV 3/5] END learning_rate=0.1, max_depth=None, max_features=None, min_samples_leaf=10, min_samples_split=10, n_estimators=20, subsample=1.0;, score=0.391 total time= 6.2min\n",
      "[CV 4/5] END learning_rate=0.1, max_depth=None, max_features=None, min_samples_leaf=10, min_samples_split=10, n_estimators=20, subsample=1.0;, score=0.413 total time= 6.3min\n",
      "[CV 5/5] END learning_rate=0.1, max_depth=None, max_features=None, min_samples_leaf=10, min_samples_split=10, n_estimators=20, subsample=1.0;, score=0.395 total time= 7.9min\n",
      "########### FITTING FOR AdaBoostClassifier NOW ###########\n",
      "Fitting 5 folds for each of 8 candidates, totalling 40 fits\n"
     ]
    },
    {
     "name": "stderr",
     "output_type": "stream",
     "text": [
      "C:\\Users\\Nicklaus\\anaconda3\\envs\\python39\\lib\\site-packages\\sklearn\\ensemble\\_base.py:166: FutureWarning: `base_estimator` was renamed to `estimator` in version 1.2 and will be removed in 1.4.\n",
      "  warnings.warn(\n"
     ]
    },
    {
     "name": "stdout",
     "output_type": "stream",
     "text": [
      "[CV 1/5] END base_estimator__criterion=entropy, base_estimator__max_depth=30, base_estimator__max_features=None, base_estimator__min_samples_leaf=3, base_estimator__min_samples_split=2;, score=0.380 total time= 1.5min\n"
     ]
    },
    {
     "name": "stderr",
     "output_type": "stream",
     "text": [
      "C:\\Users\\Nicklaus\\anaconda3\\envs\\python39\\lib\\site-packages\\sklearn\\ensemble\\_base.py:166: FutureWarning: `base_estimator` was renamed to `estimator` in version 1.2 and will be removed in 1.4.\n",
      "  warnings.warn(\n"
     ]
    },
    {
     "name": "stdout",
     "output_type": "stream",
     "text": [
      "[CV 2/5] END base_estimator__criterion=entropy, base_estimator__max_depth=30, base_estimator__max_features=None, base_estimator__min_samples_leaf=3, base_estimator__min_samples_split=2;, score=0.358 total time= 1.6min\n"
     ]
    },
    {
     "name": "stderr",
     "output_type": "stream",
     "text": [
      "C:\\Users\\Nicklaus\\anaconda3\\envs\\python39\\lib\\site-packages\\sklearn\\ensemble\\_base.py:166: FutureWarning: `base_estimator` was renamed to `estimator` in version 1.2 and will be removed in 1.4.\n",
      "  warnings.warn(\n"
     ]
    },
    {
     "name": "stdout",
     "output_type": "stream",
     "text": [
      "[CV 3/5] END base_estimator__criterion=entropy, base_estimator__max_depth=30, base_estimator__max_features=None, base_estimator__min_samples_leaf=3, base_estimator__min_samples_split=2;, score=0.366 total time= 1.9min\n"
     ]
    },
    {
     "name": "stderr",
     "output_type": "stream",
     "text": [
      "C:\\Users\\Nicklaus\\anaconda3\\envs\\python39\\lib\\site-packages\\sklearn\\ensemble\\_base.py:166: FutureWarning: `base_estimator` was renamed to `estimator` in version 1.2 and will be removed in 1.4.\n",
      "  warnings.warn(\n"
     ]
    },
    {
     "name": "stdout",
     "output_type": "stream",
     "text": [
      "[CV 4/5] END base_estimator__criterion=entropy, base_estimator__max_depth=30, base_estimator__max_features=None, base_estimator__min_samples_leaf=3, base_estimator__min_samples_split=2;, score=0.378 total time= 1.9min\n"
     ]
    },
    {
     "name": "stderr",
     "output_type": "stream",
     "text": [
      "C:\\Users\\Nicklaus\\anaconda3\\envs\\python39\\lib\\site-packages\\sklearn\\ensemble\\_base.py:166: FutureWarning: `base_estimator` was renamed to `estimator` in version 1.2 and will be removed in 1.4.\n",
      "  warnings.warn(\n"
     ]
    },
    {
     "name": "stdout",
     "output_type": "stream",
     "text": [
      "[CV 5/5] END base_estimator__criterion=entropy, base_estimator__max_depth=30, base_estimator__max_features=None, base_estimator__min_samples_leaf=3, base_estimator__min_samples_split=2;, score=0.365 total time= 1.6min\n"
     ]
    },
    {
     "name": "stderr",
     "output_type": "stream",
     "text": [
      "C:\\Users\\Nicklaus\\anaconda3\\envs\\python39\\lib\\site-packages\\sklearn\\ensemble\\_base.py:166: FutureWarning: `base_estimator` was renamed to `estimator` in version 1.2 and will be removed in 1.4.\n",
      "  warnings.warn(\n"
     ]
    },
    {
     "name": "stdout",
     "output_type": "stream",
     "text": [
      "[CV 1/5] END base_estimator__criterion=entropy, base_estimator__max_depth=30, base_estimator__max_features=None, base_estimator__min_samples_leaf=3, base_estimator__min_samples_split=10;, score=0.374 total time= 1.6min\n"
     ]
    },
    {
     "name": "stderr",
     "output_type": "stream",
     "text": [
      "C:\\Users\\Nicklaus\\anaconda3\\envs\\python39\\lib\\site-packages\\sklearn\\ensemble\\_base.py:166: FutureWarning: `base_estimator` was renamed to `estimator` in version 1.2 and will be removed in 1.4.\n",
      "  warnings.warn(\n"
     ]
    },
    {
     "name": "stdout",
     "output_type": "stream",
     "text": [
      "[CV 2/5] END base_estimator__criterion=entropy, base_estimator__max_depth=30, base_estimator__max_features=None, base_estimator__min_samples_leaf=3, base_estimator__min_samples_split=10;, score=0.368 total time= 1.7min\n"
     ]
    },
    {
     "name": "stderr",
     "output_type": "stream",
     "text": [
      "C:\\Users\\Nicklaus\\anaconda3\\envs\\python39\\lib\\site-packages\\sklearn\\ensemble\\_base.py:166: FutureWarning: `base_estimator` was renamed to `estimator` in version 1.2 and will be removed in 1.4.\n",
      "  warnings.warn(\n"
     ]
    },
    {
     "name": "stdout",
     "output_type": "stream",
     "text": [
      "[CV 3/5] END base_estimator__criterion=entropy, base_estimator__max_depth=30, base_estimator__max_features=None, base_estimator__min_samples_leaf=3, base_estimator__min_samples_split=10;, score=0.370 total time= 2.0min\n"
     ]
    },
    {
     "name": "stderr",
     "output_type": "stream",
     "text": [
      "C:\\Users\\Nicklaus\\anaconda3\\envs\\python39\\lib\\site-packages\\sklearn\\ensemble\\_base.py:166: FutureWarning: `base_estimator` was renamed to `estimator` in version 1.2 and will be removed in 1.4.\n",
      "  warnings.warn(\n"
     ]
    },
    {
     "name": "stdout",
     "output_type": "stream",
     "text": [
      "[CV 4/5] END base_estimator__criterion=entropy, base_estimator__max_depth=30, base_estimator__max_features=None, base_estimator__min_samples_leaf=3, base_estimator__min_samples_split=10;, score=0.381 total time= 1.8min\n"
     ]
    },
    {
     "name": "stderr",
     "output_type": "stream",
     "text": [
      "C:\\Users\\Nicklaus\\anaconda3\\envs\\python39\\lib\\site-packages\\sklearn\\ensemble\\_base.py:166: FutureWarning: `base_estimator` was renamed to `estimator` in version 1.2 and will be removed in 1.4.\n",
      "  warnings.warn(\n"
     ]
    },
    {
     "name": "stdout",
     "output_type": "stream",
     "text": [
      "[CV 5/5] END base_estimator__criterion=entropy, base_estimator__max_depth=30, base_estimator__max_features=None, base_estimator__min_samples_leaf=3, base_estimator__min_samples_split=10;, score=0.372 total time= 1.7min\n"
     ]
    },
    {
     "name": "stderr",
     "output_type": "stream",
     "text": [
      "C:\\Users\\Nicklaus\\anaconda3\\envs\\python39\\lib\\site-packages\\sklearn\\ensemble\\_base.py:166: FutureWarning: `base_estimator` was renamed to `estimator` in version 1.2 and will be removed in 1.4.\n",
      "  warnings.warn(\n"
     ]
    },
    {
     "name": "stdout",
     "output_type": "stream",
     "text": [
      "[CV 1/5] END base_estimator__criterion=entropy, base_estimator__max_depth=30, base_estimator__max_features=None, base_estimator__min_samples_leaf=10, base_estimator__min_samples_split=2;, score=0.360 total time= 1.7min\n"
     ]
    },
    {
     "name": "stderr",
     "output_type": "stream",
     "text": [
      "C:\\Users\\Nicklaus\\anaconda3\\envs\\python39\\lib\\site-packages\\sklearn\\ensemble\\_base.py:166: FutureWarning: `base_estimator` was renamed to `estimator` in version 1.2 and will be removed in 1.4.\n",
      "  warnings.warn(\n"
     ]
    },
    {
     "name": "stdout",
     "output_type": "stream",
     "text": [
      "[CV 2/5] END base_estimator__criterion=entropy, base_estimator__max_depth=30, base_estimator__max_features=None, base_estimator__min_samples_leaf=10, base_estimator__min_samples_split=2;, score=0.346 total time= 1.7min\n"
     ]
    },
    {
     "name": "stderr",
     "output_type": "stream",
     "text": [
      "C:\\Users\\Nicklaus\\anaconda3\\envs\\python39\\lib\\site-packages\\sklearn\\ensemble\\_base.py:166: FutureWarning: `base_estimator` was renamed to `estimator` in version 1.2 and will be removed in 1.4.\n",
      "  warnings.warn(\n"
     ]
    },
    {
     "name": "stdout",
     "output_type": "stream",
     "text": [
      "[CV 3/5] END base_estimator__criterion=entropy, base_estimator__max_depth=30, base_estimator__max_features=None, base_estimator__min_samples_leaf=10, base_estimator__min_samples_split=2;, score=0.356 total time= 1.7min\n"
     ]
    },
    {
     "name": "stderr",
     "output_type": "stream",
     "text": [
      "C:\\Users\\Nicklaus\\anaconda3\\envs\\python39\\lib\\site-packages\\sklearn\\ensemble\\_base.py:166: FutureWarning: `base_estimator` was renamed to `estimator` in version 1.2 and will be removed in 1.4.\n",
      "  warnings.warn(\n"
     ]
    },
    {
     "name": "stdout",
     "output_type": "stream",
     "text": [
      "[CV 4/5] END base_estimator__criterion=entropy, base_estimator__max_depth=30, base_estimator__max_features=None, base_estimator__min_samples_leaf=10, base_estimator__min_samples_split=2;, score=0.377 total time= 1.6min\n"
     ]
    },
    {
     "name": "stderr",
     "output_type": "stream",
     "text": [
      "C:\\Users\\Nicklaus\\anaconda3\\envs\\python39\\lib\\site-packages\\sklearn\\ensemble\\_base.py:166: FutureWarning: `base_estimator` was renamed to `estimator` in version 1.2 and will be removed in 1.4.\n",
      "  warnings.warn(\n"
     ]
    },
    {
     "name": "stdout",
     "output_type": "stream",
     "text": [
      "[CV 5/5] END base_estimator__criterion=entropy, base_estimator__max_depth=30, base_estimator__max_features=None, base_estimator__min_samples_leaf=10, base_estimator__min_samples_split=2;, score=0.376 total time= 1.6min\n"
     ]
    },
    {
     "name": "stderr",
     "output_type": "stream",
     "text": [
      "C:\\Users\\Nicklaus\\anaconda3\\envs\\python39\\lib\\site-packages\\sklearn\\ensemble\\_base.py:166: FutureWarning: `base_estimator` was renamed to `estimator` in version 1.2 and will be removed in 1.4.\n",
      "  warnings.warn(\n"
     ]
    },
    {
     "name": "stdout",
     "output_type": "stream",
     "text": [
      "[CV 1/5] END base_estimator__criterion=entropy, base_estimator__max_depth=30, base_estimator__max_features=None, base_estimator__min_samples_leaf=10, base_estimator__min_samples_split=10;, score=0.373 total time= 1.6min\n"
     ]
    },
    {
     "name": "stderr",
     "output_type": "stream",
     "text": [
      "C:\\Users\\Nicklaus\\anaconda3\\envs\\python39\\lib\\site-packages\\sklearn\\ensemble\\_base.py:166: FutureWarning: `base_estimator` was renamed to `estimator` in version 1.2 and will be removed in 1.4.\n",
      "  warnings.warn(\n"
     ]
    },
    {
     "name": "stdout",
     "output_type": "stream",
     "text": [
      "[CV 2/5] END base_estimator__criterion=entropy, base_estimator__max_depth=30, base_estimator__max_features=None, base_estimator__min_samples_leaf=10, base_estimator__min_samples_split=10;, score=0.353 total time= 1.6min\n"
     ]
    },
    {
     "name": "stderr",
     "output_type": "stream",
     "text": [
      "C:\\Users\\Nicklaus\\anaconda3\\envs\\python39\\lib\\site-packages\\sklearn\\ensemble\\_base.py:166: FutureWarning: `base_estimator` was renamed to `estimator` in version 1.2 and will be removed in 1.4.\n",
      "  warnings.warn(\n"
     ]
    },
    {
     "name": "stdout",
     "output_type": "stream",
     "text": [
      "[CV 3/5] END base_estimator__criterion=entropy, base_estimator__max_depth=30, base_estimator__max_features=None, base_estimator__min_samples_leaf=10, base_estimator__min_samples_split=10;, score=0.364 total time= 1.6min\n"
     ]
    },
    {
     "name": "stderr",
     "output_type": "stream",
     "text": [
      "C:\\Users\\Nicklaus\\anaconda3\\envs\\python39\\lib\\site-packages\\sklearn\\ensemble\\_base.py:166: FutureWarning: `base_estimator` was renamed to `estimator` in version 1.2 and will be removed in 1.4.\n",
      "  warnings.warn(\n"
     ]
    },
    {
     "name": "stdout",
     "output_type": "stream",
     "text": [
      "[CV 4/5] END base_estimator__criterion=entropy, base_estimator__max_depth=30, base_estimator__max_features=None, base_estimator__min_samples_leaf=10, base_estimator__min_samples_split=10;, score=0.371 total time= 1.6min\n"
     ]
    },
    {
     "name": "stderr",
     "output_type": "stream",
     "text": [
      "C:\\Users\\Nicklaus\\anaconda3\\envs\\python39\\lib\\site-packages\\sklearn\\ensemble\\_base.py:166: FutureWarning: `base_estimator` was renamed to `estimator` in version 1.2 and will be removed in 1.4.\n",
      "  warnings.warn(\n"
     ]
    },
    {
     "name": "stdout",
     "output_type": "stream",
     "text": [
      "[CV 5/5] END base_estimator__criterion=entropy, base_estimator__max_depth=30, base_estimator__max_features=None, base_estimator__min_samples_leaf=10, base_estimator__min_samples_split=10;, score=0.361 total time= 1.7min\n"
     ]
    },
    {
     "name": "stderr",
     "output_type": "stream",
     "text": [
      "C:\\Users\\Nicklaus\\anaconda3\\envs\\python39\\lib\\site-packages\\sklearn\\ensemble\\_base.py:166: FutureWarning: `base_estimator` was renamed to `estimator` in version 1.2 and will be removed in 1.4.\n",
      "  warnings.warn(\n"
     ]
    },
    {
     "name": "stdout",
     "output_type": "stream",
     "text": [
      "[CV 1/5] END base_estimator__criterion=entropy, base_estimator__max_depth=None, base_estimator__max_features=None, base_estimator__min_samples_leaf=3, base_estimator__min_samples_split=2;, score=0.376 total time= 1.5min\n"
     ]
    },
    {
     "name": "stderr",
     "output_type": "stream",
     "text": [
      "C:\\Users\\Nicklaus\\anaconda3\\envs\\python39\\lib\\site-packages\\sklearn\\ensemble\\_base.py:166: FutureWarning: `base_estimator` was renamed to `estimator` in version 1.2 and will be removed in 1.4.\n",
      "  warnings.warn(\n"
     ]
    },
    {
     "name": "stdout",
     "output_type": "stream",
     "text": [
      "[CV 2/5] END base_estimator__criterion=entropy, base_estimator__max_depth=None, base_estimator__max_features=None, base_estimator__min_samples_leaf=3, base_estimator__min_samples_split=2;, score=0.362 total time= 1.6min\n"
     ]
    },
    {
     "name": "stderr",
     "output_type": "stream",
     "text": [
      "C:\\Users\\Nicklaus\\anaconda3\\envs\\python39\\lib\\site-packages\\sklearn\\ensemble\\_base.py:166: FutureWarning: `base_estimator` was renamed to `estimator` in version 1.2 and will be removed in 1.4.\n",
      "  warnings.warn(\n"
     ]
    },
    {
     "name": "stdout",
     "output_type": "stream",
     "text": [
      "[CV 3/5] END base_estimator__criterion=entropy, base_estimator__max_depth=None, base_estimator__max_features=None, base_estimator__min_samples_leaf=3, base_estimator__min_samples_split=2;, score=0.367 total time= 1.6min\n"
     ]
    },
    {
     "name": "stderr",
     "output_type": "stream",
     "text": [
      "C:\\Users\\Nicklaus\\anaconda3\\envs\\python39\\lib\\site-packages\\sklearn\\ensemble\\_base.py:166: FutureWarning: `base_estimator` was renamed to `estimator` in version 1.2 and will be removed in 1.4.\n",
      "  warnings.warn(\n"
     ]
    },
    {
     "name": "stdout",
     "output_type": "stream",
     "text": [
      "[CV 4/5] END base_estimator__criterion=entropy, base_estimator__max_depth=None, base_estimator__max_features=None, base_estimator__min_samples_leaf=3, base_estimator__min_samples_split=2;, score=0.382 total time= 1.6min\n"
     ]
    },
    {
     "name": "stderr",
     "output_type": "stream",
     "text": [
      "C:\\Users\\Nicklaus\\anaconda3\\envs\\python39\\lib\\site-packages\\sklearn\\ensemble\\_base.py:166: FutureWarning: `base_estimator` was renamed to `estimator` in version 1.2 and will be removed in 1.4.\n",
      "  warnings.warn(\n"
     ]
    },
    {
     "name": "stdout",
     "output_type": "stream",
     "text": [
      "[CV 5/5] END base_estimator__criterion=entropy, base_estimator__max_depth=None, base_estimator__max_features=None, base_estimator__min_samples_leaf=3, base_estimator__min_samples_split=2;, score=0.365 total time= 1.6min\n"
     ]
    },
    {
     "name": "stderr",
     "output_type": "stream",
     "text": [
      "C:\\Users\\Nicklaus\\anaconda3\\envs\\python39\\lib\\site-packages\\sklearn\\ensemble\\_base.py:166: FutureWarning: `base_estimator` was renamed to `estimator` in version 1.2 and will be removed in 1.4.\n",
      "  warnings.warn(\n"
     ]
    },
    {
     "name": "stdout",
     "output_type": "stream",
     "text": [
      "[CV 1/5] END base_estimator__criterion=entropy, base_estimator__max_depth=None, base_estimator__max_features=None, base_estimator__min_samples_leaf=3, base_estimator__min_samples_split=10;, score=0.366 total time= 1.7min\n"
     ]
    },
    {
     "name": "stderr",
     "output_type": "stream",
     "text": [
      "C:\\Users\\Nicklaus\\anaconda3\\envs\\python39\\lib\\site-packages\\sklearn\\ensemble\\_base.py:166: FutureWarning: `base_estimator` was renamed to `estimator` in version 1.2 and will be removed in 1.4.\n",
      "  warnings.warn(\n"
     ]
    },
    {
     "name": "stdout",
     "output_type": "stream",
     "text": [
      "[CV 2/5] END base_estimator__criterion=entropy, base_estimator__max_depth=None, base_estimator__max_features=None, base_estimator__min_samples_leaf=3, base_estimator__min_samples_split=10;, score=0.369 total time= 1.6min\n"
     ]
    },
    {
     "name": "stderr",
     "output_type": "stream",
     "text": [
      "C:\\Users\\Nicklaus\\anaconda3\\envs\\python39\\lib\\site-packages\\sklearn\\ensemble\\_base.py:166: FutureWarning: `base_estimator` was renamed to `estimator` in version 1.2 and will be removed in 1.4.\n",
      "  warnings.warn(\n"
     ]
    },
    {
     "name": "stdout",
     "output_type": "stream",
     "text": [
      "[CV 3/5] END base_estimator__criterion=entropy, base_estimator__max_depth=None, base_estimator__max_features=None, base_estimator__min_samples_leaf=3, base_estimator__min_samples_split=10;, score=0.363 total time= 1.6min\n"
     ]
    },
    {
     "name": "stderr",
     "output_type": "stream",
     "text": [
      "C:\\Users\\Nicklaus\\anaconda3\\envs\\python39\\lib\\site-packages\\sklearn\\ensemble\\_base.py:166: FutureWarning: `base_estimator` was renamed to `estimator` in version 1.2 and will be removed in 1.4.\n",
      "  warnings.warn(\n"
     ]
    },
    {
     "name": "stdout",
     "output_type": "stream",
     "text": [
      "[CV 4/5] END base_estimator__criterion=entropy, base_estimator__max_depth=None, base_estimator__max_features=None, base_estimator__min_samples_leaf=3, base_estimator__min_samples_split=10;, score=0.375 total time= 1.6min\n"
     ]
    },
    {
     "name": "stderr",
     "output_type": "stream",
     "text": [
      "C:\\Users\\Nicklaus\\anaconda3\\envs\\python39\\lib\\site-packages\\sklearn\\ensemble\\_base.py:166: FutureWarning: `base_estimator` was renamed to `estimator` in version 1.2 and will be removed in 1.4.\n",
      "  warnings.warn(\n"
     ]
    },
    {
     "name": "stdout",
     "output_type": "stream",
     "text": [
      "[CV 5/5] END base_estimator__criterion=entropy, base_estimator__max_depth=None, base_estimator__max_features=None, base_estimator__min_samples_leaf=3, base_estimator__min_samples_split=10;, score=0.359 total time= 1.6min\n"
     ]
    },
    {
     "name": "stderr",
     "output_type": "stream",
     "text": [
      "C:\\Users\\Nicklaus\\anaconda3\\envs\\python39\\lib\\site-packages\\sklearn\\ensemble\\_base.py:166: FutureWarning: `base_estimator` was renamed to `estimator` in version 1.2 and will be removed in 1.4.\n",
      "  warnings.warn(\n"
     ]
    },
    {
     "name": "stdout",
     "output_type": "stream",
     "text": [
      "[CV 1/5] END base_estimator__criterion=entropy, base_estimator__max_depth=None, base_estimator__max_features=None, base_estimator__min_samples_leaf=10, base_estimator__min_samples_split=2;, score=0.361 total time= 1.7min\n"
     ]
    },
    {
     "name": "stderr",
     "output_type": "stream",
     "text": [
      "C:\\Users\\Nicklaus\\anaconda3\\envs\\python39\\lib\\site-packages\\sklearn\\ensemble\\_base.py:166: FutureWarning: `base_estimator` was renamed to `estimator` in version 1.2 and will be removed in 1.4.\n",
      "  warnings.warn(\n"
     ]
    },
    {
     "name": "stdout",
     "output_type": "stream",
     "text": [
      "[CV 2/5] END base_estimator__criterion=entropy, base_estimator__max_depth=None, base_estimator__max_features=None, base_estimator__min_samples_leaf=10, base_estimator__min_samples_split=2;, score=0.351 total time= 1.8min\n"
     ]
    },
    {
     "name": "stderr",
     "output_type": "stream",
     "text": [
      "C:\\Users\\Nicklaus\\anaconda3\\envs\\python39\\lib\\site-packages\\sklearn\\ensemble\\_base.py:166: FutureWarning: `base_estimator` was renamed to `estimator` in version 1.2 and will be removed in 1.4.\n",
      "  warnings.warn(\n"
     ]
    },
    {
     "name": "stdout",
     "output_type": "stream",
     "text": [
      "[CV 3/5] END base_estimator__criterion=entropy, base_estimator__max_depth=None, base_estimator__max_features=None, base_estimator__min_samples_leaf=10, base_estimator__min_samples_split=2;, score=0.363 total time= 1.7min\n"
     ]
    },
    {
     "name": "stderr",
     "output_type": "stream",
     "text": [
      "C:\\Users\\Nicklaus\\anaconda3\\envs\\python39\\lib\\site-packages\\sklearn\\ensemble\\_base.py:166: FutureWarning: `base_estimator` was renamed to `estimator` in version 1.2 and will be removed in 1.4.\n",
      "  warnings.warn(\n"
     ]
    },
    {
     "name": "stdout",
     "output_type": "stream",
     "text": [
      "[CV 4/5] END base_estimator__criterion=entropy, base_estimator__max_depth=None, base_estimator__max_features=None, base_estimator__min_samples_leaf=10, base_estimator__min_samples_split=2;, score=0.381 total time= 1.9min\n"
     ]
    },
    {
     "name": "stderr",
     "output_type": "stream",
     "text": [
      "C:\\Users\\Nicklaus\\anaconda3\\envs\\python39\\lib\\site-packages\\sklearn\\ensemble\\_base.py:166: FutureWarning: `base_estimator` was renamed to `estimator` in version 1.2 and will be removed in 1.4.\n",
      "  warnings.warn(\n"
     ]
    },
    {
     "name": "stdout",
     "output_type": "stream",
     "text": [
      "[CV 5/5] END base_estimator__criterion=entropy, base_estimator__max_depth=None, base_estimator__max_features=None, base_estimator__min_samples_leaf=10, base_estimator__min_samples_split=2;, score=0.375 total time= 1.9min\n"
     ]
    },
    {
     "name": "stderr",
     "output_type": "stream",
     "text": [
      "C:\\Users\\Nicklaus\\anaconda3\\envs\\python39\\lib\\site-packages\\sklearn\\ensemble\\_base.py:166: FutureWarning: `base_estimator` was renamed to `estimator` in version 1.2 and will be removed in 1.4.\n",
      "  warnings.warn(\n"
     ]
    },
    {
     "name": "stdout",
     "output_type": "stream",
     "text": [
      "[CV 1/5] END base_estimator__criterion=entropy, base_estimator__max_depth=None, base_estimator__max_features=None, base_estimator__min_samples_leaf=10, base_estimator__min_samples_split=10;, score=0.359 total time= 1.9min\n"
     ]
    },
    {
     "name": "stderr",
     "output_type": "stream",
     "text": [
      "C:\\Users\\Nicklaus\\anaconda3\\envs\\python39\\lib\\site-packages\\sklearn\\ensemble\\_base.py:166: FutureWarning: `base_estimator` was renamed to `estimator` in version 1.2 and will be removed in 1.4.\n",
      "  warnings.warn(\n"
     ]
    },
    {
     "name": "stdout",
     "output_type": "stream",
     "text": [
      "[CV 2/5] END base_estimator__criterion=entropy, base_estimator__max_depth=None, base_estimator__max_features=None, base_estimator__min_samples_leaf=10, base_estimator__min_samples_split=10;, score=0.364 total time= 1.7min\n"
     ]
    },
    {
     "name": "stderr",
     "output_type": "stream",
     "text": [
      "C:\\Users\\Nicklaus\\anaconda3\\envs\\python39\\lib\\site-packages\\sklearn\\ensemble\\_base.py:166: FutureWarning: `base_estimator` was renamed to `estimator` in version 1.2 and will be removed in 1.4.\n",
      "  warnings.warn(\n"
     ]
    },
    {
     "name": "stdout",
     "output_type": "stream",
     "text": [
      "[CV 3/5] END base_estimator__criterion=entropy, base_estimator__max_depth=None, base_estimator__max_features=None, base_estimator__min_samples_leaf=10, base_estimator__min_samples_split=10;, score=0.364 total time= 2.0min\n"
     ]
    },
    {
     "name": "stderr",
     "output_type": "stream",
     "text": [
      "C:\\Users\\Nicklaus\\anaconda3\\envs\\python39\\lib\\site-packages\\sklearn\\ensemble\\_base.py:166: FutureWarning: `base_estimator` was renamed to `estimator` in version 1.2 and will be removed in 1.4.\n",
      "  warnings.warn(\n"
     ]
    },
    {
     "name": "stdout",
     "output_type": "stream",
     "text": [
      "[CV 4/5] END base_estimator__criterion=entropy, base_estimator__max_depth=None, base_estimator__max_features=None, base_estimator__min_samples_leaf=10, base_estimator__min_samples_split=10;, score=0.370 total time= 2.1min\n"
     ]
    },
    {
     "name": "stderr",
     "output_type": "stream",
     "text": [
      "C:\\Users\\Nicklaus\\anaconda3\\envs\\python39\\lib\\site-packages\\sklearn\\ensemble\\_base.py:166: FutureWarning: `base_estimator` was renamed to `estimator` in version 1.2 and will be removed in 1.4.\n",
      "  warnings.warn(\n"
     ]
    },
    {
     "name": "stdout",
     "output_type": "stream",
     "text": [
      "[CV 5/5] END base_estimator__criterion=entropy, base_estimator__max_depth=None, base_estimator__max_features=None, base_estimator__min_samples_leaf=10, base_estimator__min_samples_split=10;, score=0.365 total time= 1.9min\n"
     ]
    },
    {
     "name": "stderr",
     "output_type": "stream",
     "text": [
      "C:\\Users\\Nicklaus\\anaconda3\\envs\\python39\\lib\\site-packages\\sklearn\\ensemble\\_base.py:166: FutureWarning: `base_estimator` was renamed to `estimator` in version 1.2 and will be removed in 1.4.\n",
      "  warnings.warn(\n"
     ]
    },
    {
     "name": "stdout",
     "output_type": "stream",
     "text": [
      "########### FITTING FOR SVC NOW ###########\n",
      "Fitting 5 folds for each of 4 candidates, totalling 20 fits\n",
      "[CV 1/5] END ......C=1, gamma=scale, kernel=rbf;, score=0.422 total time=26.7min\n",
      "[CV 2/5] END ......C=1, gamma=scale, kernel=rbf;, score=0.464 total time=27.0min\n",
      "[CV 3/5] END ......C=1, gamma=scale, kernel=rbf;, score=0.381 total time=33.8min\n",
      "[CV 4/5] END ......C=1, gamma=scale, kernel=rbf;, score=0.420 total time=35.3min\n",
      "[CV 5/5] END ......C=1, gamma=scale, kernel=rbf;, score=0.382 total time=35.9min\n",
      "[CV 1/5] END ......C=1, gamma=auto, kernel=rbf;, score=0.422 total time=133.4min\n",
      "[CV 2/5] END ......C=1, gamma=auto, kernel=rbf;, score=0.464 total time=131.5min\n",
      "[CV 3/5] END ......C=1, gamma=auto, kernel=rbf;, score=0.381 total time=130.2min\n",
      "[CV 4/5] END ......C=1, gamma=auto, kernel=rbf;, score=0.420 total time=138.5min\n"
     ]
    }
   ],
   "source": [
    "store_grid_searches = {}\n",
    "\n",
    "for est_name in [\"LGBMClassifier\", \"GradientBoostingClassifier\", \"AdaBoostClassifier\",\n",
    "                \"ExtraTreesClassifier\", \"RandomForestClassifier\", \"SVC\"]:\n",
    "    print(f\"########### FITTING FOR {est_name} NOW ###########\")\n",
    "    clf = GridSearchCV(estimator[est_name], param_grid[est_name], scoring=\"accuracy\", cv=cv_folds, verbose=3, n_jobs=1)\n",
    "    clf.fit(X_train[x_vals], y_train)\n",
    "    \n",
    "    params_score = pd.DataFrame(clf.cv_results_[\"params\"])\n",
    "    params_score[\"score\"] = clf.cv_results_[\"mean_test_score\"]\n",
    "    params_score[\"estimator\"] = est_name\n",
    "    params_score.sort_values(\"score\", inplace=True, ascending=False)\n",
    "    params_score.to_csv(f\"../results/{est_name}_optimization_month_pred.csv\")\n",
    "    \n",
    "    store_grid_searches[est_name] = clf"
   ]
  },
  {
   "cell_type": "code",
   "execution_count": null,
   "id": "c7385673",
   "metadata": {},
   "outputs": [],
   "source": []
  },
  {
   "attachments": {},
   "cell_type": "markdown",
   "id": "f93aa737",
   "metadata": {},
   "source": [
    "# Feature Importance"
   ]
  },
  {
   "cell_type": "code",
   "execution_count": 35,
   "id": "2104f293",
   "metadata": {},
   "outputs": [
    {
     "data": {
      "text/html": [
       "<style>#sk-container-id-1 {color: black;background-color: white;}#sk-container-id-1 pre{padding: 0;}#sk-container-id-1 div.sk-toggleable {background-color: white;}#sk-container-id-1 label.sk-toggleable__label {cursor: pointer;display: block;width: 100%;margin-bottom: 0;padding: 0.3em;box-sizing: border-box;text-align: center;}#sk-container-id-1 label.sk-toggleable__label-arrow:before {content: \"▸\";float: left;margin-right: 0.25em;color: #696969;}#sk-container-id-1 label.sk-toggleable__label-arrow:hover:before {color: black;}#sk-container-id-1 div.sk-estimator:hover label.sk-toggleable__label-arrow:before {color: black;}#sk-container-id-1 div.sk-toggleable__content {max-height: 0;max-width: 0;overflow: hidden;text-align: left;background-color: #f0f8ff;}#sk-container-id-1 div.sk-toggleable__content pre {margin: 0.2em;color: black;border-radius: 0.25em;background-color: #f0f8ff;}#sk-container-id-1 input.sk-toggleable__control:checked~div.sk-toggleable__content {max-height: 200px;max-width: 100%;overflow: auto;}#sk-container-id-1 input.sk-toggleable__control:checked~label.sk-toggleable__label-arrow:before {content: \"▾\";}#sk-container-id-1 div.sk-estimator input.sk-toggleable__control:checked~label.sk-toggleable__label {background-color: #d4ebff;}#sk-container-id-1 div.sk-label input.sk-toggleable__control:checked~label.sk-toggleable__label {background-color: #d4ebff;}#sk-container-id-1 input.sk-hidden--visually {border: 0;clip: rect(1px 1px 1px 1px);clip: rect(1px, 1px, 1px, 1px);height: 1px;margin: -1px;overflow: hidden;padding: 0;position: absolute;width: 1px;}#sk-container-id-1 div.sk-estimator {font-family: monospace;background-color: #f0f8ff;border: 1px dotted black;border-radius: 0.25em;box-sizing: border-box;margin-bottom: 0.5em;}#sk-container-id-1 div.sk-estimator:hover {background-color: #d4ebff;}#sk-container-id-1 div.sk-parallel-item::after {content: \"\";width: 100%;border-bottom: 1px solid gray;flex-grow: 1;}#sk-container-id-1 div.sk-label:hover label.sk-toggleable__label {background-color: #d4ebff;}#sk-container-id-1 div.sk-serial::before {content: \"\";position: absolute;border-left: 1px solid gray;box-sizing: border-box;top: 0;bottom: 0;left: 50%;z-index: 0;}#sk-container-id-1 div.sk-serial {display: flex;flex-direction: column;align-items: center;background-color: white;padding-right: 0.2em;padding-left: 0.2em;position: relative;}#sk-container-id-1 div.sk-item {position: relative;z-index: 1;}#sk-container-id-1 div.sk-parallel {display: flex;align-items: stretch;justify-content: center;background-color: white;position: relative;}#sk-container-id-1 div.sk-item::before, #sk-container-id-1 div.sk-parallel-item::before {content: \"\";position: absolute;border-left: 1px solid gray;box-sizing: border-box;top: 0;bottom: 0;left: 50%;z-index: -1;}#sk-container-id-1 div.sk-parallel-item {display: flex;flex-direction: column;z-index: 1;position: relative;background-color: white;}#sk-container-id-1 div.sk-parallel-item:first-child::after {align-self: flex-end;width: 50%;}#sk-container-id-1 div.sk-parallel-item:last-child::after {align-self: flex-start;width: 50%;}#sk-container-id-1 div.sk-parallel-item:only-child::after {width: 0;}#sk-container-id-1 div.sk-dashed-wrapped {border: 1px dashed gray;margin: 0 0.4em 0.5em 0.4em;box-sizing: border-box;padding-bottom: 0.4em;background-color: white;}#sk-container-id-1 div.sk-label label {font-family: monospace;font-weight: bold;display: inline-block;line-height: 1.2em;}#sk-container-id-1 div.sk-label-container {text-align: center;}#sk-container-id-1 div.sk-container {/* jupyter's `normalize.less` sets `[hidden] { display: none; }` but bootstrap.min.css set `[hidden] { display: none !important; }` so we also need the `!important` here to be able to override the default hidden behavior on the sphinx rendered scikit-learn.org. See: https://github.com/scikit-learn/scikit-learn/issues/21755 */display: inline-block !important;position: relative;}#sk-container-id-1 div.sk-text-repr-fallback {display: none;}</style><div id=\"sk-container-id-1\" class=\"sk-top-container\"><div class=\"sk-text-repr-fallback\"><pre>LGBMClassifier()</pre><b>In a Jupyter environment, please rerun this cell to show the HTML representation or trust the notebook. <br />On GitHub, the HTML representation is unable to render, please try loading this page with nbviewer.org.</b></div><div class=\"sk-container\" hidden><div class=\"sk-item\"><div class=\"sk-estimator sk-toggleable\"><input class=\"sk-toggleable__control sk-hidden--visually\" id=\"sk-estimator-id-1\" type=\"checkbox\" checked><label for=\"sk-estimator-id-1\" class=\"sk-toggleable__label sk-toggleable__label-arrow\">LGBMClassifier</label><div class=\"sk-toggleable__content\"><pre>LGBMClassifier()</pre></div></div></div></div></div>"
      ],
      "text/plain": [
       "LGBMClassifier()"
      ]
     },
     "execution_count": 35,
     "metadata": {},
     "output_type": "execute_result"
    }
   ],
   "source": [
    "direction_model = LGBMClassifier()\n",
    "direction_model.fit(X_train[x_vals], y_train)"
   ]
  },
  {
   "cell_type": "code",
   "execution_count": 83,
   "id": "1cd3f38f",
   "metadata": {},
   "outputs": [
    {
     "data": {
      "text/plain": [
       "<AxesSubplot:title={'center':'Feature importance'}, xlabel='Feature importance', ylabel='Features'>"
      ]
     },
     "execution_count": 83,
     "metadata": {},
     "output_type": "execute_result"
    },
    {
     "data": {
      "image/png": "[encoded data removed]",
      "text/plain": [
       "<Figure size 1440x1440 with 1 Axes>"
      ]
     },
     "metadata": {
      "needs_background": "light"
     },
     "output_type": "display_data"
    }
   ],
   "source": [
    "from lightgbm import plot_importance\n",
    "plot_importance(direction_model, figsize=(20,20))"
   ]
  },
  {
   "cell_type": "code",
   "execution_count": 64,
   "id": "6a9f3c36",
   "metadata": {},
   "outputs": [],
   "source": [
    "from sklearn.metrics import confusion_matrix"
   ]
  },
  {
   "cell_type": "code",
   "execution_count": 65,
   "id": "d960cf1f",
   "metadata": {},
   "outputs": [],
   "source": [
    "train_preds = direction_model.predict(X_train[x_vals])"
   ]
  },
  {
   "attachments": {},
   "cell_type": "markdown",
   "id": "7522d2e7",
   "metadata": {},
   "source": [
    "# Train Test Performance"
   ]
  },
  {
   "cell_type": "code",
   "execution_count": 70,
   "id": "b13031ea",
   "metadata": {},
   "outputs": [],
   "source": [
    "import itertools\n",
    "import numpy as np\n",
    "import matplotlib.pyplot as plt\n",
    "\n",
    "from sklearn import svm, datasets\n",
    "from sklearn.model_selection import train_test_split\n",
    "from sklearn.metrics import confusion_matrix\n",
    "\n",
    "def plot_confusion_matrix(cm, classes,\n",
    "                          normalize=False,\n",
    "                          title='Confusion matrix',\n",
    "                          cmap=plt.cm.Blues):\n",
    "    \"\"\"\n",
    "    This function prints and plots the confusion matrix.\n",
    "    Normalization can be applied by setting `normalize=True`.\n",
    "    \"\"\"\n",
    "    if normalize:\n",
    "        cm = cm.astype('float') / cm.sum(axis=1)[:, np.newaxis]\n",
    "        print(\"Normalized confusion matrix\")\n",
    "    else:\n",
    "        print('Confusion matrix, without normalization')\n",
    "\n",
    "    print(cm)\n",
    "\n",
    "    plt.imshow(cm, interpolation='nearest', cmap=cmap)\n",
    "    plt.title(title)\n",
    "    plt.colorbar()\n",
    "    tick_marks = np.arange(len(classes))\n",
    "    plt.xticks(tick_marks, classes, rotation=45)\n",
    "    plt.yticks(tick_marks, classes)\n",
    "\n",
    "    fmt = '.2f' if normalize else 'd'\n",
    "    thresh = cm.max() / 2.\n",
    "    for i, j in itertools.product(range(cm.shape[0]), range(cm.shape[1])):\n",
    "        plt.text(j, i, format(cm[i, j], fmt),\n",
    "                 horizontalalignment=\"center\",\n",
    "                 color=\"white\" if cm[i, j] > thresh else \"black\")\n",
    "\n",
    "    plt.ylabel('True label')\n",
    "    plt.xlabel('Predicted label')\n",
    "    plt.tight_layout()"
   ]
  },
  {
   "cell_type": "code",
   "execution_count": 75,
   "id": "2b4fab93",
   "metadata": {},
   "outputs": [
    {
     "name": "stdout",
     "output_type": "stream",
     "text": [
      "Confusion matrix, without normalization\n",
      "[[ 9948  1125  5402]\n",
      " [ 2107  5340  5724]\n",
      " [ 2689  1119 17300]]\n"
     ]
    },
    {
     "data": {
      "text/plain": [
       "Text(0.5, 1.0, 'Confusion Matrix (Train)')"
      ]
     },
     "execution_count": 75,
     "metadata": {},
     "output_type": "execute_result"
    },
    {
     "data": {
      "image/png": "[encoded data removed]",
      "text/plain": [
       "<Figure size 432x288 with 2 Axes>"
      ]
     },
     "metadata": {
      "needs_background": "light"
     },
     "output_type": "display_data"
    }
   ],
   "source": [
    "import seaborn as sns\n",
    "\n",
    "cm = confusion_matrix(y_train, train_preds)\n",
    "plot_confusion_matrix(cm, [-1, 0, 1])\n",
    "plt.title(\"Confusion Matrix (Train)\")"
   ]
  },
  {
   "cell_type": "code",
   "execution_count": 78,
   "id": "bcb2b31a",
   "metadata": {},
   "outputs": [
    {
     "name": "stdout",
     "output_type": "stream",
     "text": [
      "Classification Report for Train\n",
      "              precision    recall  f1-score   support\n",
      "\n",
      "        -1.0       0.67      0.60      0.64     16475\n",
      "         0.0       0.70      0.41      0.51     13171\n",
      "         1.0       0.61      0.82      0.70     21108\n",
      "\n",
      "    accuracy                           0.64     50754\n",
      "   macro avg       0.66      0.61      0.62     50754\n",
      "weighted avg       0.65      0.64      0.63     50754\n",
      "\n"
     ]
    }
   ],
   "source": [
    "from sklearn.metrics import classification_report\n",
    "print(\"Classification Report for Train\")\n",
    "print(classification_report(y_train, train_preds))"
   ]
  },
  {
   "cell_type": "code",
   "execution_count": 79,
   "id": "b328f4a7",
   "metadata": {},
   "outputs": [
    {
     "name": "stdout",
     "output_type": "stream",
     "text": [
      "Classification Report for Test\n",
      "              precision    recall  f1-score   support\n",
      "\n",
      "        -1.0       0.37      0.21      0.27      4651\n",
      "         0.0       0.40      0.19      0.26      3671\n",
      "         1.0       0.40      0.70      0.51      5519\n",
      "\n",
      "    accuracy                           0.40     13841\n",
      "   macro avg       0.39      0.36      0.35     13841\n",
      "weighted avg       0.39      0.40      0.36     13841\n",
      "\n"
     ]
    }
   ],
   "source": [
    "print(\"Classification Report for Test\")\n",
    "print(classification_report(y_test, preds_test))"
   ]
  },
  {
   "cell_type": "code",
   "execution_count": 74,
   "id": "d0ac1711",
   "metadata": {},
   "outputs": [
    {
     "data": {
      "text/plain": [
       " 1.0    21108\n",
       "-1.0    16475\n",
       " 0.0    13171\n",
       "Name: target, dtype: int64"
      ]
     },
     "execution_count": 74,
     "metadata": {},
     "output_type": "execute_result"
    }
   ],
   "source": [
    "y_train.value_counts()"
   ]
  },
  {
   "cell_type": "code",
   "execution_count": 36,
   "id": "bf3e0bde",
   "metadata": {},
   "outputs": [],
   "source": [
    "preds_test = direction_model.predict(X_test[x_vals])"
   ]
  },
  {
   "cell_type": "code",
   "execution_count": 76,
   "id": "e2868f86",
   "metadata": {},
   "outputs": [
    {
     "name": "stdout",
     "output_type": "stream",
     "text": [
      "Confusion matrix, without normalization\n",
      "[[ 959  495 3197]\n",
      " [ 489  703 2479]\n",
      " [1116  557 3846]]\n"
     ]
    },
    {
     "data": {
      "text/plain": [
       "Text(0.5, 1.0, 'Confusion Matrix (Test)')"
      ]
     },
     "execution_count": 76,
     "metadata": {},
     "output_type": "execute_result"
    },
    {
     "data": {
      "image/png": "[encoded data removed]",
      "text/plain": [
       "<Figure size 432x288 with 2 Axes>"
      ]
     },
     "metadata": {
      "needs_background": "light"
     },
     "output_type": "display_data"
    }
   ],
   "source": [
    "import seaborn as sns\n",
    "\n",
    "cm = confusion_matrix(y_test, preds_test)\n",
    "plot_confusion_matrix(cm, [-1, 0, 1])\n",
    "plt.title(\"Confusion Matrix (Test)\")"
   ]
  },
  {
   "cell_type": "code",
   "execution_count": null,
   "id": "654aa233",
   "metadata": {},
   "outputs": [],
   "source": []
  }
 ],
 "metadata": {
  "kernelspec": {
   "display_name": "Python 3 (ipykernel)",
   "language": "python",
   "name": "python3"
  },
  "language_info": {
   "codemirror_mode": {
    "name": "ipython",
    "version": 3
   },
   "file_extension": ".py",
   "mimetype": "text/x-python",
   "name": "python",
   "nbconvert_exporter": "python",
   "pygments_lexer": "ipython3",
   "version": "3.9.15"
  }
 },
 "nbformat": 4,
 "nbformat_minor": 5
}
