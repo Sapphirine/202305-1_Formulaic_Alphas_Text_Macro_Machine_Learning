{
 "cells": [
  {
   "attachments": {},
   "cell_type": "markdown",
   "id": "486ba88d",
   "metadata": {},
   "source": [
    "# Install Packages"
   ]
  },
  {
   "cell_type": "code",
   "execution_count": 3,
   "id": "59060505",
   "metadata": {},
   "outputs": [
    {
     "name": "stdout",
     "output_type": "stream",
     "text": [
      "Requirement already satisfied: numpy_ext in /Users/jonathanbenghiat/.pyenv/versions/3.9.10/envs/phobos/lib/python3.9/site-packages (0.9.8)\n",
      "Requirement already satisfied: numpy<=1.23.1,>=1.20.1 in /Users/jonathanbenghiat/.pyenv/versions/3.9.10/envs/phobos/lib/python3.9/site-packages (from numpy_ext) (1.22.4)\n",
      "Requirement already satisfied: joblib<1.1.0,>=1.0.1 in /Users/jonathanbenghiat/.pyenv/versions/3.9.10/envs/phobos/lib/python3.9/site-packages (from numpy_ext) (1.0.1)\n",
      "\n",
      "\u001b[1m[\u001b[0m\u001b[34;49mnotice\u001b[0m\u001b[1;39;49m]\u001b[0m\u001b[39;49m A new release of pip is available: \u001b[0m\u001b[31;49m23.0.1\u001b[0m\u001b[39;49m -> \u001b[0m\u001b[32;49m23.1.2\u001b[0m\n",
      "\u001b[1m[\u001b[0m\u001b[34;49mnotice\u001b[0m\u001b[1;39;49m]\u001b[0m\u001b[39;49m To update, run: \u001b[0m\u001b[32;49mpip install --upgrade pip\u001b[0m\n",
      "Requirement already satisfied: openpyxl in /Users/jonathanbenghiat/.pyenv/versions/3.9.10/envs/phobos/lib/python3.9/site-packages (3.1.2)\n",
      "Requirement already satisfied: et-xmlfile in /Users/jonathanbenghiat/.pyenv/versions/3.9.10/envs/phobos/lib/python3.9/site-packages (from openpyxl) (1.1.0)\n",
      "\n",
      "\u001b[1m[\u001b[0m\u001b[34;49mnotice\u001b[0m\u001b[1;39;49m]\u001b[0m\u001b[39;49m A new release of pip is available: \u001b[0m\u001b[31;49m23.0.1\u001b[0m\u001b[39;49m -> \u001b[0m\u001b[32;49m23.1.2\u001b[0m\n",
      "\u001b[1m[\u001b[0m\u001b[34;49mnotice\u001b[0m\u001b[1;39;49m]\u001b[0m\u001b[39;49m To update, run: \u001b[0m\u001b[32;49mpip install --upgrade pip\u001b[0m\n"
     ]
    }
   ],
   "source": [
    "!pip install numpy_ext\n",
    "!pip install openpyxl"
   ]
  },
  {
   "attachments": {},
   "cell_type": "markdown",
   "id": "41472938",
   "metadata": {},
   "source": [
    "# Imports"
   ]
  },
  {
   "cell_type": "code",
   "execution_count": 4,
   "id": "c8022e71",
   "metadata": {},
   "outputs": [],
   "source": [
    "import boto3\n",
    "import pandas as pd\n",
    "import glob\n",
    "import numpy as np\n",
    "import pickle\n",
    "import io\n",
    "import os\n",
    "\n",
    "from datetime import datetime, date, timedelta\n",
    "from s3 import write_to_s3, read_from_s3, list_s3_contents, pickle_dump_to_s3"
   ]
  },
  {
   "attachments": {},
   "cell_type": "markdown",
   "id": "02f927da",
   "metadata": {},
   "source": [
    "# Read from S3"
   ]
  },
  {
   "cell_type": "code",
   "execution_count": 7,
   "id": "7fcbdda1",
   "metadata": {},
   "outputs": [
    {
     "name": "stdout",
     "output_type": "stream",
     "text": [
      "Successful S3 get_object response. Status - 200\n"
     ]
    }
   ],
   "source": [
    "training_test_df_monthly = read_from_s3(\"train_test/train_test_21_days.csv\")\n",
    "training_test_df_monthly.date = pd.to_datetime(training_test_df_monthly.date)"
   ]
  },
  {
   "cell_type": "code",
   "execution_count": null,
   "id": "d20bd5ad",
   "metadata": {},
   "outputs": [],
   "source": [
    "lime_samples = training_test_df_monthly.sample(100000)"
   ]
  },
  {
   "cell_type": "code",
   "execution_count": 12,
   "id": "25aff9b8",
   "metadata": {},
   "outputs": [],
   "source": [
    "x_vals = ['alpha001', 'alpha002', 'alpha003', 'alpha004', 'alpha005', 'alpha006', 'alpha007', \n",
    "          'alpha008', 'alpha009', 'alpha010', 'alpha011', 'alpha012', 'alpha013', 'alpha014', \n",
    "          'alpha015', 'alpha016', 'alpha017', 'alpha018', 'alpha019','alpha020','alpha021',\n",
    "          'alpha022','alpha023','alpha024','alpha025','alpha026','alpha027','alpha028',\n",
    "          'alpha029','alpha030','alpha032','alpha033','alpha034','alpha035','alpha036',\n",
    "          'alpha037','alpha038','alpha040','alpha041','alpha042','alpha043','alpha044',\n",
    "          'alpha045','alpha046','alpha047','alpha049','alpha050','alpha051','alpha052',\n",
    "          'alpha053','alpha055','alpha060','alpha061','alpha062','alpha064','alpha065',\n",
    "          'alpha068','alpha074','alpha075','alpha078','alpha081','alpha085','alpha086',\n",
    "          'alpha094','alpha095','alpha099','alpha101','T10Y_minus_2Y','T10Y_minus_2Y_1M_Change',\n",
    "          'Inflation_Breakeven_Level','Inflation_Breakeven_1M_Change','Real_GDP_Level','GDP_Growth_2Q',\n",
    "          'PMI_Surprise_Mom','PMI_1Q_Forecast_Change','nyt_news_ChatGPT_sentiment',\n",
    "          'nyt_news_finbert_positive','nyt_news_finbert_negative','nyt_news_finbert_neutral',\n",
    "          'nyt_news_lmd_negative_words_count','nyt_news_lmd_positive_words_count',\n",
    "          'nyt_news_lmd_uncertain_words_count','nyt_news_lmd_litigious_words_count',\n",
    "          'nyt_news_lmd_strong_modal_words_count','nyt_news_lmd_weak_modal_words_count',\n",
    "          'nyt_news_word_count','nyt_news_news_count','nyt_news_has_nyt_news','analyst_news_lmd_negative_words_count',\n",
    "          'analyst_news_lmd_positive_words_count','analyst_news_lmd_uncertain_words_count',\n",
    "          'analyst_news_lmd_litigious_words_count','analyst_news_lmd_strong_modal_words_count',\n",
    "          'analyst_news_lmd_weak_modal_words_count','analyst_news_finbert_positive',\n",
    "          'analyst_news_finbert_negative','analyst_news_finbert_neutral','analyst_news_news_count',\n",
    "          'analyst_news_has_analyst_news','us_news_lmd_negative_words_count',\n",
    "          'us_news_lmd_positive_words_count','us_news_lmd_uncertain_words_count',\n",
    "          'us_news_lmd_litigious_words_count','us_news_lmd_strong_modal_words_count',\n",
    "          'us_news_lmd_weak_modal_words_count','us_news_finbert_positive','us_news_finbert_negative',\n",
    "          'us_news_finbert_neutral','us_news_news_count','us_news_has_us_news']"
   ]
  },
  {
   "attachments": {},
   "cell_type": "markdown",
   "id": "19e9978b",
   "metadata": {},
   "source": [
    "# Read model"
   ]
  },
  {
   "cell_type": "code",
   "execution_count": 17,
   "id": "6b7cd414",
   "metadata": {},
   "outputs": [
    {
     "name": "stdout",
     "output_type": "stream",
     "text": [
      "Successful S3 get_object response. Status - 200\n"
     ]
    }
   ],
   "source": [
    "direction_model_lgbm = read_from_s3(\"model/LGBM.sav\", format=\"pickle\")[0]"
   ]
  },
  {
   "attachments": {},
   "cell_type": "markdown",
   "id": "937c0555",
   "metadata": {},
   "source": [
    "# Predict using model"
   ]
  },
  {
   "cell_type": "code",
   "execution_count": 19,
   "id": "ac853bae",
   "metadata": {},
   "outputs": [],
   "source": [
    "all_preds_LGBM = direction_model_lgbm.predict(training_test_df_monthly[x_vals])"
   ]
  },
  {
   "cell_type": "code",
   "execution_count": 20,
   "id": "9c39314c",
   "metadata": {},
   "outputs": [],
   "source": [
    "training_test_df_monthly[\"LGBMClassifier\"] = all_preds_LGBM"
   ]
  },
  {
   "attachments": {},
   "cell_type": "markdown",
   "id": "1385eb36",
   "metadata": {},
   "source": [
    "# Output Model Interpretation"
   ]
  },
  {
   "cell_type": "code",
   "execution_count": 21,
   "id": "a2824ec5",
   "metadata": {},
   "outputs": [],
   "source": [
    "from lime.lime_tabular import LimeTabularExplainer"
   ]
  },
  {
   "cell_type": "code",
   "execution_count": 23,
   "id": "d8d2ddf2",
   "metadata": {},
   "outputs": [
    {
     "name": "stderr",
     "output_type": "stream",
     "text": [
      "/Users/jonathanbenghiat/.pyenv/versions/3.9.10/envs/phobos/lib/python3.9/site-packages/sklearn/utils/extmath.py:986: RuntimeWarning: invalid value encountered in true_divide\n",
      "  updated_mean = (last_sum + new_sum) / updated_sample_count\n",
      "/Users/jonathanbenghiat/.pyenv/versions/3.9.10/envs/phobos/lib/python3.9/site-packages/sklearn/utils/extmath.py:991: RuntimeWarning: invalid value encountered in true_divide\n",
      "  T = new_sum / new_sample_count\n",
      "/Users/jonathanbenghiat/.pyenv/versions/3.9.10/envs/phobos/lib/python3.9/site-packages/sklearn/utils/extmath.py:1021: RuntimeWarning: invalid value encountered in true_divide\n",
      "  new_unnormalized_variance -= correction ** 2 / new_sample_count\n"
     ]
    }
   ],
   "source": [
    "# creating the explainer function\n",
    "explainer = LimeTabularExplainer(lime_samples[x_vals].values, mode=\"regression\", feature_names=x_vals)"
   ]
  },
  {
   "attachments": {},
   "cell_type": "markdown",
   "id": "4e0e1d7d",
   "metadata": {},
   "source": [
    "https://github.com/marcotcr/lime/blob/master/lime/explanation.py"
   ]
  },
  {
   "cell_type": "code",
   "execution_count": null,
   "id": "29c19192",
   "metadata": {},
   "outputs": [],
   "source": [
    "from tqdm.notebook import tqdm\n",
    "import os\n",
    "\n",
    "for ticker in tqdm(training_test_df_monthly.ticker.unique()):\n",
    "    curr_ticker_vars = training_test_df_monthly[training_test_df_monthly.ticker == ticker].reset_index(drop=True)\n",
    "    all_explanations = []\n",
    "    \n",
    "    curr_file = f\"dashboard_data/LIME/{ticker}_LGBM_explanation.csv\"\n",
    "    for i in tqdm(range(len(curr_ticker_vars))):\n",
    "        explanation = explainer.explain_instance(curr_ticker_vars[x_vals].iloc[i].values, direction_model_lgbm.predict)\n",
    "        current_exp = pd.DataFrame(explanation.as_list())\n",
    "        current_exp.columns = [\"variable\", \"score_contribution\"]\n",
    "        current_exp[\"ticker\"] = curr_ticker_vars.loc[i, \"ticker\"]\n",
    "        current_exp[\"date\"] = curr_ticker_vars.loc[i, \"date\"]\n",
    "        current_exp[\"target\"] = curr_ticker_vars.loc[i, \"target\"]\n",
    "        current_exp[\"LGBM_Prediction\"] = curr_ticker_vars.loc[i, \"LGBMClassifier\"]\n",
    "        all_explanations.append(current_exp)\n",
    "        \n",
    "    all_explanations_df = pd.concat(all_explanations)\n",
    "    write_to_s3(all_explanations_df.reset_index(drop=True), curr_file)\n",
    "    all_explanations = []"
   ]
  }
 ],
 "metadata": {
  "kernelspec": {
   "display_name": "Python 3 (ipykernel)",
   "language": "python",
   "name": "python3"
  },
  "language_info": {
   "codemirror_mode": {
    "name": "ipython",
    "version": 3
   },
   "file_extension": ".py",
   "mimetype": "text/x-python",
   "name": "python",
   "nbconvert_exporter": "python",
   "pygments_lexer": "ipython3",
   "version": "3.9.10"
  }
 },
 "nbformat": 4,
 "nbformat_minor": 5
}
